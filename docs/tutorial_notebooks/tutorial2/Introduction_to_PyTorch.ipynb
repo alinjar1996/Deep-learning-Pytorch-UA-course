{
  "cells": [
    {
      "cell_type": "markdown",
      "metadata": {
        "id": "Tazr8CehexG3"
      },
      "source": [
        "# Tutorial 2: Introduction to PyTorch\n",
        "\n",
        "![Status](https://img.shields.io/static/v1.svg?label=Status&message=Finished&color=green)\n",
        "\n",
        "**Filled notebook:**\n",
        "[![View filled on Github](https://img.shields.io/static/v1.svg?logo=github&label=Repo&message=View%20On%20Github&color=lightgrey)](https://github.com/phlippe/uvadlc_notebooks/blob/master/docs/tutorial_notebooks/tutorial2/Introduction_to_PyTorch.ipynb)\n",
        "[![Open filled In Collab](https://colab.research.google.com/assets/colab-badge.svg)](https://colab.research.google.com/github/phlippe/uvadlc_notebooks/blob/master/docs/tutorial_notebooks/tutorial2/Introduction_to_PyTorch.ipynb)   \n",
        "**Recordings:**\n",
        "[![YouTube - Part 1](https://img.shields.io/static/v1.svg?logo=youtube&label=YouTube&message=Part%201&color=red)](https://youtu.be/wnKZZgFQY-E)\n",
        "[![YouTube - Part 2](https://img.shields.io/static/v1.svg?logo=youtube&label=YouTube&message=Part%202&color=red)](https://youtu.be/schbjeU5X2g)    \n",
        "**Author:** Phillip Lippe"
      ]
    },
    {
      "cell_type": "markdown",
      "metadata": {
        "id": "8buo172QexG5"
      },
      "source": [
        "Welcome to our PyTorch tutorial for the Deep Learning course at the University of Amsterdam! The following notebook is meant to give a short introduction to PyTorch basics, and get you setup for writing your own neural networks. PyTorch is an open source machine learning framework that allows you to write your own neural networks and optimize them efficiently. However, PyTorch is not the only framework of its kind. Alternatives to PyTorch include [TensorFlow](https://www.tensorflow.org/), [JAX](https://github.com/google/jax#quickstart-colab-in-the-cloud) and [Caffe](http://caffe.berkeleyvision.org/). We choose to teach PyTorch at the University of Amsterdam because it is well established, has a huge developer community (originally developed by Facebook), is very flexible and especially used in research. Many current papers publish their code in PyTorch, and thus it is good to be familiar with PyTorch as well.\n",
        "Meanwhile, TensorFlow (developed by Google) is usually known for being a production-grade deep learning library. Still, if you know one machine learning framework in depth, it is very easy to learn another one because many of them use the same concepts and ideas. For instance, TensorFlow's version 2 was heavily inspired by the most popular features of PyTorch, making the frameworks even more similar.\n",
        "If you are already familiar with PyTorch and have created your own neural network projects, feel free to just skim this notebook.\n",
        "\n",
        "We are of course not the first ones to create a PyTorch tutorial. There are many great tutorials online, including the [\"60-min blitz\"](https://pytorch.org/tutorials/beginner/deep_learning_60min_blitz.html) on the official [PyTorch website](https://pytorch.org/tutorials/). Yet, we choose to create our own tutorial which is designed to give you the basics particularly necessary for the practicals, but still understand how PyTorch works under the hood. Over the next few weeks, we will also keep exploring new PyTorch features in the series of Jupyter notebook tutorials about deep learning.\n",
        "\n",
        "We will use a set of standard libraries that are often used in machine learning projects. If you are running this notebook on Google Colab, all libraries should be pre-installed. If you are running this notebook locally, make sure you have installed our `dl2024` environment and have activated it."
      ]
    },
    {
      "cell_type": "code",
      "execution_count": 1,
      "metadata": {
        "id": "670e0x31exG5",
        "outputId": "702ba0bc-d024-48b7-99ad-fdbb9541a0eb",
        "colab": {
          "base_uri": "https://localhost:8080/"
        }
      },
      "outputs": [
        {
          "output_type": "stream",
          "name": "stderr",
          "text": [
            "<ipython-input-1-ef889392170e>:11: DeprecationWarning: `set_matplotlib_formats` is deprecated since IPython 7.23, directly use `matplotlib_inline.backend_inline.set_matplotlib_formats()`\n",
            "  set_matplotlib_formats('svg', 'pdf') # For export\n"
          ]
        }
      ],
      "source": [
        "## Standard libraries\n",
        "import os\n",
        "import math\n",
        "import numpy as np\n",
        "import time\n",
        "\n",
        "## Imports for plotting\n",
        "import matplotlib.pyplot as plt\n",
        "%matplotlib inline\n",
        "from IPython.display import set_matplotlib_formats\n",
        "set_matplotlib_formats('svg', 'pdf') # For export\n",
        "from matplotlib.colors import to_rgba\n",
        "import seaborn as sns\n",
        "sns.set()\n",
        "\n",
        "## Progress bar\n",
        "from tqdm.notebook import tqdm"
      ]
    },
    {
      "cell_type": "markdown",
      "metadata": {
        "id": "QKS9zNZSexG6"
      },
      "source": [
        "## The Basics of PyTorch\n",
        "\n",
        "We will start with reviewing the very basic concepts of PyTorch. As a prerequisite, we recommend to be familiar with the `numpy` package as most machine learning frameworks are based on very similar concepts. If you are not familiar with numpy yet, don't worry: here is a [tutorial](https://numpy.org/devdocs/user/quickstart.html) to go through.\n",
        "\n",
        "So, let's start with importing PyTorch. The package is called `torch`, based on its original framework [Torch](http://torch.ch/). As a first step, we can check its version:"
      ]
    },
    {
      "cell_type": "code",
      "execution_count": 34,
      "metadata": {
        "id": "DHylJMDiexG6",
        "outputId": "d8a06324-de21-465a-976f-3decd8f4293c",
        "colab": {
          "base_uri": "https://localhost:8080/"
        }
      },
      "outputs": [
        {
          "output_type": "stream",
          "name": "stdout",
          "text": [
            "Using torch 2.5.1+cu121\n"
          ]
        }
      ],
      "source": [
        "import torch\n",
        "print(\"Using torch\", torch.__version__)"
      ]
    },
    {
      "cell_type": "markdown",
      "metadata": {
        "id": "Jgi0_cXyexG6"
      },
      "source": [
        "At the time of writing this tutorial (end of October 2024), the current stable version is 2.4. You should therefore see the output `Using torch 2.4.1`, eventually with some extension for the CUDA version on Colab. In case you use the `dl2024` environment, you should see `Using torch 2.4.1`. In general, it is recommended to keep the PyTorch version updated to the newest one. If you see a lower version number than 2.3, make sure you have installed the correct environment, or ask one of your TAs. In case PyTorch 2.5 or newer will be published during the time of the course, don't worry. The interface between PyTorch versions doesn't change too much, and hence all code should also be runnable with newer versions.\n",
        "\n",
        "As in every machine learning framework, PyTorch provides functions that are stochastic like generating random numbers. However, a very good practice is to setup your code to be reproducible with the exact same random numbers. This is why we set a seed below."
      ]
    },
    {
      "cell_type": "code",
      "execution_count": 3,
      "metadata": {
        "id": "uBY-9EVJexG7",
        "outputId": "7d456c7e-978c-4895-ba3e-9161ccff1c3d",
        "colab": {
          "base_uri": "https://localhost:8080/"
        }
      },
      "outputs": [
        {
          "output_type": "execute_result",
          "data": {
            "text/plain": [
              "<torch._C.Generator at 0x7a6f7fea0db0>"
            ]
          },
          "metadata": {},
          "execution_count": 3
        }
      ],
      "source": [
        "torch.manual_seed(42) # Setting the seed"
      ]
    },
    {
      "cell_type": "markdown",
      "metadata": {
        "id": "hTpPTdjNexG7"
      },
      "source": [
        "### Tensors\n",
        "\n",
        "Tensors are the PyTorch equivalent to Numpy arrays, with the addition to also have support for GPU acceleration (more on that later).\n",
        "The name \"tensor\" is a generalization of concepts you already know. For instance, a vector is a 1-D tensor, and a matrix a 2-D tensor. When working with neural networks, we will use tensors of various shapes and number of dimensions.\n",
        "\n",
        "Most common functions you know from numpy can be used on tensors as well. Actually, since numpy arrays are so similar to tensors, we can convert most tensors to numpy arrays (and back) but we don't need it too often.\n",
        "\n",
        "#### Initialization\n",
        "\n",
        "Let's first start by looking at different ways of creating a tensor. There are many possible options, the simplest one is to call `torch.Tensor` passing the desired shape as input argument:"
      ]
    },
    {
      "cell_type": "code",
      "execution_count": 35,
      "metadata": {
        "id": "WRdO0kLMexG7",
        "outputId": "09e2501f-49bf-4937-af93-439249a4e8a2",
        "colab": {
          "base_uri": "https://localhost:8080/"
        }
      },
      "outputs": [
        {
          "output_type": "stream",
          "name": "stdout",
          "text": [
            "tensor([[[2.1715e-18, 1.0802e-05, 6.5922e-10, 5.4882e-05],\n",
            "         [5.4659e+22, 1.3553e-05, 4.2186e-08, 1.0314e-08],\n",
            "         [8.4578e+20, 6.5619e-10, 1.4580e-19, 1.1495e+24]],\n",
            "\n",
            "        [[3.0881e+29, 1.5766e-19, 7.3313e+22, 7.2151e+22],\n",
            "         [2.8404e+29, 2.3089e-12, 1.9421e+31, 2.7491e+20],\n",
            "         [6.1949e-04, 1.9421e+31, 2.7491e+20, 2.3078e-12]]])\n"
          ]
        }
      ],
      "source": [
        "x = torch.Tensor(2, 3, 4)\n",
        "print(x)"
      ]
    },
    {
      "cell_type": "markdown",
      "metadata": {
        "id": "yhOovutVexG7"
      },
      "source": [
        "The function `torch.Tensor` allocates memory for the desired tensor, but reuses any values that have already been in the memory. To directly assign values to the tensor during initialization, there are many alternatives including:\n",
        "\n",
        "* `torch.zeros`: Creates a tensor filled with zeros\n",
        "* `torch.ones`: Creates a tensor filled with ones\n",
        "* `torch.rand`: Creates a tensor with random values uniformly sampled between 0 and 1\n",
        "* `torch.randn`: Creates a tensor with random values sampled from a normal distribution with mean 0 and variance 1\n",
        "* `torch.arange`: Creates a tensor containing the values $N,N+1,N+2,...,M$\n",
        "* `torch.Tensor` (input list): Creates a tensor from the list elements you provide"
      ]
    },
    {
      "cell_type": "code",
      "execution_count": 5,
      "metadata": {
        "id": "PlhGciT1exG7",
        "outputId": "2c774e95-a1d6-4502-b16c-539fa7b41e0d",
        "colab": {
          "base_uri": "https://localhost:8080/"
        }
      },
      "outputs": [
        {
          "output_type": "stream",
          "name": "stdout",
          "text": [
            "tensor([[1., 2.],\n",
            "        [3., 4.]])\n"
          ]
        }
      ],
      "source": [
        "# Create a tensor from a (nested) list\n",
        "x = torch.Tensor([[1, 2], [3, 4]])\n",
        "print(x)"
      ]
    },
    {
      "cell_type": "code",
      "execution_count": 36,
      "metadata": {
        "id": "DbeT-6iGexG8",
        "outputId": "0a849ead-ab3f-43bb-f3c5-55032205a0f9",
        "colab": {
          "base_uri": "https://localhost:8080/"
        }
      },
      "outputs": [
        {
          "output_type": "stream",
          "name": "stdout",
          "text": [
            "tensor([[[0.4552, 0.9206, 0.7706, 0.5872],\n",
            "         [0.0161, 0.8523, 0.8442, 0.2752],\n",
            "         [0.7025, 0.0834, 0.2472, 0.3491]],\n",
            "\n",
            "        [[0.0466, 0.4695, 0.6024, 0.6455],\n",
            "         [0.9679, 0.7888, 0.0425, 0.3431],\n",
            "         [0.7801, 0.0201, 0.4691, 0.6892]]])\n"
          ]
        }
      ],
      "source": [
        "# Create a tensor with random values between 0 and 1 with the shape [2, 3, 4]\n",
        "x = torch.rand(2, 3, 4)\n",
        "print(x)"
      ]
    },
    {
      "cell_type": "markdown",
      "metadata": {
        "id": "iSJi2J5DexG8"
      },
      "source": [
        "You can obtain the shape of a tensor in the same way as in numpy (`x.shape`), or using the `.size` method:"
      ]
    },
    {
      "cell_type": "code",
      "execution_count": 37,
      "metadata": {
        "id": "NiulkquyexG8",
        "outputId": "3e7ebe94-2540-4e80-b0ab-e797996baf75",
        "colab": {
          "base_uri": "https://localhost:8080/"
        }
      },
      "outputs": [
        {
          "output_type": "stream",
          "name": "stdout",
          "text": [
            "Shape: torch.Size([2, 3, 4])\n",
            "Size: torch.Size([2, 3, 4])\n",
            "Size: 2 3 4\n"
          ]
        }
      ],
      "source": [
        "shape = x.shape\n",
        "print(\"Shape:\", x.shape)\n",
        "\n",
        "size = x.size()\n",
        "print(\"Size:\", size)\n",
        "\n",
        "dim1, dim2, dim3 = x.size()\n",
        "print(\"Size:\", dim1, dim2, dim3)"
      ]
    },
    {
      "cell_type": "markdown",
      "metadata": {
        "id": "n3HxpATwexG8"
      },
      "source": [
        "#### Tensor to Numpy, and Numpy to Tensor\n",
        "\n",
        "Tensors can be converted to numpy arrays, and numpy arrays back to tensors. To transform a numpy array into a tensor, we can use the function `torch.from_numpy`:"
      ]
    },
    {
      "cell_type": "code",
      "execution_count": 38,
      "metadata": {
        "id": "xHUc2FDdexG8",
        "outputId": "8dd0791d-5c5c-48cc-d9a1-ff7881a246ef",
        "colab": {
          "base_uri": "https://localhost:8080/"
        }
      },
      "outputs": [
        {
          "output_type": "stream",
          "name": "stdout",
          "text": [
            "Numpy array: [[1 2]\n",
            " [3 4]]\n",
            "PyTorch tensor: tensor([[1, 2],\n",
            "        [3, 4]])\n"
          ]
        }
      ],
      "source": [
        "np_arr = np.array([[1, 2], [3, 4]])\n",
        "tensor = torch.from_numpy(np_arr)\n",
        "\n",
        "print(\"Numpy array:\", np_arr)\n",
        "print(\"PyTorch tensor:\", tensor)"
      ]
    },
    {
      "cell_type": "markdown",
      "metadata": {
        "id": "msDcaQzbexG8"
      },
      "source": [
        "To transform a PyTorch tensor back to a numpy array, we can use the function `.numpy()` on tensors:"
      ]
    },
    {
      "cell_type": "code",
      "execution_count": 39,
      "metadata": {
        "id": "4RTz0OO5exG8",
        "outputId": "951aa1a5-6617-4807-bcbc-15609df1875d",
        "colab": {
          "base_uri": "https://localhost:8080/"
        }
      },
      "outputs": [
        {
          "output_type": "stream",
          "name": "stdout",
          "text": [
            "PyTorch tensor: tensor([0, 1, 2, 3])\n",
            "Numpy array: [0 1 2 3]\n"
          ]
        }
      ],
      "source": [
        "tensor = torch.arange(4)\n",
        "np_arr = tensor.numpy()\n",
        "\n",
        "print(\"PyTorch tensor:\", tensor)\n",
        "print(\"Numpy array:\", np_arr)"
      ]
    },
    {
      "cell_type": "markdown",
      "metadata": {
        "id": "ESBQVB6rexG8"
      },
      "source": [
        "The conversion of tensors to numpy require the tensor to be on the CPU, and not the GPU (more on GPU support in a later section). In case you have a tensor on GPU, you need to call `.cpu()` on the tensor beforehand. Hence, you get a line like `np_arr = tensor.cpu().numpy()`."
      ]
    },
    {
      "cell_type": "markdown",
      "metadata": {
        "id": "41Xmcz3wexG8"
      },
      "source": [
        "#### Operations\n",
        "\n",
        "Most operations that exist in numpy, also exist in PyTorch. A full list of operations can be found in the [PyTorch documentation](https://pytorch.org/docs/stable/tensors.html#), but we will review the most important ones here.\n",
        "\n",
        "The simplest operation is to add two tensors:"
      ]
    },
    {
      "cell_type": "code",
      "execution_count": 40,
      "metadata": {
        "id": "1reZAd5HexG8",
        "outputId": "9ef866c7-5c0e-4163-af2b-92c7b47ca078",
        "colab": {
          "base_uri": "https://localhost:8080/"
        }
      },
      "outputs": [
        {
          "output_type": "stream",
          "name": "stdout",
          "text": [
            "X1 tensor([[0.1647, 0.9289, 0.1704],\n",
            "        [0.1332, 0.1205, 0.4124]])\n",
            "X2 tensor([[0.6670, 0.6440, 0.2529],\n",
            "        [0.9373, 0.2321, 0.8923]])\n",
            "Y tensor([[0.8317, 1.5729, 0.4233],\n",
            "        [1.0705, 0.3525, 1.3047]])\n"
          ]
        }
      ],
      "source": [
        "x1 = torch.rand(2, 3)\n",
        "x2 = torch.rand(2, 3)\n",
        "y = x1 + x2\n",
        "\n",
        "print(\"X1\", x1)\n",
        "print(\"X2\", x2)\n",
        "print(\"Y\", y)"
      ]
    },
    {
      "cell_type": "markdown",
      "metadata": {
        "id": "GDb4BIBYexG8"
      },
      "source": [
        "Calling `x1 + x2` creates a new tensor containing the sum of the two inputs. However, we can also use in-place operations that are applied directly on the memory of a tensor. We therefore change the values of `x2` without the chance to re-accessing the values of `x2` before the operation. An example is shown below:"
      ]
    },
    {
      "cell_type": "code",
      "execution_count": 41,
      "metadata": {
        "id": "MR9EBavHexG8",
        "outputId": "8017876c-94fc-4a0d-dfe0-97e202ec1b51",
        "colab": {
          "base_uri": "https://localhost:8080/"
        }
      },
      "outputs": [
        {
          "output_type": "stream",
          "name": "stdout",
          "text": [
            "X1 (before) tensor([[0.6680, 0.3387, 0.8698],\n",
            "        [0.6658, 0.0749, 0.7541]])\n",
            "X2 (before) tensor([[0.9729, 0.1260, 0.3946],\n",
            "        [0.0965, 0.8352, 0.7653]])\n",
            "X1 (after) tensor([[0.6680, 0.3387, 0.8698],\n",
            "        [0.6658, 0.0749, 0.7541]])\n",
            "X2 (after) tensor([[1.6408, 0.4647, 1.2644],\n",
            "        [0.7623, 0.9101, 1.5194]])\n"
          ]
        }
      ],
      "source": [
        "x1 = torch.rand(2, 3)\n",
        "x2 = torch.rand(2, 3)\n",
        "print(\"X1 (before)\", x1)\n",
        "print(\"X2 (before)\", x2)\n",
        "\n",
        "x2.add_(x1)\n",
        "print(\"X1 (after)\", x1)\n",
        "print(\"X2 (after)\", x2)"
      ]
    },
    {
      "cell_type": "markdown",
      "metadata": {
        "id": "8j65nEgWexG9"
      },
      "source": [
        "In-place operations are usually marked with a underscore postfix (e.g. \"add_\" instead of \"add\").\n",
        "\n",
        "Another common operation aims at changing the shape of a tensor. A tensor of size (2,3) can be re-organized to any other shape with the same number of elements (e.g. a tensor of size (6), or (3,2), ...). In PyTorch, this operation is called `view`:"
      ]
    },
    {
      "cell_type": "code",
      "execution_count": 42,
      "metadata": {
        "id": "ICbJEdYGexG9",
        "outputId": "2b363633-6819-4407-88d1-f46256f9b70b",
        "colab": {
          "base_uri": "https://localhost:8080/"
        }
      },
      "outputs": [
        {
          "output_type": "stream",
          "name": "stdout",
          "text": [
            "X tensor([0, 1, 2, 3, 4, 5])\n"
          ]
        }
      ],
      "source": [
        "x = torch.arange(6)\n",
        "print(\"X\", x)"
      ]
    },
    {
      "cell_type": "code",
      "execution_count": 43,
      "metadata": {
        "id": "Bq07fRyMexG9",
        "outputId": "5a43b68c-c5fc-45f0-ec5d-d3a2820e573a",
        "colab": {
          "base_uri": "https://localhost:8080/"
        }
      },
      "outputs": [
        {
          "output_type": "stream",
          "name": "stdout",
          "text": [
            "X tensor([[0, 1, 2],\n",
            "        [3, 4, 5]])\n"
          ]
        }
      ],
      "source": [
        "x = x.view(2, 3)\n",
        "print(\"X\", x)"
      ]
    },
    {
      "cell_type": "code",
      "execution_count": 44,
      "metadata": {
        "id": "92ru4XbCexG9",
        "outputId": "80411069-1cce-4950-b24f-40523c8aeebc",
        "colab": {
          "base_uri": "https://localhost:8080/"
        }
      },
      "outputs": [
        {
          "output_type": "stream",
          "name": "stdout",
          "text": [
            "X tensor([[0, 3],\n",
            "        [1, 4],\n",
            "        [2, 5]])\n"
          ]
        }
      ],
      "source": [
        "x = x.permute(1, 0) # Swapping dimension 0 and 1\n",
        "print(\"X\", x)"
      ]
    },
    {
      "cell_type": "markdown",
      "metadata": {
        "id": "98HSUwkiexG9"
      },
      "source": [
        "Other commonly used operations include matrix multiplications, which are essential for neural networks. Quite often, we have an input vector $\\mathbf{x}$, which is transformed using a learned weight matrix $\\mathbf{W}$. There are multiple ways and functions to perform matrix multiplication, some of which we list below:\n",
        "\n",
        "* `torch.matmul`: Performs the matrix product over two tensors, where the specific behavior depends on the dimensions. If both inputs are matrices (2-dimensional tensors), it performs the standard matrix product. For higher dimensional inputs, the function supports broadcasting (for details see the [documentation](https://pytorch.org/docs/stable/generated/torch.matmul.html?highlight=matmul#torch.matmul)). Can also be written as `a @ b`, similar to numpy.\n",
        "* `torch.mm`: Performs the matrix product over two matrices, but doesn't support broadcasting (see [documentation](https://pytorch.org/docs/stable/generated/torch.mm.html?highlight=torch%20mm#torch.mm))\n",
        "* `torch.bmm`: Performs the matrix product with a support batch dimension. If the first tensor $T$ is of shape ($b\\times n\\times m$), and the second tensor $R$ ($b\\times m\\times p$), the output $O$ is of shape ($b\\times n\\times p$), and has been calculated by performing $b$ matrix multiplications of the submatrices of $T$ and $R$: $O_i = T_i @ R_i$\n",
        "* `torch.einsum`: Performs matrix multiplications and more (i.e. sums of products) using the Einstein summation convention. Explanation of the Einstein sum can be found in assignment 1.\n",
        "\n",
        "Usually, we use `torch.matmul` or `torch.bmm`. We can try a matrix multiplication with `torch.matmul` below."
      ]
    },
    {
      "cell_type": "code",
      "execution_count": 45,
      "metadata": {
        "id": "O2_w33S9exG9",
        "outputId": "daae57dd-bd11-4be6-c07e-296afb2265e8",
        "colab": {
          "base_uri": "https://localhost:8080/"
        }
      },
      "outputs": [
        {
          "output_type": "stream",
          "name": "stdout",
          "text": [
            "X tensor([[0, 1, 2],\n",
            "        [3, 4, 5]])\n"
          ]
        }
      ],
      "source": [
        "x = torch.arange(6)\n",
        "x = x.view(2, 3)\n",
        "print(\"X\", x)"
      ]
    },
    {
      "cell_type": "code",
      "execution_count": 46,
      "metadata": {
        "id": "JrCHTJtoexG9",
        "outputId": "d98577ff-bca0-4072-f59c-64c5e9759af1",
        "colab": {
          "base_uri": "https://localhost:8080/"
        }
      },
      "outputs": [
        {
          "output_type": "stream",
          "name": "stdout",
          "text": [
            "W tensor([[0, 1, 2],\n",
            "        [3, 4, 5],\n",
            "        [6, 7, 8]])\n"
          ]
        }
      ],
      "source": [
        "W = torch.arange(9).view(3, 3) # We can also stack multiple operations in a single line\n",
        "print(\"W\", W)"
      ]
    },
    {
      "cell_type": "code",
      "execution_count": 47,
      "metadata": {
        "id": "KR1qBqqoexG9",
        "outputId": "0cb741b2-7da0-483d-c9fe-eb4a5959876f",
        "colab": {
          "base_uri": "https://localhost:8080/"
        }
      },
      "outputs": [
        {
          "output_type": "stream",
          "name": "stdout",
          "text": [
            "h tensor([[15, 18, 21],\n",
            "        [42, 54, 66]])\n"
          ]
        }
      ],
      "source": [
        "h = torch.matmul(x, W) # Verify the result by calculating it by hand too!\n",
        "print(\"h\", h)"
      ]
    },
    {
      "cell_type": "markdown",
      "metadata": {
        "id": "EkiLqfLxexG9"
      },
      "source": [
        "#### Indexing\n",
        "\n",
        "We often have the situation where we need to select a part of a tensor. Indexing works just like in numpy, so let's try it:"
      ]
    },
    {
      "cell_type": "code",
      "execution_count": 48,
      "metadata": {
        "id": "K4KTPZsJexG9",
        "outputId": "663a9cc3-d2e1-44f5-b6c0-5dcfd0b356ed",
        "colab": {
          "base_uri": "https://localhost:8080/"
        }
      },
      "outputs": [
        {
          "output_type": "stream",
          "name": "stdout",
          "text": [
            "X tensor([[ 0,  1,  2,  3],\n",
            "        [ 4,  5,  6,  7],\n",
            "        [ 8,  9, 10, 11]])\n"
          ]
        }
      ],
      "source": [
        "x = torch.arange(12).view(3, 4)\n",
        "print(\"X\", x)"
      ]
    },
    {
      "cell_type": "code",
      "execution_count": 49,
      "metadata": {
        "id": "ghSQIwuHexG9",
        "outputId": "b6cc818e-9132-4dcc-e531-7cd0f3139c03",
        "colab": {
          "base_uri": "https://localhost:8080/"
        }
      },
      "outputs": [
        {
          "output_type": "stream",
          "name": "stdout",
          "text": [
            "tensor([1, 5, 9])\n"
          ]
        }
      ],
      "source": [
        "print(x[:, 1])   # Second column"
      ]
    },
    {
      "cell_type": "code",
      "execution_count": 50,
      "metadata": {
        "id": "lfeVBrwmexG9",
        "outputId": "ca97fc20-0ce2-4c1a-a641-51ae0fa984e9",
        "colab": {
          "base_uri": "https://localhost:8080/"
        }
      },
      "outputs": [
        {
          "output_type": "stream",
          "name": "stdout",
          "text": [
            "tensor([0, 1, 2, 3])\n"
          ]
        }
      ],
      "source": [
        "print(x[0])      # First row"
      ]
    },
    {
      "cell_type": "code",
      "execution_count": 51,
      "metadata": {
        "id": "2ntQAmVQexG9",
        "outputId": "191d375f-d28d-4d60-801d-82691c6b7e56",
        "colab": {
          "base_uri": "https://localhost:8080/"
        }
      },
      "outputs": [
        {
          "output_type": "stream",
          "name": "stdout",
          "text": [
            "tensor([3, 7])\n"
          ]
        }
      ],
      "source": [
        "print(x[:2, -1]) # First two rows, last column"
      ]
    },
    {
      "cell_type": "code",
      "execution_count": 52,
      "metadata": {
        "id": "Q32OQl9HexG9",
        "outputId": "07353e68-4ad2-4919-da74-ce003c59bc3d",
        "colab": {
          "base_uri": "https://localhost:8080/"
        }
      },
      "outputs": [
        {
          "output_type": "stream",
          "name": "stdout",
          "text": [
            "tensor([[ 4,  5,  6,  7],\n",
            "        [ 8,  9, 10, 11]])\n"
          ]
        }
      ],
      "source": [
        "print(x[1:3, :]) # Middle two rows"
      ]
    },
    {
      "cell_type": "markdown",
      "metadata": {
        "id": "jbde_g7VexG9"
      },
      "source": [
        "### Dynamic Computation Graph and Backpropagation\n",
        "\n",
        "One of the main reasons for using PyTorch in Deep Learning projects is that we can automatically get **gradients/derivatives** of functions that we define. We will mainly use PyTorch for implementing neural networks, and they are just fancy functions. If we use weight matrices in our function that we want to learn, then those are called the **parameters** or simply the **weights**.\n",
        "\n",
        "If our neural network would output a single scalar value, we would talk about taking the **derivative**, but you will see that quite often we will have **multiple** output variables (\"values\"); in that case we talk about **gradients**. It's a more general term.\n",
        "\n",
        "Given an input $\\mathbf{x}$, we define our function by **manipulating** that input, usually by matrix-multiplications with weight matrices and additions with so-called bias vectors. As we manipulate our input, we are automatically creating a **computational graph**. This graph shows how to arrive at our output from our input.\n",
        "PyTorch is a **define-by-run** framework; this means that we can just do our manipulations, and PyTorch will keep track of that graph for us. Thus, we create a dynamic computation graph along the way.\n",
        "\n",
        "So, to recap: the only thing we have to do is to compute the **output**, and then we can ask PyTorch to automatically get the **gradients**.\n",
        "\n",
        "> **Note:  Why do we want gradients?** Consider that we have defined a function, a neural net, that is supposed to compute a certain output $y$ for an input vector $\\mathbf{x}$. We then define an **error measure** that tells us how wrong our network is; how bad it is in predicting output $y$ from input $\\mathbf{x}$. Based on this error measure, we can use the gradients to **update** the weights $\\mathbf{W}$ that were responsible for the output, so that the next time we present input $\\mathbf{x}$ to our network, the output will be closer to what we want.\n",
        "\n",
        "The first thing we have to do is to specify which tensors require gradients. By default, when we create a tensor, it does not require gradients."
      ]
    },
    {
      "cell_type": "code",
      "execution_count": 53,
      "metadata": {
        "id": "Ep5XJJCrexG9",
        "outputId": "08000a9f-a74e-44e1-ed8c-307117dbb8e5",
        "colab": {
          "base_uri": "https://localhost:8080/"
        }
      },
      "outputs": [
        {
          "output_type": "stream",
          "name": "stdout",
          "text": [
            "False\n"
          ]
        }
      ],
      "source": [
        "x = torch.ones((3,))\n",
        "print(x.requires_grad)"
      ]
    },
    {
      "cell_type": "markdown",
      "metadata": {
        "id": "mVze7cnJexHB"
      },
      "source": [
        "We can change this for an existing tensor using the function `requires_grad_()` (underscore indicating that this is a in-place operation). Alternatively, when creating a tensor, you can pass the argument `requires_grad=True` to most initializers we have seen above."
      ]
    },
    {
      "cell_type": "code",
      "execution_count": 54,
      "metadata": {
        "id": "kfOW-c7fexHB",
        "outputId": "b9690f69-d848-460e-81f7-031449f0bd4f",
        "colab": {
          "base_uri": "https://localhost:8080/"
        }
      },
      "outputs": [
        {
          "output_type": "stream",
          "name": "stdout",
          "text": [
            "True\n"
          ]
        }
      ],
      "source": [
        "x.requires_grad_(True)\n",
        "print(x.requires_grad)"
      ]
    },
    {
      "cell_type": "markdown",
      "metadata": {
        "id": "TKGo1XizexHB"
      },
      "source": [
        "In order to get familiar with the concept of a computation graph, we will create one for the following function:\n",
        "\n",
        "$$y = \\frac{1}{\\ell(x)}\\sum_i \\left[(x_i + 2)^2 + 3\\right],$$\n",
        "\n",
        "where we use $\\ell(x)$ to denote the number of elements in $x$. In other words, we are taking a mean here over the operation within the sum. You could imagine that $x$ are our parameters, and we want to optimize (either maximize or minimize) the output $y$. For this, we want to obtain the gradients $\\partial y / \\partial \\mathbf{x}$. For our example, we'll use $\\mathbf{x}=[0,1,2]$ as our input."
      ]
    },
    {
      "cell_type": "code",
      "execution_count": 55,
      "metadata": {
        "id": "Y9yamSY1exHB",
        "outputId": "012193b4-6908-4ea0-c205-eb398c4bab24",
        "colab": {
          "base_uri": "https://localhost:8080/"
        }
      },
      "outputs": [
        {
          "output_type": "stream",
          "name": "stdout",
          "text": [
            "X tensor([0., 1., 2.], requires_grad=True)\n"
          ]
        }
      ],
      "source": [
        "x = torch.arange(3, dtype=torch.float32, requires_grad=True) # Only float tensors can have gradients\n",
        "print(\"X\", x)"
      ]
    },
    {
      "cell_type": "markdown",
      "metadata": {
        "id": "RXxFvxAKexHB"
      },
      "source": [
        "Now let's build the computation graph step by step. You can combine multiple operations in a single line, but we will separate them here to get a better understanding of how each operation is added to the computation graph."
      ]
    },
    {
      "cell_type": "code",
      "execution_count": 56,
      "metadata": {
        "id": "krKdaKa-exHB",
        "outputId": "f3aebaf4-53f3-4f6b-e9a9-78e223739ae1",
        "colab": {
          "base_uri": "https://localhost:8080/"
        }
      },
      "outputs": [
        {
          "output_type": "stream",
          "name": "stdout",
          "text": [
            "Y tensor(12.6667, grad_fn=<MeanBackward0>)\n"
          ]
        }
      ],
      "source": [
        "a = x + 2\n",
        "b = a ** 2\n",
        "c = b + 3\n",
        "y = c.mean()\n",
        "print(\"Y\", y)"
      ]
    },
    {
      "cell_type": "markdown",
      "metadata": {
        "id": "vV9KeeLxexHB"
      },
      "source": [
        "Using the statements above, we have created a computation graph that looks similar to the figure below:\n",
        "\n",
        "<center style=\"width: 100%\"><img src=\"https://github.com/phlippe/uvadlc_notebooks/blob/master/docs/tutorial_notebooks/tutorial2/pytorch_computation_graph.svg?raw=1\" width=\"200px\"></center>\n",
        "\n",
        "We calculate $a$ based on the inputs $x$ and the constant $2$, $b$ is $a$ squared, and so on. The visualization is an abstraction of the dependencies between inputs and outputs of the operations we have applied.\n",
        "Each node of the computation graph has automatically defined a function for calculating the gradients with respect to its inputs, `grad_fn`. You can see this when we printed the output tensor $y$. This is why the computation graph is usually visualized in the reverse direction (arrows point from the result to the inputs). We can perform backpropagation on the computation graph by calling the function `backward()` on the last output, which effectively calculates the gradients for each tensor that has the property `requires_grad=True`:"
      ]
    },
    {
      "cell_type": "code",
      "execution_count": 57,
      "metadata": {
        "id": "rfGiAOH_exHB"
      },
      "outputs": [],
      "source": [
        "y.backward()"
      ]
    },
    {
      "cell_type": "markdown",
      "metadata": {
        "id": "DzlLGmSTexHB"
      },
      "source": [
        "`x.grad` will now contain the gradient $\\partial y/ \\partial \\mathcal{x}$, and this gradient indicates how a change in $\\mathbf{x}$ will affect output $y$ given the current input $\\mathbf{x}=[0,1,2]$:"
      ]
    },
    {
      "cell_type": "code",
      "execution_count": 58,
      "metadata": {
        "id": "ldms8CbCexHB",
        "outputId": "03435eca-043f-42b0-c650-97e2d7a3c852",
        "colab": {
          "base_uri": "https://localhost:8080/"
        }
      },
      "outputs": [
        {
          "output_type": "stream",
          "name": "stdout",
          "text": [
            "tensor([1.3333, 2.0000, 2.6667])\n"
          ]
        }
      ],
      "source": [
        "print(x.grad)"
      ]
    },
    {
      "cell_type": "markdown",
      "metadata": {
        "id": "UUVQ2BhgexHB"
      },
      "source": [
        "We can also verify these gradients by hand. We will calculate the gradients using the chain rule, in the same way as PyTorch did it:\n",
        "\n",
        "$$\\frac{\\partial y}{\\partial x_i} = \\frac{\\partial y}{\\partial c_i}\\frac{\\partial c_i}{\\partial b_i}\\frac{\\partial b_i}{\\partial a_i}\\frac{\\partial a_i}{\\partial x_i}$$\n",
        "\n",
        "Note that we have simplified this equation to index notation, and by using the fact that all operation besides the mean do not combine the elements in the tensor. The partial derivatives are:\n",
        "\n",
        "$$\n",
        "\\frac{\\partial a_i}{\\partial x_i} = 1,\\hspace{1cm}\n",
        "\\frac{\\partial b_i}{\\partial a_i} = 2\\cdot a_i\\hspace{1cm}\n",
        "\\frac{\\partial c_i}{\\partial b_i} = 1\\hspace{1cm}\n",
        "\\frac{\\partial y}{\\partial c_i} = \\frac{1}{3}\n",
        "$$\n",
        "\n",
        "Hence, with the input being $\\mathbf{x}=[0,1,2]$, our gradients are $\\partial y/\\partial \\mathbf{x}=[4/3,2,8/3]$. The previous code cell should have printed the same result."
      ]
    },
    {
      "cell_type": "markdown",
      "metadata": {
        "id": "NRBn4_ZCexHC"
      },
      "source": [
        "### GPU support\n",
        "\n",
        "A crucial feature of PyTorch is the support of GPUs, short for Graphics Processing Unit. A GPU can perform many thousands of small operations in parallel, making it very well suitable for performing large matrix operations in neural networks. When comparing GPUs to CPUs, we can list the following main differences (credit: [Kevin Krewell, 2009](https://blogs.nvidia.com/blog/2009/12/16/whats-the-difference-between-a-cpu-and-a-gpu/))\n",
        "\n",
        "<center style=\"width: 100%\"><img src=\"https://github.com/phlippe/uvadlc_notebooks/blob/master/docs/tutorial_notebooks/tutorial2/comparison_CPU_GPU.png?raw=1\" width=\"700px\"></center>\n",
        "\n",
        "CPUs and GPUs have both different advantages and disadvantages, which is why many computers contain both components and use them for different tasks. In case you are not familiar with GPUs, you can read up more details in this [NVIDIA blog post](https://blogs.nvidia.com/blog/2009/12/16/whats-the-difference-between-a-cpu-and-a-gpu/) or [here](https://www.intel.com/content/www/us/en/products/docs/processors/what-is-a-gpu.html).\n",
        "\n",
        "GPUs can accelerate the training of your network up to a factor of $100$ which is essential for large neural networks. PyTorch implements a lot of functionality for supporting GPUs (mostly those of NVIDIA due to the libraries [CUDA](https://developer.nvidia.com/cuda-zone) and [cuDNN](https://developer.nvidia.com/cudnn)). First, let's check whether you have a GPU available:"
      ]
    },
    {
      "cell_type": "code",
      "execution_count": 59,
      "metadata": {
        "id": "XGWiReimexHC",
        "outputId": "6221e541-89e9-4835-c7bb-684c2b519c34",
        "colab": {
          "base_uri": "https://localhost:8080/"
        }
      },
      "outputs": [
        {
          "output_type": "stream",
          "name": "stdout",
          "text": [
            "Is the GPU available? True\n"
          ]
        }
      ],
      "source": [
        "gpu_avail = torch.cuda.is_available()\n",
        "print(f\"Is the GPU available? {gpu_avail}\")"
      ]
    },
    {
      "cell_type": "markdown",
      "metadata": {
        "id": "zE9p7QEDexHC"
      },
      "source": [
        "If you have a GPU on your computer but the command above returns False, make sure you have the correct CUDA-version installed. The `dl2024` environment comes with the CUDA 12.4, which is selected for the Snellius supercomputer. Please change it if necessary. On Google Colab, make sure that you have selected a GPU in your runtime setup (in the menu, check under `Runtime -> Change runtime type`).\n",
        "\n",
        "By default, all tensors you create are stored on the CPU. We can push a tensor to the GPU by using the function `.to(...)`, or `.cuda()`. However, it is often a good practice to define a `device` object in your code which points to the GPU if you have one, and otherwise to the CPU. Then, you can write your code with respect to this device object, and it allows you to run the same code on both a CPU-only system, and one with a GPU. Let's try it below. We can specify the device as follows:"
      ]
    },
    {
      "cell_type": "code",
      "execution_count": 60,
      "metadata": {
        "id": "N8r2EvjSexHC",
        "outputId": "808938f3-2da8-43ec-8136-cbc5dce0c815",
        "colab": {
          "base_uri": "https://localhost:8080/"
        }
      },
      "outputs": [
        {
          "output_type": "stream",
          "name": "stdout",
          "text": [
            "Device cuda\n"
          ]
        }
      ],
      "source": [
        "device = torch.device(\"cuda\") if torch.cuda.is_available() else torch.device(\"cpu\")\n",
        "print(\"Device\", device)"
      ]
    },
    {
      "cell_type": "markdown",
      "metadata": {
        "id": "0RJJnHb5exHC"
      },
      "source": [
        "Now let's create a tensor and push it to the device:"
      ]
    },
    {
      "cell_type": "code",
      "execution_count": 61,
      "metadata": {
        "id": "DvnbsdubexHC",
        "outputId": "7848493a-0729-4b1a-9f5e-bbe9c387ba78",
        "colab": {
          "base_uri": "https://localhost:8080/"
        }
      },
      "outputs": [
        {
          "output_type": "stream",
          "name": "stdout",
          "text": [
            "X tensor([[0., 0., 0.],\n",
            "        [0., 0., 0.]], device='cuda:0')\n"
          ]
        }
      ],
      "source": [
        "x = torch.zeros(2, 3)\n",
        "x = x.to(device)\n",
        "print(\"X\", x)"
      ]
    },
    {
      "cell_type": "markdown",
      "metadata": {
        "id": "2nVLeQhgexHC"
      },
      "source": [
        "In case you have a GPU, you should now see the attribute `device='cuda:0'` being printed next to your tensor. The zero next to cuda indicates that this is the zero-th GPU device on your computer. PyTorch also supports multi-GPU systems, but this you will only need once you have very big networks to train (if interested, see the [PyTorch documentation](https://pytorch.org/docs/stable/distributed.html#distributed-basics)). We can also compare the runtime of a large matrix multiplication on the CPU with a operation on the GPU:"
      ]
    },
    {
      "cell_type": "code",
      "execution_count": 62,
      "metadata": {
        "id": "GM5SaBNqexHC",
        "outputId": "c0cb38cb-bc96-498d-f291-01d4619556bf",
        "colab": {
          "base_uri": "https://localhost:8080/"
        }
      },
      "outputs": [
        {
          "output_type": "stream",
          "name": "stdout",
          "text": [
            "CPU time: 1.98670s\n",
            "GPU time: 0.08761s\n"
          ]
        }
      ],
      "source": [
        "x = torch.randn(5000, 5000)\n",
        "\n",
        "## CPU version\n",
        "start_time = time.time()\n",
        "_ = torch.matmul(x, x)\n",
        "end_time = time.time()\n",
        "print(f\"CPU time: {(end_time - start_time):6.5f}s\")\n",
        "\n",
        "## GPU version\n",
        "x = x.to(device)\n",
        "_ = torch.matmul(x, x)  # First operation to 'burn in' GPU\n",
        "# CUDA is asynchronous, so we need to use different timing functions\n",
        "start = torch.cuda.Event(enable_timing=True)\n",
        "end = torch.cuda.Event(enable_timing=True)\n",
        "start.record()\n",
        "_ = torch.matmul(x, x)\n",
        "end.record()\n",
        "torch.cuda.synchronize()  # Waits for everything to finish running on the GPU\n",
        "print(f\"GPU time: {0.001 * start.elapsed_time(end):6.5f}s\")  # Milliseconds to seconds"
      ]
    },
    {
      "cell_type": "markdown",
      "metadata": {
        "id": "VthJSYr-exHC"
      },
      "source": [
        "Depending on the size of the operation and the CPU/GPU in your system, the speedup of this operation can be >50x. As `matmul` operations are very common in neural networks, we can already see the great benefit of training a NN on a GPU. The time estimate can be relatively noisy here because we haven't run it for multiple times. Feel free to extend this, but it also takes longer to run.\n",
        "\n",
        "When generating random numbers, the seed between CPU and GPU is not synchronized. Hence, we need to set the seed on the GPU separately to ensure a reproducible code. Note that due to different GPU architectures, running the same code on different GPUs does not guarantee the same random numbers. Still, we don't want that our code gives us a different output every time we run it on the exact same hardware. Hence, we also set the seed on the GPU:"
      ]
    },
    {
      "cell_type": "code",
      "execution_count": 63,
      "metadata": {
        "id": "aMf66ggKexHC"
      },
      "outputs": [],
      "source": [
        "# GPU operations have a separate seed we also want to set\n",
        "if torch.cuda.is_available():\n",
        "    torch.cuda.manual_seed(42)\n",
        "    torch.cuda.manual_seed_all(42)\n",
        "\n",
        "# Additionally, some operations on a GPU are implemented stochastic for efficiency\n",
        "# We want to ensure that all operations are deterministic on GPU (if used) for reproducibility\n",
        "torch.backends.cudnn.deterministic = True\n",
        "torch.backends.cudnn.benchmark = False"
      ]
    },
    {
      "cell_type": "markdown",
      "metadata": {
        "id": "743CgNPDexHC"
      },
      "source": [
        "## Learning by example: Continuous XOR\n",
        "\n",
        "If we want to build a neural network in PyTorch, we could specify all our parameters (weight matrices, bias vectors) using `Tensors` (with `requires_grad=True`), ask PyTorch to calculate the gradients and then adjust the parameters. But things can quickly get cumbersome if we have a lot of parameters. In PyTorch, there is a package called `torch.nn` that makes building neural networks more convenient.\n",
        "\n",
        "We will introduce the libraries and all additional parts you might need to train a neural network in PyTorch, using a simple example classifier on a simple yet well known example: XOR. Given two binary inputs $x_1$ and $x_2$, the label to predict is $1$ if either $x_1$ or $x_2$ is $1$ while the other is $0$, or the label is $0$ in all other cases. The example became famous by the fact that a single neuron, i.e. a linear classifier, cannot learn this simple function.\n",
        "Hence, we will learn how to build a small neural network that can learn this function.\n",
        "To make it a little bit more interesting, we move the XOR into continuous space and introduce some gaussian noise on the binary inputs. Our desired separation of an XOR dataset could look as follows:\n",
        "\n",
        "<center style=\"width: 100%\"><img src=\"https://github.com/phlippe/uvadlc_notebooks/blob/master/docs/tutorial_notebooks/tutorial2/continuous_xor.svg?raw=1\" width=\"350px\"></center>"
      ]
    },
    {
      "cell_type": "markdown",
      "metadata": {
        "id": "BG-SabmPexHC"
      },
      "source": [
        "### The model\n",
        "\n",
        "The package `torch.nn` defines a series of useful classes like linear networks layers, activation functions, loss functions etc. A full list can be found [here](https://pytorch.org/docs/stable/nn.html). In case you need a certain network layer, check the documentation of the package first before writing the layer yourself as the package likely contains the code for it already. We import it below:"
      ]
    },
    {
      "cell_type": "code",
      "execution_count": 17,
      "metadata": {
        "id": "zTWaGHP1exHC"
      },
      "outputs": [],
      "source": [
        "import torch.nn as nn"
      ]
    },
    {
      "cell_type": "markdown",
      "metadata": {
        "id": "yfUsXO3wexHC"
      },
      "source": [
        "Additionally to `torch.nn`, there is also `torch.nn.functional`. It contains functions that are used in network layers. This is in contrast to `torch.nn` which defines them as `nn.Modules` (more on it below), and `torch.nn` actually uses a lot of functionalities from `torch.nn.functional`. Hence, the functional package is useful in many situations, and so we import it as well here."
      ]
    },
    {
      "cell_type": "code",
      "execution_count": 16,
      "metadata": {
        "id": "SbK8rXfrexHC"
      },
      "outputs": [],
      "source": [
        "import torch.nn.functional as F"
      ]
    },
    {
      "cell_type": "markdown",
      "metadata": {
        "id": "ZOnuN3N7exHC"
      },
      "source": [
        "#### nn.Module\n",
        "\n",
        "In PyTorch, a neural network is built up out of modules. Modules can contain other modules, and a neural network is considered to be a module itself as well. The basic template of a module is as follows:"
      ]
    },
    {
      "cell_type": "code",
      "execution_count": 21,
      "metadata": {
        "id": "0tpO7AhDexHC"
      },
      "outputs": [],
      "source": [
        "class MyModule(nn.Module):\n",
        "\n",
        "    def __init__(self):\n",
        "        super().__init__()\n",
        "        # Some init for my module\n",
        "\n",
        "    def forward(self, x):\n",
        "        # Function for performing the calculation of the module.\n",
        "        pass"
      ]
    },
    {
      "cell_type": "markdown",
      "metadata": {
        "id": "_l6m3j8xexHC"
      },
      "source": [
        "The forward function is where the computation of the module is taken place, and is executed when you call the module (`nn = MyModule(); nn(x)`). In the init function, we usually create the parameters of the module, using `nn.Parameter`, or defining other modules that are used in the forward function. The backward calculation is done automatically, but could be overwritten as well if wanted.\n",
        "\n",
        "#### Simple classifier\n",
        "We can now make use of the pre-defined modules in the `torch.nn` package, and define our own small neural network. We will use a minimal network with a input layer, one hidden layer with tanh as activation function, and a output layer. In other words, our networks should look something like this:\n",
        "\n",
        "<center width=\"100%\"><img src=\"https://github.com/phlippe/uvadlc_notebooks/blob/master/docs/tutorial_notebooks/tutorial2/small_neural_network.svg?raw=1\" width=\"300px\"></center>\n",
        "\n",
        "The input neurons are shown in blue, which represent the coordinates $x_1$ and $x_2$ of a data point. The hidden neurons including a tanh activation are shown in white, and the output neuron in red.\n",
        "In PyTorch, we can define this as follows:"
      ]
    },
    {
      "cell_type": "code",
      "execution_count": 64,
      "metadata": {
        "id": "wbFnp3YJexHD"
      },
      "outputs": [],
      "source": [
        "class SimpleClassifier(nn.Module):\n",
        "\n",
        "    def __init__(self, num_inputs, num_hidden, num_outputs):\n",
        "        super().__init__()\n",
        "        # Initialize the modules we need to build the network\n",
        "        self.linear1 = nn.Linear(num_inputs, num_hidden)\n",
        "        self.act_fn = nn.Tanh()\n",
        "        self.linear2 = nn.Linear(num_hidden, num_outputs)\n",
        "\n",
        "    def forward(self, x):\n",
        "        # Perform the calculation of the model to determine the prediction\n",
        "        x = self.linear1(x)\n",
        "        x = self.act_fn(x)\n",
        "        x = self.linear2(x)\n",
        "        return x"
      ]
    },
    {
      "cell_type": "markdown",
      "metadata": {
        "id": "m58OnXiPexHD"
      },
      "source": [
        "For the examples in this notebook, we will use a tiny neural network with two input neurons and four hidden neurons. As we perform binary classification, we will use a single output neuron. Note that we do not apply a sigmoid on the output yet. This is because other functions, especially the loss, are more efficient and precise to calculate on the original outputs instead of the sigmoid output. We will discuss the detailed reason later."
      ]
    },
    {
      "cell_type": "code",
      "execution_count": 66,
      "metadata": {
        "id": "qfReP6mZexHD",
        "outputId": "2600b532-079c-4db3-d631-10a11fb9c5d6",
        "colab": {
          "base_uri": "https://localhost:8080/"
        }
      },
      "outputs": [
        {
          "output_type": "stream",
          "name": "stdout",
          "text": [
            "SimpleClassifier(\n",
            "  (linear1): Linear(in_features=4, out_features=5, bias=True)\n",
            "  (act_fn): Tanh()\n",
            "  (linear2): Linear(in_features=5, out_features=1, bias=True)\n",
            ")\n"
          ]
        }
      ],
      "source": [
        "model = SimpleClassifier(num_inputs=4, num_hidden=5, num_outputs=1)\n",
        "# Printing a module shows all its submodules\n",
        "print(model)"
      ]
    },
    {
      "cell_type": "markdown",
      "metadata": {
        "id": "eg_FHWwuexHD"
      },
      "source": [
        "Printing the model lists all submodules it contains. The parameters of a module can be obtained by using its `parameters()` functions, or `named_parameters()` to get a name to each parameter object. For our small neural network, we have the following parameters:"
      ]
    },
    {
      "cell_type": "code",
      "execution_count": 67,
      "metadata": {
        "id": "CWficxBFexHD",
        "outputId": "4df3b3ef-49b3-464d-f35e-1849f771724e",
        "colab": {
          "base_uri": "https://localhost:8080/"
        }
      },
      "outputs": [
        {
          "output_type": "stream",
          "name": "stdout",
          "text": [
            "Parameter linear1.weight, shape torch.Size([5, 4])\n",
            "Parameter linear1.bias, shape torch.Size([5])\n",
            "Parameter linear2.weight, shape torch.Size([1, 5])\n",
            "Parameter linear2.bias, shape torch.Size([1])\n"
          ]
        }
      ],
      "source": [
        "for name, param in model.named_parameters():\n",
        "    print(f\"Parameter {name}, shape {param.shape}\")"
      ]
    },
    {
      "cell_type": "markdown",
      "metadata": {
        "id": "dht5fO-TexHD"
      },
      "source": [
        "Each linear layer has a weight matrix of the shape `[output, input]`, and a bias of the shape `[output]`. The tanh activation function does not have any parameters. Note that parameters are only registered for `nn.Module` objects that are direct object attributes, i.e. `self.a = ...`. If you define a list of modules, the parameters of those are not registered for the outer module and can cause some issues when you try to optimize your module. There are alternatives, like `nn.ModuleList`, `nn.ModuleDict` and `nn.Sequential`, that allow you to have different data structures of modules. We will use them in a few later tutorials and explain them there."
      ]
    },
    {
      "cell_type": "markdown",
      "metadata": {
        "id": "FhBPgsCAexHD"
      },
      "source": [
        "### The data\n",
        "\n",
        "PyTorch also provides a few functionalities to load the training and test data efficiently, summarized in the package `torch.utils.data`."
      ]
    },
    {
      "cell_type": "code",
      "execution_count": 68,
      "metadata": {
        "id": "i10H5lALexHD"
      },
      "outputs": [],
      "source": [
        "import torch.utils.data as data"
      ]
    },
    {
      "cell_type": "markdown",
      "metadata": {
        "id": "n62SDDzPexHD"
      },
      "source": [
        "The data package defines two classes which are the standard interface for handling data in PyTorch: `data.Dataset`, and `data.DataLoader`. The dataset class provides an uniform interface to access the training/test data, while the data loader makes sure to efficiently load and stack the data points from the dataset into batches during training."
      ]
    },
    {
      "cell_type": "markdown",
      "metadata": {
        "id": "REm3s0DWexHD"
      },
      "source": [
        "#### The dataset class\n",
        "\n",
        "The dataset class summarizes the basic functionality of a dataset in a natural way. To define a dataset in PyTorch, we simply specify two functions: `__getitem__`, and `__len__`. The get-item function has to return the $i$-th data point in the dataset, while the len function returns the size of the dataset. For the XOR dataset, we can define the dataset class as follows:"
      ]
    },
    {
      "cell_type": "code",
      "execution_count": 69,
      "metadata": {
        "id": "H0MO_6q5exHD"
      },
      "outputs": [],
      "source": [
        "class XORDataset(data.Dataset):\n",
        "\n",
        "    def __init__(self, size, std=0.1):\n",
        "        \"\"\"\n",
        "        Inputs:\n",
        "            size - Number of data points we want to generate\n",
        "            std - Standard deviation of the noise (see generate_continuous_xor function)\n",
        "        \"\"\"\n",
        "        super().__init__()\n",
        "        self.size = size\n",
        "        self.std = std\n",
        "        self.generate_continuous_xor()\n",
        "\n",
        "    def generate_continuous_xor(self):\n",
        "        # Each data point in the XOR dataset has two variables, x and y, that can be either 0 or 1\n",
        "        # The label is their XOR combination, i.e. 1 if only x or only y is 1 while the other is 0.\n",
        "        # If x=y, the label is 0.\n",
        "        data = torch.randint(low=0, high=2, size=(self.size, 2), dtype=torch.float32)\n",
        "        label = (data.sum(dim=1) == 1).to(torch.long)\n",
        "        # To make it slightly more challenging, we add a bit of gaussian noise to the data points.\n",
        "        data += self.std * torch.randn(data.shape)\n",
        "\n",
        "        self.data = data\n",
        "        self.label = label\n",
        "\n",
        "    def __len__(self):\n",
        "        # Number of data point we have. Alternatively self.data.shape[0], or self.label.shape[0]\n",
        "        return self.size\n",
        "\n",
        "    def __getitem__(self, idx):\n",
        "        # Return the idx-th data point of the dataset\n",
        "        # If we have multiple things to return (data point and label), we can return them as tuple\n",
        "        data_point = self.data[idx]\n",
        "        data_label = self.label[idx]\n",
        "        return data_point, data_label"
      ]
    },
    {
      "cell_type": "markdown",
      "metadata": {
        "id": "e3WA-1DDexHD"
      },
      "source": [
        "Let's try to create such a dataset and inspect it:"
      ]
    },
    {
      "cell_type": "code",
      "execution_count": 70,
      "metadata": {
        "id": "LY8qgM4DexHD",
        "outputId": "390a84f9-ce53-48f0-e2f5-4644d9c4b413",
        "colab": {
          "base_uri": "https://localhost:8080/"
        }
      },
      "outputs": [
        {
          "output_type": "stream",
          "name": "stdout",
          "text": [
            "Size of dataset: 200\n",
            "Data point 0: (tensor([0.0996, 0.0878]), tensor(0))\n"
          ]
        }
      ],
      "source": [
        "dataset = XORDataset(size=200)\n",
        "print(\"Size of dataset:\", len(dataset))\n",
        "print(\"Data point 0:\", dataset[0])\n",
        "print(\"Data point 0:\", dataset[199])"
      ]
    },
    {
      "cell_type": "markdown",
      "metadata": {
        "id": "kHVvPxqMexHD"
      },
      "source": [
        "To better relate to the dataset, we visualize the samples below."
      ]
    },
    {
      "cell_type": "code",
      "execution_count": 12,
      "metadata": {
        "id": "KjO4o7f8exHD"
      },
      "outputs": [],
      "source": [
        "def visualize_samples(data, label):\n",
        "    if isinstance(data, torch.Tensor):\n",
        "        data = data.cpu().numpy()\n",
        "    if isinstance(label, torch.Tensor):\n",
        "        label = label.cpu().numpy()\n",
        "    data_0 = data[label == 0]\n",
        "    data_1 = data[label == 1]\n",
        "\n",
        "    plt.figure(figsize=(4,4))\n",
        "    plt.scatter(data_0[:,0], data_0[:,1], edgecolor=\"#333\", label=\"Class 0\")\n",
        "    plt.scatter(data_1[:,0], data_1[:,1], edgecolor=\"#333\", label=\"Class 1\")\n",
        "    plt.title(\"Dataset samples\")\n",
        "    plt.ylabel(r\"$x_2$\")\n",
        "    plt.xlabel(r\"$x_1$\")\n",
        "    plt.legend()"
      ]
    },
    {
      "cell_type": "code",
      "execution_count": 13,
      "metadata": {
        "id": "fQSHAhOhexHD",
        "outputId": "5a525f9b-c96d-4150-ab04-219f774be500",
        "colab": {
          "base_uri": "https://localhost:8080/",
          "height": 404
        }
      },
      "outputs": [
        {
          "output_type": "display_data",
          "data": {
            "text/plain": [
              "<Figure size 400x400 with 1 Axes>"
            ],
            "image/svg+xml": "<?xml version=\"1.0\" encoding=\"utf-8\" standalone=\"no\"?>\n<!DOCTYPE svg PUBLIC \"-//W3C//DTD SVG 1.1//EN\"\n  \"http://www.w3.org/Graphics/SVG/1.1/DTD/svg11.dtd\">\n<svg xmlns:xlink=\"http://www.w3.org/1999/xlink\" width=\"289.424844pt\" height=\"287.037813pt\" viewBox=\"0 0 289.424844 287.037813\" xmlns=\"http://www.w3.org/2000/svg\" version=\"1.1\">\n <metadata>\n  <rdf:RDF xmlns:dc=\"http://purl.org/dc/elements/1.1/\" xmlns:cc=\"http://creativecommons.org/ns#\" xmlns:rdf=\"http://www.w3.org/1999/02/22-rdf-syntax-ns#\">\n   <cc:Work>\n    <dc:type rdf:resource=\"http://purl.org/dc/dcmitype/StillImage\"/>\n    <dc:date>2024-12-08T04:21:30.415072</dc:date>\n    <dc:format>image/svg+xml</dc:format>\n    <dc:creator>\n     <cc:Agent>\n      <dc:title>Matplotlib v3.8.0, https://matplotlib.org/</dc:title>\n     </cc:Agent>\n    </dc:creator>\n   </cc:Work>\n  </rdf:RDF>\n </metadata>\n <defs>\n  <style type=\"text/css\">*{stroke-linejoin: round; stroke-linecap: butt}</style>\n </defs>\n <g id=\"figure_1\">\n  <g id=\"patch_1\">\n   <path d=\"M 0 287.037813 \nL 289.424844 287.037813 \nL 289.424844 0 \nL 0 0 \nz\n\" style=\"fill: #ffffff\"/>\n  </g>\n  <g id=\"axes_1\">\n   <g id=\"patch_2\">\n    <path d=\"M 59.024844 244.078125 \nL 282.224844 244.078125 \nL 282.224844 22.318125 \nL 59.024844 22.318125 \nz\n\" style=\"fill: #eaeaf2\"/>\n   </g>\n   <g id=\"matplotlib.axis_1\">\n    <g id=\"xtick_1\">\n     <g id=\"line2d_1\">\n      <path d=\"M 100.848983 244.078125 \nL 100.848983 22.318125 \n\" clip-path=\"url(#pc79aa4b8b7)\" style=\"fill: none; stroke: #ffffff; stroke-linecap: round\"/>\n     </g>\n     <g id=\"text_1\">\n      <!-- 0.0 -->\n      <g style=\"fill: #262626\" transform=\"translate(92.102264 261.936406) scale(0.11 -0.11)\">\n       <defs>\n        <path id=\"DejaVuSans-30\" d=\"M 2034 4250 \nQ 1547 4250 1301 3770 \nQ 1056 3291 1056 2328 \nQ 1056 1369 1301 889 \nQ 1547 409 2034 409 \nQ 2525 409 2770 889 \nQ 3016 1369 3016 2328 \nQ 3016 3291 2770 3770 \nQ 2525 4250 2034 4250 \nz\nM 2034 4750 \nQ 2819 4750 3233 4129 \nQ 3647 3509 3647 2328 \nQ 3647 1150 3233 529 \nQ 2819 -91 2034 -91 \nQ 1250 -91 836 529 \nQ 422 1150 422 2328 \nQ 422 3509 836 4129 \nQ 1250 4750 2034 4750 \nz\n\" transform=\"scale(0.015625)\"/>\n        <path id=\"DejaVuSans-2e\" d=\"M 684 794 \nL 1344 794 \nL 1344 0 \nL 684 0 \nL 684 794 \nz\n\" transform=\"scale(0.015625)\"/>\n       </defs>\n       <use xlink:href=\"#DejaVuSans-30\"/>\n       <use xlink:href=\"#DejaVuSans-2e\" x=\"63.623047\"/>\n       <use xlink:href=\"#DejaVuSans-30\" x=\"95.410156\"/>\n      </g>\n     </g>\n    </g>\n    <g id=\"xtick_2\">\n     <g id=\"line2d_2\">\n      <path d=\"M 170.081 244.078125 \nL 170.081 22.318125 \n\" clip-path=\"url(#pc79aa4b8b7)\" style=\"fill: none; stroke: #ffffff; stroke-linecap: round\"/>\n     </g>\n     <g id=\"text_2\">\n      <!-- 0.5 -->\n      <g style=\"fill: #262626\" transform=\"translate(161.334281 261.936406) scale(0.11 -0.11)\">\n       <defs>\n        <path id=\"DejaVuSans-35\" d=\"M 691 4666 \nL 3169 4666 \nL 3169 4134 \nL 1269 4134 \nL 1269 2991 \nQ 1406 3038 1543 3061 \nQ 1681 3084 1819 3084 \nQ 2600 3084 3056 2656 \nQ 3513 2228 3513 1497 \nQ 3513 744 3044 326 \nQ 2575 -91 1722 -91 \nQ 1428 -91 1123 -41 \nQ 819 9 494 109 \nL 494 744 \nQ 775 591 1075 516 \nQ 1375 441 1709 441 \nQ 2250 441 2565 725 \nQ 2881 1009 2881 1497 \nQ 2881 1984 2565 2268 \nQ 2250 2553 1709 2553 \nQ 1456 2553 1204 2497 \nQ 953 2441 691 2322 \nL 691 4666 \nz\n\" transform=\"scale(0.015625)\"/>\n       </defs>\n       <use xlink:href=\"#DejaVuSans-30\"/>\n       <use xlink:href=\"#DejaVuSans-2e\" x=\"63.623047\"/>\n       <use xlink:href=\"#DejaVuSans-35\" x=\"95.410156\"/>\n      </g>\n     </g>\n    </g>\n    <g id=\"xtick_3\">\n     <g id=\"line2d_3\">\n      <path d=\"M 239.313016 244.078125 \nL 239.313016 22.318125 \n\" clip-path=\"url(#pc79aa4b8b7)\" style=\"fill: none; stroke: #ffffff; stroke-linecap: round\"/>\n     </g>\n     <g id=\"text_3\">\n      <!-- 1.0 -->\n      <g style=\"fill: #262626\" transform=\"translate(230.566297 261.936406) scale(0.11 -0.11)\">\n       <defs>\n        <path id=\"DejaVuSans-31\" d=\"M 794 531 \nL 1825 531 \nL 1825 4091 \nL 703 3866 \nL 703 4441 \nL 1819 4666 \nL 2450 4666 \nL 2450 531 \nL 3481 531 \nL 3481 0 \nL 794 0 \nL 794 531 \nz\n\" transform=\"scale(0.015625)\"/>\n       </defs>\n       <use xlink:href=\"#DejaVuSans-31\"/>\n       <use xlink:href=\"#DejaVuSans-2e\" x=\"63.623047\"/>\n       <use xlink:href=\"#DejaVuSans-30\" x=\"95.410156\"/>\n      </g>\n     </g>\n    </g>\n    <g id=\"text_4\">\n     <!-- $x_1$ -->\n     <g style=\"fill: #262626\" transform=\"translate(164.204844 277.342188) scale(0.12 -0.12)\">\n      <defs>\n       <path id=\"DejaVuSans-Oblique-78\" d=\"M 3841 3500 \nL 2234 1784 \nL 3219 0 \nL 2559 0 \nL 1819 1388 \nL 531 0 \nL -166 0 \nL 1556 1844 \nL 641 3500 \nL 1300 3500 \nL 1972 2234 \nL 3144 3500 \nL 3841 3500 \nz\n\" transform=\"scale(0.015625)\"/>\n      </defs>\n      <use xlink:href=\"#DejaVuSans-Oblique-78\" transform=\"translate(0 0.3125)\"/>\n      <use xlink:href=\"#DejaVuSans-31\" transform=\"translate(59.179688 -16.09375) scale(0.7)\"/>\n     </g>\n    </g>\n   </g>\n   <g id=\"matplotlib.axis_2\">\n    <g id=\"ytick_1\">\n     <g id=\"line2d_4\">\n      <path d=\"M 59.024844 231.562155 \nL 282.224844 231.562155 \n\" clip-path=\"url(#pc79aa4b8b7)\" style=\"fill: none; stroke: #ffffff; stroke-linecap: round\"/>\n     </g>\n     <g id=\"text_5\">\n      <!-- −0.2 -->\n      <g style=\"fill: #262626\" transform=\"translate(22.81375 235.741296) scale(0.11 -0.11)\">\n       <defs>\n        <path id=\"DejaVuSans-2212\" d=\"M 678 2272 \nL 4684 2272 \nL 4684 1741 \nL 678 1741 \nL 678 2272 \nz\n\" transform=\"scale(0.015625)\"/>\n        <path id=\"DejaVuSans-32\" d=\"M 1228 531 \nL 3431 531 \nL 3431 0 \nL 469 0 \nL 469 531 \nQ 828 903 1448 1529 \nQ 2069 2156 2228 2338 \nQ 2531 2678 2651 2914 \nQ 2772 3150 2772 3378 \nQ 2772 3750 2511 3984 \nQ 2250 4219 1831 4219 \nQ 1534 4219 1204 4116 \nQ 875 4013 500 3803 \nL 500 4441 \nQ 881 4594 1212 4672 \nQ 1544 4750 1819 4750 \nQ 2544 4750 2975 4387 \nQ 3406 4025 3406 3419 \nQ 3406 3131 3298 2873 \nQ 3191 2616 2906 2266 \nQ 2828 2175 2409 1742 \nQ 1991 1309 1228 531 \nz\n\" transform=\"scale(0.015625)\"/>\n       </defs>\n       <use xlink:href=\"#DejaVuSans-2212\"/>\n       <use xlink:href=\"#DejaVuSans-30\" x=\"83.789062\"/>\n       <use xlink:href=\"#DejaVuSans-2e\" x=\"147.412109\"/>\n       <use xlink:href=\"#DejaVuSans-32\" x=\"179.199219\"/>\n      </g>\n     </g>\n    </g>\n    <g id=\"ytick_2\">\n     <g id=\"line2d_5\">\n      <path d=\"M 59.024844 204.75768 \nL 282.224844 204.75768 \n\" clip-path=\"url(#pc79aa4b8b7)\" style=\"fill: none; stroke: #ffffff; stroke-linecap: round\"/>\n     </g>\n     <g id=\"text_6\">\n      <!-- 0.0 -->\n      <g style=\"fill: #262626\" transform=\"translate(32.031406 208.93682) scale(0.11 -0.11)\">\n       <use xlink:href=\"#DejaVuSans-30\"/>\n       <use xlink:href=\"#DejaVuSans-2e\" x=\"63.623047\"/>\n       <use xlink:href=\"#DejaVuSans-30\" x=\"95.410156\"/>\n      </g>\n     </g>\n    </g>\n    <g id=\"ytick_3\">\n     <g id=\"line2d_6\">\n      <path d=\"M 59.024844 177.953204 \nL 282.224844 177.953204 \n\" clip-path=\"url(#pc79aa4b8b7)\" style=\"fill: none; stroke: #ffffff; stroke-linecap: round\"/>\n     </g>\n     <g id=\"text_7\">\n      <!-- 0.2 -->\n      <g style=\"fill: #262626\" transform=\"translate(32.031406 182.132345) scale(0.11 -0.11)\">\n       <use xlink:href=\"#DejaVuSans-30\"/>\n       <use xlink:href=\"#DejaVuSans-2e\" x=\"63.623047\"/>\n       <use xlink:href=\"#DejaVuSans-32\" x=\"95.410156\"/>\n      </g>\n     </g>\n    </g>\n    <g id=\"ytick_4\">\n     <g id=\"line2d_7\">\n      <path d=\"M 59.024844 151.148728 \nL 282.224844 151.148728 \n\" clip-path=\"url(#pc79aa4b8b7)\" style=\"fill: none; stroke: #ffffff; stroke-linecap: round\"/>\n     </g>\n     <g id=\"text_8\">\n      <!-- 0.4 -->\n      <g style=\"fill: #262626\" transform=\"translate(32.031406 155.327869) scale(0.11 -0.11)\">\n       <defs>\n        <path id=\"DejaVuSans-34\" d=\"M 2419 4116 \nL 825 1625 \nL 2419 1625 \nL 2419 4116 \nz\nM 2253 4666 \nL 3047 4666 \nL 3047 1625 \nL 3713 1625 \nL 3713 1100 \nL 3047 1100 \nL 3047 0 \nL 2419 0 \nL 2419 1100 \nL 313 1100 \nL 313 1709 \nL 2253 4666 \nz\n\" transform=\"scale(0.015625)\"/>\n       </defs>\n       <use xlink:href=\"#DejaVuSans-30\"/>\n       <use xlink:href=\"#DejaVuSans-2e\" x=\"63.623047\"/>\n       <use xlink:href=\"#DejaVuSans-34\" x=\"95.410156\"/>\n      </g>\n     </g>\n    </g>\n    <g id=\"ytick_5\">\n     <g id=\"line2d_8\">\n      <path d=\"M 59.024844 124.344253 \nL 282.224844 124.344253 \n\" clip-path=\"url(#pc79aa4b8b7)\" style=\"fill: none; stroke: #ffffff; stroke-linecap: round\"/>\n     </g>\n     <g id=\"text_9\">\n      <!-- 0.6 -->\n      <g style=\"fill: #262626\" transform=\"translate(32.031406 128.523393) scale(0.11 -0.11)\">\n       <defs>\n        <path id=\"DejaVuSans-36\" d=\"M 2113 2584 \nQ 1688 2584 1439 2293 \nQ 1191 2003 1191 1497 \nQ 1191 994 1439 701 \nQ 1688 409 2113 409 \nQ 2538 409 2786 701 \nQ 3034 994 3034 1497 \nQ 3034 2003 2786 2293 \nQ 2538 2584 2113 2584 \nz\nM 3366 4563 \nL 3366 3988 \nQ 3128 4100 2886 4159 \nQ 2644 4219 2406 4219 \nQ 1781 4219 1451 3797 \nQ 1122 3375 1075 2522 \nQ 1259 2794 1537 2939 \nQ 1816 3084 2150 3084 \nQ 2853 3084 3261 2657 \nQ 3669 2231 3669 1497 \nQ 3669 778 3244 343 \nQ 2819 -91 2113 -91 \nQ 1303 -91 875 529 \nQ 447 1150 447 2328 \nQ 447 3434 972 4092 \nQ 1497 4750 2381 4750 \nQ 2619 4750 2861 4703 \nQ 3103 4656 3366 4563 \nz\n\" transform=\"scale(0.015625)\"/>\n       </defs>\n       <use xlink:href=\"#DejaVuSans-30\"/>\n       <use xlink:href=\"#DejaVuSans-2e\" x=\"63.623047\"/>\n       <use xlink:href=\"#DejaVuSans-36\" x=\"95.410156\"/>\n      </g>\n     </g>\n    </g>\n    <g id=\"ytick_6\">\n     <g id=\"line2d_9\">\n      <path d=\"M 59.024844 97.539777 \nL 282.224844 97.539777 \n\" clip-path=\"url(#pc79aa4b8b7)\" style=\"fill: none; stroke: #ffffff; stroke-linecap: round\"/>\n     </g>\n     <g id=\"text_10\">\n      <!-- 0.8 -->\n      <g style=\"fill: #262626\" transform=\"translate(32.031406 101.718917) scale(0.11 -0.11)\">\n       <defs>\n        <path id=\"DejaVuSans-38\" d=\"M 2034 2216 \nQ 1584 2216 1326 1975 \nQ 1069 1734 1069 1313 \nQ 1069 891 1326 650 \nQ 1584 409 2034 409 \nQ 2484 409 2743 651 \nQ 3003 894 3003 1313 \nQ 3003 1734 2745 1975 \nQ 2488 2216 2034 2216 \nz\nM 1403 2484 \nQ 997 2584 770 2862 \nQ 544 3141 544 3541 \nQ 544 4100 942 4425 \nQ 1341 4750 2034 4750 \nQ 2731 4750 3128 4425 \nQ 3525 4100 3525 3541 \nQ 3525 3141 3298 2862 \nQ 3072 2584 2669 2484 \nQ 3125 2378 3379 2068 \nQ 3634 1759 3634 1313 \nQ 3634 634 3220 271 \nQ 2806 -91 2034 -91 \nQ 1263 -91 848 271 \nQ 434 634 434 1313 \nQ 434 1759 690 2068 \nQ 947 2378 1403 2484 \nz\nM 1172 3481 \nQ 1172 3119 1398 2916 \nQ 1625 2713 2034 2713 \nQ 2441 2713 2670 2916 \nQ 2900 3119 2900 3481 \nQ 2900 3844 2670 4047 \nQ 2441 4250 2034 4250 \nQ 1625 4250 1398 4047 \nQ 1172 3844 1172 3481 \nz\n\" transform=\"scale(0.015625)\"/>\n       </defs>\n       <use xlink:href=\"#DejaVuSans-30\"/>\n       <use xlink:href=\"#DejaVuSans-2e\" x=\"63.623047\"/>\n       <use xlink:href=\"#DejaVuSans-38\" x=\"95.410156\"/>\n      </g>\n     </g>\n    </g>\n    <g id=\"ytick_7\">\n     <g id=\"line2d_10\">\n      <path d=\"M 59.024844 70.735301 \nL 282.224844 70.735301 \n\" clip-path=\"url(#pc79aa4b8b7)\" style=\"fill: none; stroke: #ffffff; stroke-linecap: round\"/>\n     </g>\n     <g id=\"text_11\">\n      <!-- 1.0 -->\n      <g style=\"fill: #262626\" transform=\"translate(32.031406 74.914442) scale(0.11 -0.11)\">\n       <use xlink:href=\"#DejaVuSans-31\"/>\n       <use xlink:href=\"#DejaVuSans-2e\" x=\"63.623047\"/>\n       <use xlink:href=\"#DejaVuSans-30\" x=\"95.410156\"/>\n      </g>\n     </g>\n    </g>\n    <g id=\"ytick_8\">\n     <g id=\"line2d_11\">\n      <path d=\"M 59.024844 43.930825 \nL 282.224844 43.930825 \n\" clip-path=\"url(#pc79aa4b8b7)\" style=\"fill: none; stroke: #ffffff; stroke-linecap: round\"/>\n     </g>\n     <g id=\"text_12\">\n      <!-- 1.2 -->\n      <g style=\"fill: #262626\" transform=\"translate(32.031406 48.109966) scale(0.11 -0.11)\">\n       <use xlink:href=\"#DejaVuSans-31\"/>\n       <use xlink:href=\"#DejaVuSans-2e\" x=\"63.623047\"/>\n       <use xlink:href=\"#DejaVuSans-32\" x=\"95.410156\"/>\n      </g>\n     </g>\n    </g>\n    <g id=\"text_13\">\n     <!-- $x_2$ -->\n     <g style=\"fill: #262626\" transform=\"translate(16.318125 139.618125) rotate(-90) scale(0.12 -0.12)\">\n      <use xlink:href=\"#DejaVuSans-Oblique-78\" transform=\"translate(0 0.3125)\"/>\n      <use xlink:href=\"#DejaVuSans-32\" transform=\"translate(59.179688 -16.09375) scale(0.7)\"/>\n     </g>\n    </g>\n   </g>\n   <g id=\"PathCollection_1\">\n    <defs>\n     <path id=\"mf060c98210\" d=\"M 0 3 \nC 0.795609 3 1.55874 2.683901 2.12132 2.12132 \nC 2.683901 1.55874 3 0.795609 3 0 \nC 3 -0.795609 2.683901 -1.55874 2.12132 -2.12132 \nC 1.55874 -2.683901 0.795609 -3 0 -3 \nC -0.795609 -3 -1.55874 -2.683901 -2.12132 -2.12132 \nC -2.683901 -1.55874 -3 -0.795609 -3 0 \nC -3 0.795609 -2.683901 1.55874 -2.12132 2.12132 \nC -1.55874 2.683901 -0.795609 3 0 3 \nz\n\" style=\"stroke: #333333\"/>\n    </defs>\n    <g clip-path=\"url(#pc79aa4b8b7)\">\n     <use xlink:href=\"#mf060c98210\" x=\"229.675608\" y=\"67.573813\" style=\"fill: #4c72b0; stroke: #333333\"/>\n     <use xlink:href=\"#mf060c98210\" x=\"250.779031\" y=\"69.255123\" style=\"fill: #4c72b0; stroke: #333333\"/>\n     <use xlink:href=\"#mf060c98210\" x=\"235.137278\" y=\"89.543199\" style=\"fill: #4c72b0; stroke: #333333\"/>\n     <use xlink:href=\"#mf060c98210\" x=\"82.473868\" y=\"218.089621\" style=\"fill: #4c72b0; stroke: #333333\"/>\n     <use xlink:href=\"#mf060c98210\" x=\"267.563722\" y=\"88.13065\" style=\"fill: #4c72b0; stroke: #333333\"/>\n     <use xlink:href=\"#mf060c98210\" x=\"113.990142\" y=\"210.09629\" style=\"fill: #4c72b0; stroke: #333333\"/>\n     <use xlink:href=\"#mf060c98210\" x=\"110.824609\" y=\"185.054832\" style=\"fill: #4c72b0; stroke: #333333\"/>\n     <use xlink:href=\"#mf060c98210\" x=\"223.784256\" y=\"42.585452\" style=\"fill: #4c72b0; stroke: #333333\"/>\n     <use xlink:href=\"#mf060c98210\" x=\"272.079389\" y=\"79.210116\" style=\"fill: #4c72b0; stroke: #333333\"/>\n     <use xlink:href=\"#mf060c98210\" x=\"231.249466\" y=\"52.642026\" style=\"fill: #4c72b0; stroke: #333333\"/>\n     <use xlink:href=\"#mf060c98210\" x=\"116.392003\" y=\"203.444614\" style=\"fill: #4c72b0; stroke: #333333\"/>\n     <use xlink:href=\"#mf060c98210\" x=\"116.393184\" y=\"188.016958\" style=\"fill: #4c72b0; stroke: #333333\"/>\n     <use xlink:href=\"#mf060c98210\" x=\"120.50226\" y=\"202.721474\" style=\"fill: #4c72b0; stroke: #333333\"/>\n     <use xlink:href=\"#mf060c98210\" x=\"237.567725\" y=\"78.945766\" style=\"fill: #4c72b0; stroke: #333333\"/>\n     <use xlink:href=\"#mf060c98210\" x=\"232.617598\" y=\"77.997803\" style=\"fill: #4c72b0; stroke: #333333\"/>\n     <use xlink:href=\"#mf060c98210\" x=\"242.16362\" y=\"67.087227\" style=\"fill: #4c72b0; stroke: #333333\"/>\n     <use xlink:href=\"#mf060c98210\" x=\"110.726452\" y=\"197.656567\" style=\"fill: #4c72b0; stroke: #333333\"/>\n     <use xlink:href=\"#mf060c98210\" x=\"225.867124\" y=\"32.398125\" style=\"fill: #4c72b0; stroke: #333333\"/>\n     <use xlink:href=\"#mf060c98210\" x=\"225.54829\" y=\"75.546928\" style=\"fill: #4c72b0; stroke: #333333\"/>\n     <use xlink:href=\"#mf060c98210\" x=\"225.453677\" y=\"71.58098\" style=\"fill: #4c72b0; stroke: #333333\"/>\n     <use xlink:href=\"#mf060c98210\" x=\"226.011042\" y=\"59.59279\" style=\"fill: #4c72b0; stroke: #333333\"/>\n     <use xlink:href=\"#mf060c98210\" x=\"207.30077\" y=\"79.333656\" style=\"fill: #4c72b0; stroke: #333333\"/>\n     <use xlink:href=\"#mf060c98210\" x=\"231.444065\" y=\"82.129269\" style=\"fill: #4c72b0; stroke: #333333\"/>\n     <use xlink:href=\"#mf060c98210\" x=\"223.021637\" y=\"54.802045\" style=\"fill: #4c72b0; stroke: #333333\"/>\n     <use xlink:href=\"#mf060c98210\" x=\"242.297667\" y=\"62.339331\" style=\"fill: #4c72b0; stroke: #333333\"/>\n     <use xlink:href=\"#mf060c98210\" x=\"215.138169\" y=\"56.041263\" style=\"fill: #4c72b0; stroke: #333333\"/>\n     <use xlink:href=\"#mf060c98210\" x=\"229.963212\" y=\"81.596446\" style=\"fill: #4c72b0; stroke: #333333\"/>\n     <use xlink:href=\"#mf060c98210\" x=\"111.619864\" y=\"205.529958\" style=\"fill: #4c72b0; stroke: #333333\"/>\n     <use xlink:href=\"#mf060c98210\" x=\"82.611432\" y=\"202.637625\" style=\"fill: #4c72b0; stroke: #333333\"/>\n     <use xlink:href=\"#mf060c98210\" x=\"104.1929\" y=\"220.319693\" style=\"fill: #4c72b0; stroke: #333333\"/>\n     <use xlink:href=\"#mf060c98210\" x=\"102.858242\" y=\"182.493583\" style=\"fill: #4c72b0; stroke: #333333\"/>\n     <use xlink:href=\"#mf060c98210\" x=\"228.82364\" y=\"71.74888\" style=\"fill: #4c72b0; stroke: #333333\"/>\n     <use xlink:href=\"#mf060c98210\" x=\"92.937232\" y=\"223.625716\" style=\"fill: #4c72b0; stroke: #333333\"/>\n     <use xlink:href=\"#mf060c98210\" x=\"109.731474\" y=\"222.600748\" style=\"fill: #4c72b0; stroke: #333333\"/>\n     <use xlink:href=\"#mf060c98210\" x=\"107.997331\" y=\"183.23309\" style=\"fill: #4c72b0; stroke: #333333\"/>\n     <use xlink:href=\"#mf060c98210\" x=\"89.795903\" y=\"208.306922\" style=\"fill: #4c72b0; stroke: #333333\"/>\n     <use xlink:href=\"#mf060c98210\" x=\"237.006068\" y=\"67.360348\" style=\"fill: #4c72b0; stroke: #333333\"/>\n     <use xlink:href=\"#mf060c98210\" x=\"210.669809\" y=\"59.094541\" style=\"fill: #4c72b0; stroke: #333333\"/>\n     <use xlink:href=\"#mf060c98210\" x=\"103.970461\" y=\"208.501369\" style=\"fill: #4c72b0; stroke: #333333\"/>\n     <use xlink:href=\"#mf060c98210\" x=\"110.12867\" y=\"203.165506\" style=\"fill: #4c72b0; stroke: #333333\"/>\n     <use xlink:href=\"#mf060c98210\" x=\"92.375805\" y=\"196.681215\" style=\"fill: #4c72b0; stroke: #333333\"/>\n     <use xlink:href=\"#mf060c98210\" x=\"114.379017\" y=\"223.726363\" style=\"fill: #4c72b0; stroke: #333333\"/>\n     <use xlink:href=\"#mf060c98210\" x=\"113.264615\" y=\"233.998125\" style=\"fill: #4c72b0; stroke: #333333\"/>\n     <use xlink:href=\"#mf060c98210\" x=\"113.293146\" y=\"206.549263\" style=\"fill: #4c72b0; stroke: #333333\"/>\n     <use xlink:href=\"#mf060c98210\" x=\"243.533536\" y=\"63.859563\" style=\"fill: #4c72b0; stroke: #333333\"/>\n     <use xlink:href=\"#mf060c98210\" x=\"83.52099\" y=\"215.892347\" style=\"fill: #4c72b0; stroke: #333333\"/>\n     <use xlink:href=\"#mf060c98210\" x=\"102.188435\" y=\"201.312296\" style=\"fill: #4c72b0; stroke: #333333\"/>\n     <use xlink:href=\"#mf060c98210\" x=\"235.419385\" y=\"84.639946\" style=\"fill: #4c72b0; stroke: #333333\"/>\n     <use xlink:href=\"#mf060c98210\" x=\"97.913523\" y=\"193.818547\" style=\"fill: #4c72b0; stroke: #333333\"/>\n     <use xlink:href=\"#mf060c98210\" x=\"113.286051\" y=\"206.820062\" style=\"fill: #4c72b0; stroke: #333333\"/>\n     <use xlink:href=\"#mf060c98210\" x=\"92.981494\" y=\"205.920933\" style=\"fill: #4c72b0; stroke: #333333\"/>\n     <use xlink:href=\"#mf060c98210\" x=\"114.280468\" y=\"213.81454\" style=\"fill: #4c72b0; stroke: #333333\"/>\n     <use xlink:href=\"#mf060c98210\" x=\"242.141172\" y=\"71.090144\" style=\"fill: #4c72b0; stroke: #333333\"/>\n     <use xlink:href=\"#mf060c98210\" x=\"240.462541\" y=\"65.079289\" style=\"fill: #4c72b0; stroke: #333333\"/>\n     <use xlink:href=\"#mf060c98210\" x=\"101.771264\" y=\"216.980442\" style=\"fill: #4c72b0; stroke: #333333\"/>\n     <use xlink:href=\"#mf060c98210\" x=\"244.411467\" y=\"61.287137\" style=\"fill: #4c72b0; stroke: #333333\"/>\n     <use xlink:href=\"#mf060c98210\" x=\"222.282902\" y=\"42.686233\" style=\"fill: #4c72b0; stroke: #333333\"/>\n     <use xlink:href=\"#mf060c98210\" x=\"251.439493\" y=\"66.371821\" style=\"fill: #4c72b0; stroke: #333333\"/>\n     <use xlink:href=\"#mf060c98210\" x=\"243.641074\" y=\"71.436056\" style=\"fill: #4c72b0; stroke: #333333\"/>\n     <use xlink:href=\"#mf060c98210\" x=\"96.609201\" y=\"196.800319\" style=\"fill: #4c72b0; stroke: #333333\"/>\n     <use xlink:href=\"#mf060c98210\" x=\"87.781588\" y=\"202.438434\" style=\"fill: #4c72b0; stroke: #333333\"/>\n     <use xlink:href=\"#mf060c98210\" x=\"119.57892\" y=\"202.609594\" style=\"fill: #4c72b0; stroke: #333333\"/>\n     <use xlink:href=\"#mf060c98210\" x=\"101.862555\" y=\"232.838675\" style=\"fill: #4c72b0; stroke: #333333\"/>\n     <use xlink:href=\"#mf060c98210\" x=\"253.666889\" y=\"58.918669\" style=\"fill: #4c72b0; stroke: #333333\"/>\n     <use xlink:href=\"#mf060c98210\" x=\"82.520122\" y=\"209.682514\" style=\"fill: #4c72b0; stroke: #333333\"/>\n     <use xlink:href=\"#mf060c98210\" x=\"253.322025\" y=\"89.605636\" style=\"fill: #4c72b0; stroke: #333333\"/>\n     <use xlink:href=\"#mf060c98210\" x=\"239.036546\" y=\"86.993747\" style=\"fill: #4c72b0; stroke: #333333\"/>\n     <use xlink:href=\"#mf060c98210\" x=\"266.300734\" y=\"76.433771\" style=\"fill: #4c72b0; stroke: #333333\"/>\n     <use xlink:href=\"#mf060c98210\" x=\"96.668\" y=\"201.799904\" style=\"fill: #4c72b0; stroke: #333333\"/>\n     <use xlink:href=\"#mf060c98210\" x=\"92.924957\" y=\"207.045446\" style=\"fill: #4c72b0; stroke: #333333\"/>\n     <use xlink:href=\"#mf060c98210\" x=\"236.361757\" y=\"82.636794\" style=\"fill: #4c72b0; stroke: #333333\"/>\n     <use xlink:href=\"#mf060c98210\" x=\"123.713124\" y=\"211.66884\" style=\"fill: #4c72b0; stroke: #333333\"/>\n     <use xlink:href=\"#mf060c98210\" x=\"229.837368\" y=\"99.170127\" style=\"fill: #4c72b0; stroke: #333333\"/>\n     <use xlink:href=\"#mf060c98210\" x=\"249.309533\" y=\"78.699756\" style=\"fill: #4c72b0; stroke: #333333\"/>\n     <use xlink:href=\"#mf060c98210\" x=\"92.608904\" y=\"206.710153\" style=\"fill: #4c72b0; stroke: #333333\"/>\n     <use xlink:href=\"#mf060c98210\" x=\"207.536058\" y=\"89.003354\" style=\"fill: #4c72b0; stroke: #333333\"/>\n     <use xlink:href=\"#mf060c98210\" x=\"259.122337\" y=\"74.197151\" style=\"fill: #4c72b0; stroke: #333333\"/>\n     <use xlink:href=\"#mf060c98210\" x=\"89.886123\" y=\"198.455759\" style=\"fill: #4c72b0; stroke: #333333\"/>\n     <use xlink:href=\"#mf060c98210\" x=\"241.040885\" y=\"64.115878\" style=\"fill: #4c72b0; stroke: #333333\"/>\n     <use xlink:href=\"#mf060c98210\" x=\"101.934418\" y=\"201.761069\" style=\"fill: #4c72b0; stroke: #333333\"/>\n     <use xlink:href=\"#mf060c98210\" x=\"227.205802\" y=\"41.618158\" style=\"fill: #4c72b0; stroke: #333333\"/>\n     <use xlink:href=\"#mf060c98210\" x=\"102.524053\" y=\"197.339147\" style=\"fill: #4c72b0; stroke: #333333\"/>\n     <use xlink:href=\"#mf060c98210\" x=\"212.723436\" y=\"72.036189\" style=\"fill: #4c72b0; stroke: #333333\"/>\n     <use xlink:href=\"#mf060c98210\" x=\"98.798261\" y=\"215.449638\" style=\"fill: #4c72b0; stroke: #333333\"/>\n     <use xlink:href=\"#mf060c98210\" x=\"239.069286\" y=\"97.47741\" style=\"fill: #4c72b0; stroke: #333333\"/>\n     <use xlink:href=\"#mf060c98210\" x=\"117.606758\" y=\"206.541576\" style=\"fill: #4c72b0; stroke: #333333\"/>\n     <use xlink:href=\"#mf060c98210\" x=\"101.42636\" y=\"209.25625\" style=\"fill: #4c72b0; stroke: #333333\"/>\n     <use xlink:href=\"#mf060c98210\" x=\"221.875281\" y=\"73.590915\" style=\"fill: #4c72b0; stroke: #333333\"/>\n     <use xlink:href=\"#mf060c98210\" x=\"110.304969\" y=\"205.236394\" style=\"fill: #4c72b0; stroke: #333333\"/>\n     <use xlink:href=\"#mf060c98210\" x=\"227.015964\" y=\"78.630817\" style=\"fill: #4c72b0; stroke: #333333\"/>\n     <use xlink:href=\"#mf060c98210\" x=\"241.122871\" y=\"47.781942\" style=\"fill: #4c72b0; stroke: #333333\"/>\n     <use xlink:href=\"#mf060c98210\" x=\"239.797853\" y=\"59.448201\" style=\"fill: #4c72b0; stroke: #333333\"/>\n     <use xlink:href=\"#mf060c98210\" x=\"83.405686\" y=\"214.538766\" style=\"fill: #4c72b0; stroke: #333333\"/>\n     <use xlink:href=\"#mf060c98210\" x=\"118.814844\" y=\"206.050395\" style=\"fill: #4c72b0; stroke: #333333\"/>\n     <use xlink:href=\"#mf060c98210\" x=\"120.158403\" y=\"222.187366\" style=\"fill: #4c72b0; stroke: #333333\"/>\n     <use xlink:href=\"#mf060c98210\" x=\"220.586271\" y=\"72.481444\" style=\"fill: #4c72b0; stroke: #333333\"/>\n     <use xlink:href=\"#mf060c98210\" x=\"233.804452\" y=\"60.571971\" style=\"fill: #4c72b0; stroke: #333333\"/>\n     <use xlink:href=\"#mf060c98210\" x=\"252.970971\" y=\"75.952193\" style=\"fill: #4c72b0; stroke: #333333\"/>\n     <use xlink:href=\"#mf060c98210\" x=\"109.348008\" y=\"208.491962\" style=\"fill: #4c72b0; stroke: #333333\"/>\n     <use xlink:href=\"#mf060c98210\" x=\"247.461714\" y=\"61.231554\" style=\"fill: #4c72b0; stroke: #333333\"/>\n     <use xlink:href=\"#mf060c98210\" x=\"235.650951\" y=\"110.721953\" style=\"fill: #4c72b0; stroke: #333333\"/>\n     <use xlink:href=\"#mf060c98210\" x=\"244.900265\" y=\"64.754275\" style=\"fill: #4c72b0; stroke: #333333\"/>\n     <use xlink:href=\"#mf060c98210\" x=\"105.935163\" y=\"205.01539\" style=\"fill: #4c72b0; stroke: #333333\"/>\n     <use xlink:href=\"#mf060c98210\" x=\"247.066985\" y=\"84.944798\" style=\"fill: #4c72b0; stroke: #333333\"/>\n     <use xlink:href=\"#mf060c98210\" x=\"219.650262\" y=\"78.185985\" style=\"fill: #4c72b0; stroke: #333333\"/>\n    </g>\n   </g>\n   <g id=\"PathCollection_2\">\n    <defs>\n     <path id=\"m74317f14cd\" d=\"M 0 3 \nC 0.795609 3 1.55874 2.683901 2.12132 2.12132 \nC 2.683901 1.55874 3 0.795609 3 0 \nC 3 -0.795609 2.683901 -1.55874 2.12132 -2.12132 \nC 1.55874 -2.683901 0.795609 -3 0 -3 \nC -0.795609 -3 -1.55874 -2.683901 -2.12132 -2.12132 \nC -2.683901 -1.55874 -3 -0.795609 -3 0 \nC -3 0.795609 -2.683901 1.55874 -2.12132 2.12132 \nC -1.55874 2.683901 -0.795609 3 0 3 \nz\n\" style=\"stroke: #333333\"/>\n    </defs>\n    <g clip-path=\"url(#pc79aa4b8b7)\">\n     <use xlink:href=\"#m74317f14cd\" x=\"247.843354\" y=\"208.119548\" style=\"fill: #dd8452; stroke: #333333\"/>\n     <use xlink:href=\"#m74317f14cd\" x=\"250.681859\" y=\"205.662725\" style=\"fill: #dd8452; stroke: #333333\"/>\n     <use xlink:href=\"#m74317f14cd\" x=\"234.307305\" y=\"227.429759\" style=\"fill: #dd8452; stroke: #333333\"/>\n     <use xlink:href=\"#m74317f14cd\" x=\"104.696161\" y=\"69.507603\" style=\"fill: #dd8452; stroke: #333333\"/>\n     <use xlink:href=\"#m74317f14cd\" x=\"121.846009\" y=\"76.617927\" style=\"fill: #dd8452; stroke: #333333\"/>\n     <use xlink:href=\"#m74317f14cd\" x=\"95.311728\" y=\"88.548673\" style=\"fill: #dd8452; stroke: #333333\"/>\n     <use xlink:href=\"#m74317f14cd\" x=\"234.264562\" y=\"203.589518\" style=\"fill: #dd8452; stroke: #333333\"/>\n     <use xlink:href=\"#m74317f14cd\" x=\"88.683687\" y=\"36.577569\" style=\"fill: #dd8452; stroke: #333333\"/>\n     <use xlink:href=\"#m74317f14cd\" x=\"248.443255\" y=\"195.775972\" style=\"fill: #dd8452; stroke: #333333\"/>\n     <use xlink:href=\"#m74317f14cd\" x=\"102.168062\" y=\"75.639097\" style=\"fill: #dd8452; stroke: #333333\"/>\n     <use xlink:href=\"#m74317f14cd\" x=\"103.563579\" y=\"91.072394\" style=\"fill: #dd8452; stroke: #333333\"/>\n     <use xlink:href=\"#m74317f14cd\" x=\"101.691608\" y=\"86.515612\" style=\"fill: #dd8452; stroke: #333333\"/>\n     <use xlink:href=\"#m74317f14cd\" x=\"72.492963\" y=\"57.325168\" style=\"fill: #dd8452; stroke: #333333\"/>\n     <use xlink:href=\"#m74317f14cd\" x=\"110.352243\" y=\"79.909625\" style=\"fill: #dd8452; stroke: #333333\"/>\n     <use xlink:href=\"#m74317f14cd\" x=\"226.710987\" y=\"195.559588\" style=\"fill: #dd8452; stroke: #333333\"/>\n     <use xlink:href=\"#m74317f14cd\" x=\"253.893569\" y=\"185.331038\" style=\"fill: #dd8452; stroke: #333333\"/>\n     <use xlink:href=\"#m74317f14cd\" x=\"114.042296\" y=\"54.799138\" style=\"fill: #dd8452; stroke: #333333\"/>\n     <use xlink:href=\"#m74317f14cd\" x=\"251.973518\" y=\"191.228061\" style=\"fill: #dd8452; stroke: #333333\"/>\n     <use xlink:href=\"#m74317f14cd\" x=\"251.700291\" y=\"208.61481\" style=\"fill: #dd8452; stroke: #333333\"/>\n     <use xlink:href=\"#m74317f14cd\" x=\"107.586116\" y=\"65.819027\" style=\"fill: #dd8452; stroke: #333333\"/>\n     <use xlink:href=\"#m74317f14cd\" x=\"95.432505\" y=\"68.458875\" style=\"fill: #dd8452; stroke: #333333\"/>\n     <use xlink:href=\"#m74317f14cd\" x=\"227.26104\" y=\"204.348805\" style=\"fill: #dd8452; stroke: #333333\"/>\n     <use xlink:href=\"#m74317f14cd\" x=\"227.643431\" y=\"226.754349\" style=\"fill: #dd8452; stroke: #333333\"/>\n     <use xlink:href=\"#m74317f14cd\" x=\"229.369995\" y=\"206.21794\" style=\"fill: #dd8452; stroke: #333333\"/>\n     <use xlink:href=\"#m74317f14cd\" x=\"75.510534\" y=\"65.847386\" style=\"fill: #dd8452; stroke: #333333\"/>\n     <use xlink:href=\"#m74317f14cd\" x=\"250.2422\" y=\"222.636993\" style=\"fill: #dd8452; stroke: #333333\"/>\n     <use xlink:href=\"#m74317f14cd\" x=\"227.77945\" y=\"180.236334\" style=\"fill: #dd8452; stroke: #333333\"/>\n     <use xlink:href=\"#m74317f14cd\" x=\"246.843656\" y=\"211.745813\" style=\"fill: #dd8452; stroke: #333333\"/>\n     <use xlink:href=\"#m74317f14cd\" x=\"238.686309\" y=\"209.546211\" style=\"fill: #dd8452; stroke: #333333\"/>\n     <use xlink:href=\"#m74317f14cd\" x=\"95.637634\" y=\"57.50171\" style=\"fill: #dd8452; stroke: #333333\"/>\n     <use xlink:href=\"#m74317f14cd\" x=\"87.258702\" y=\"63.550717\" style=\"fill: #dd8452; stroke: #333333\"/>\n     <use xlink:href=\"#m74317f14cd\" x=\"113.62372\" y=\"64.20621\" style=\"fill: #dd8452; stroke: #333333\"/>\n     <use xlink:href=\"#m74317f14cd\" x=\"121.507201\" y=\"70.557528\" style=\"fill: #dd8452; stroke: #333333\"/>\n     <use xlink:href=\"#m74317f14cd\" x=\"256.719694\" y=\"188.443101\" style=\"fill: #dd8452; stroke: #333333\"/>\n     <use xlink:href=\"#m74317f14cd\" x=\"247.398611\" y=\"159.399988\" style=\"fill: #dd8452; stroke: #333333\"/>\n     <use xlink:href=\"#m74317f14cd\" x=\"98.441489\" y=\"70.334445\" style=\"fill: #dd8452; stroke: #333333\"/>\n     <use xlink:href=\"#m74317f14cd\" x=\"239.119728\" y=\"204.893901\" style=\"fill: #dd8452; stroke: #333333\"/>\n     <use xlink:href=\"#m74317f14cd\" x=\"104.085139\" y=\"51.860301\" style=\"fill: #dd8452; stroke: #333333\"/>\n     <use xlink:href=\"#m74317f14cd\" x=\"227.734908\" y=\"209.224106\" style=\"fill: #dd8452; stroke: #333333\"/>\n     <use xlink:href=\"#m74317f14cd\" x=\"239.302188\" y=\"192.38101\" style=\"fill: #dd8452; stroke: #333333\"/>\n     <use xlink:href=\"#m74317f14cd\" x=\"84.42775\" y=\"53.331357\" style=\"fill: #dd8452; stroke: #333333\"/>\n     <use xlink:href=\"#m74317f14cd\" x=\"110.325625\" y=\"61.201054\" style=\"fill: #dd8452; stroke: #333333\"/>\n     <use xlink:href=\"#m74317f14cd\" x=\"108.12941\" y=\"48.182158\" style=\"fill: #dd8452; stroke: #333333\"/>\n     <use xlink:href=\"#m74317f14cd\" x=\"245.859193\" y=\"199.878953\" style=\"fill: #dd8452; stroke: #333333\"/>\n     <use xlink:href=\"#m74317f14cd\" x=\"232.422875\" y=\"207.200652\" style=\"fill: #dd8452; stroke: #333333\"/>\n     <use xlink:href=\"#m74317f14cd\" x=\"221.418332\" y=\"202.494442\" style=\"fill: #dd8452; stroke: #333333\"/>\n     <use xlink:href=\"#m74317f14cd\" x=\"227.784336\" y=\"215.653\" style=\"fill: #dd8452; stroke: #333333\"/>\n     <use xlink:href=\"#m74317f14cd\" x=\"105.582346\" y=\"106.942558\" style=\"fill: #dd8452; stroke: #333333\"/>\n     <use xlink:href=\"#m74317f14cd\" x=\"98.271961\" y=\"81.3017\" style=\"fill: #dd8452; stroke: #333333\"/>\n     <use xlink:href=\"#m74317f14cd\" x=\"226.60529\" y=\"199.12116\" style=\"fill: #dd8452; stroke: #333333\"/>\n     <use xlink:href=\"#m74317f14cd\" x=\"234.205651\" y=\"215.072236\" style=\"fill: #dd8452; stroke: #333333\"/>\n     <use xlink:href=\"#m74317f14cd\" x=\"101.135675\" y=\"60.779125\" style=\"fill: #dd8452; stroke: #333333\"/>\n     <use xlink:href=\"#m74317f14cd\" x=\"213.261571\" y=\"196.916099\" style=\"fill: #dd8452; stroke: #333333\"/>\n     <use xlink:href=\"#m74317f14cd\" x=\"260.48045\" y=\"217.25388\" style=\"fill: #dd8452; stroke: #333333\"/>\n     <use xlink:href=\"#m74317f14cd\" x=\"108.289742\" y=\"60.258109\" style=\"fill: #dd8452; stroke: #333333\"/>\n     <use xlink:href=\"#m74317f14cd\" x=\"253.820314\" y=\"210.048958\" style=\"fill: #dd8452; stroke: #333333\"/>\n     <use xlink:href=\"#m74317f14cd\" x=\"123.109843\" y=\"81.543252\" style=\"fill: #dd8452; stroke: #333333\"/>\n     <use xlink:href=\"#m74317f14cd\" x=\"121.885847\" y=\"70.255473\" style=\"fill: #dd8452; stroke: #333333\"/>\n     <use xlink:href=\"#m74317f14cd\" x=\"117.424579\" y=\"81.212797\" style=\"fill: #dd8452; stroke: #333333\"/>\n     <use xlink:href=\"#m74317f14cd\" x=\"116.305025\" y=\"66.827365\" style=\"fill: #dd8452; stroke: #333333\"/>\n     <use xlink:href=\"#m74317f14cd\" x=\"104.971067\" y=\"60.559989\" style=\"fill: #dd8452; stroke: #333333\"/>\n     <use xlink:href=\"#m74317f14cd\" x=\"234.116724\" y=\"185.368615\" style=\"fill: #dd8452; stroke: #333333\"/>\n     <use xlink:href=\"#m74317f14cd\" x=\"228.413478\" y=\"171.262785\" style=\"fill: #dd8452; stroke: #333333\"/>\n     <use xlink:href=\"#m74317f14cd\" x=\"103.779244\" y=\"54.288921\" style=\"fill: #dd8452; stroke: #333333\"/>\n     <use xlink:href=\"#m74317f14cd\" x=\"94.497569\" y=\"72.804749\" style=\"fill: #dd8452; stroke: #333333\"/>\n     <use xlink:href=\"#m74317f14cd\" x=\"218.339406\" y=\"179.939618\" style=\"fill: #dd8452; stroke: #333333\"/>\n     <use xlink:href=\"#m74317f14cd\" x=\"98.492839\" y=\"89.311648\" style=\"fill: #dd8452; stroke: #333333\"/>\n     <use xlink:href=\"#m74317f14cd\" x=\"90.420107\" y=\"71.478522\" style=\"fill: #dd8452; stroke: #333333\"/>\n     <use xlink:href=\"#m74317f14cd\" x=\"218.188993\" y=\"187.953873\" style=\"fill: #dd8452; stroke: #333333\"/>\n     <use xlink:href=\"#m74317f14cd\" x=\"242.037216\" y=\"210.20254\" style=\"fill: #dd8452; stroke: #333333\"/>\n     <use xlink:href=\"#m74317f14cd\" x=\"222.479433\" y=\"204.552968\" style=\"fill: #dd8452; stroke: #333333\"/>\n     <use xlink:href=\"#m74317f14cd\" x=\"86.328998\" y=\"46.84839\" style=\"fill: #dd8452; stroke: #333333\"/>\n     <use xlink:href=\"#m74317f14cd\" x=\"95.512249\" y=\"59.878614\" style=\"fill: #dd8452; stroke: #333333\"/>\n     <use xlink:href=\"#m74317f14cd\" x=\"256.903524\" y=\"205.763316\" style=\"fill: #dd8452; stroke: #333333\"/>\n     <use xlink:href=\"#m74317f14cd\" x=\"240.853853\" y=\"225.315405\" style=\"fill: #dd8452; stroke: #333333\"/>\n     <use xlink:href=\"#m74317f14cd\" x=\"96.021172\" y=\"81.757052\" style=\"fill: #dd8452; stroke: #333333\"/>\n     <use xlink:href=\"#m74317f14cd\" x=\"80.439082\" y=\"75.428916\" style=\"fill: #dd8452; stroke: #333333\"/>\n     <use xlink:href=\"#m74317f14cd\" x=\"126.857221\" y=\"68.302256\" style=\"fill: #dd8452; stroke: #333333\"/>\n     <use xlink:href=\"#m74317f14cd\" x=\"229.447492\" y=\"206.811656\" style=\"fill: #dd8452; stroke: #333333\"/>\n     <use xlink:href=\"#m74317f14cd\" x=\"250.729033\" y=\"185.110928\" style=\"fill: #dd8452; stroke: #333333\"/>\n     <use xlink:href=\"#m74317f14cd\" x=\"109.255816\" y=\"70.271449\" style=\"fill: #dd8452; stroke: #333333\"/>\n     <use xlink:href=\"#m74317f14cd\" x=\"232.218412\" y=\"197.287101\" style=\"fill: #dd8452; stroke: #333333\"/>\n     <use xlink:href=\"#m74317f14cd\" x=\"243.894972\" y=\"191.663369\" style=\"fill: #dd8452; stroke: #333333\"/>\n     <use xlink:href=\"#m74317f14cd\" x=\"96.079843\" y=\"73.26662\" style=\"fill: #dd8452; stroke: #333333\"/>\n     <use xlink:href=\"#m74317f14cd\" x=\"109.799893\" y=\"68.88662\" style=\"fill: #dd8452; stroke: #333333\"/>\n     <use xlink:href=\"#m74317f14cd\" x=\"239.99289\" y=\"188.033541\" style=\"fill: #dd8452; stroke: #333333\"/>\n     <use xlink:href=\"#m74317f14cd\" x=\"240.599542\" y=\"215.269905\" style=\"fill: #dd8452; stroke: #333333\"/>\n     <use xlink:href=\"#m74317f14cd\" x=\"236.39434\" y=\"194.020422\" style=\"fill: #dd8452; stroke: #333333\"/>\n     <use xlink:href=\"#m74317f14cd\" x=\"108.923437\" y=\"70.292762\" style=\"fill: #dd8452; stroke: #333333\"/>\n     <use xlink:href=\"#m74317f14cd\" x=\"125.151215\" y=\"69.830508\" style=\"fill: #dd8452; stroke: #333333\"/>\n     <use xlink:href=\"#m74317f14cd\" x=\"231.909936\" y=\"206.71117\" style=\"fill: #dd8452; stroke: #333333\"/>\n     <use xlink:href=\"#m74317f14cd\" x=\"93.623321\" y=\"59.608719\" style=\"fill: #dd8452; stroke: #333333\"/>\n     <use xlink:href=\"#m74317f14cd\" x=\"238.607252\" y=\"185.578946\" style=\"fill: #dd8452; stroke: #333333\"/>\n     <use xlink:href=\"#m74317f14cd\" x=\"69.170298\" y=\"77.21405\" style=\"fill: #dd8452; stroke: #333333\"/>\n     <use xlink:href=\"#m74317f14cd\" x=\"262.661299\" y=\"191.509231\" style=\"fill: #dd8452; stroke: #333333\"/>\n    </g>\n   </g>\n   <g id=\"patch_3\">\n    <path d=\"M 59.024844 244.078125 \nL 59.024844 22.318125 \n\" style=\"fill: none; stroke: #ffffff; stroke-width: 1.25; stroke-linejoin: miter; stroke-linecap: square\"/>\n   </g>\n   <g id=\"patch_4\">\n    <path d=\"M 282.224844 244.078125 \nL 282.224844 22.318125 \n\" style=\"fill: none; stroke: #ffffff; stroke-width: 1.25; stroke-linejoin: miter; stroke-linecap: square\"/>\n   </g>\n   <g id=\"patch_5\">\n    <path d=\"M 59.024844 244.078125 \nL 282.224844 244.078125 \n\" style=\"fill: none; stroke: #ffffff; stroke-width: 1.25; stroke-linejoin: miter; stroke-linecap: square\"/>\n   </g>\n   <g id=\"patch_6\">\n    <path d=\"M 59.024844 22.318125 \nL 282.224844 22.318125 \n\" style=\"fill: none; stroke: #ffffff; stroke-width: 1.25; stroke-linejoin: miter; stroke-linecap: square\"/>\n   </g>\n   <g id=\"text_14\">\n    <!-- Dataset samples -->\n    <g style=\"fill: #262626\" transform=\"translate(120.282031 16.318125) scale(0.12 -0.12)\">\n     <defs>\n      <path id=\"DejaVuSans-44\" d=\"M 1259 4147 \nL 1259 519 \nL 2022 519 \nQ 2988 519 3436 956 \nQ 3884 1394 3884 2338 \nQ 3884 3275 3436 3711 \nQ 2988 4147 2022 4147 \nL 1259 4147 \nz\nM 628 4666 \nL 1925 4666 \nQ 3281 4666 3915 4102 \nQ 4550 3538 4550 2338 \nQ 4550 1131 3912 565 \nQ 3275 0 1925 0 \nL 628 0 \nL 628 4666 \nz\n\" transform=\"scale(0.015625)\"/>\n      <path id=\"DejaVuSans-61\" d=\"M 2194 1759 \nQ 1497 1759 1228 1600 \nQ 959 1441 959 1056 \nQ 959 750 1161 570 \nQ 1363 391 1709 391 \nQ 2188 391 2477 730 \nQ 2766 1069 2766 1631 \nL 2766 1759 \nL 2194 1759 \nz\nM 3341 1997 \nL 3341 0 \nL 2766 0 \nL 2766 531 \nQ 2569 213 2275 61 \nQ 1981 -91 1556 -91 \nQ 1019 -91 701 211 \nQ 384 513 384 1019 \nQ 384 1609 779 1909 \nQ 1175 2209 1959 2209 \nL 2766 2209 \nL 2766 2266 \nQ 2766 2663 2505 2880 \nQ 2244 3097 1772 3097 \nQ 1472 3097 1187 3025 \nQ 903 2953 641 2809 \nL 641 3341 \nQ 956 3463 1253 3523 \nQ 1550 3584 1831 3584 \nQ 2591 3584 2966 3190 \nQ 3341 2797 3341 1997 \nz\n\" transform=\"scale(0.015625)\"/>\n      <path id=\"DejaVuSans-74\" d=\"M 1172 4494 \nL 1172 3500 \nL 2356 3500 \nL 2356 3053 \nL 1172 3053 \nL 1172 1153 \nQ 1172 725 1289 603 \nQ 1406 481 1766 481 \nL 2356 481 \nL 2356 0 \nL 1766 0 \nQ 1100 0 847 248 \nQ 594 497 594 1153 \nL 594 3053 \nL 172 3053 \nL 172 3500 \nL 594 3500 \nL 594 4494 \nL 1172 4494 \nz\n\" transform=\"scale(0.015625)\"/>\n      <path id=\"DejaVuSans-73\" d=\"M 2834 3397 \nL 2834 2853 \nQ 2591 2978 2328 3040 \nQ 2066 3103 1784 3103 \nQ 1356 3103 1142 2972 \nQ 928 2841 928 2578 \nQ 928 2378 1081 2264 \nQ 1234 2150 1697 2047 \nL 1894 2003 \nQ 2506 1872 2764 1633 \nQ 3022 1394 3022 966 \nQ 3022 478 2636 193 \nQ 2250 -91 1575 -91 \nQ 1294 -91 989 -36 \nQ 684 19 347 128 \nL 347 722 \nQ 666 556 975 473 \nQ 1284 391 1588 391 \nQ 1994 391 2212 530 \nQ 2431 669 2431 922 \nQ 2431 1156 2273 1281 \nQ 2116 1406 1581 1522 \nL 1381 1569 \nQ 847 1681 609 1914 \nQ 372 2147 372 2553 \nQ 372 3047 722 3315 \nQ 1072 3584 1716 3584 \nQ 2034 3584 2315 3537 \nQ 2597 3491 2834 3397 \nz\n\" transform=\"scale(0.015625)\"/>\n      <path id=\"DejaVuSans-65\" d=\"M 3597 1894 \nL 3597 1613 \nL 953 1613 \nQ 991 1019 1311 708 \nQ 1631 397 2203 397 \nQ 2534 397 2845 478 \nQ 3156 559 3463 722 \nL 3463 178 \nQ 3153 47 2828 -22 \nQ 2503 -91 2169 -91 \nQ 1331 -91 842 396 \nQ 353 884 353 1716 \nQ 353 2575 817 3079 \nQ 1281 3584 2069 3584 \nQ 2775 3584 3186 3129 \nQ 3597 2675 3597 1894 \nz\nM 3022 2063 \nQ 3016 2534 2758 2815 \nQ 2500 3097 2075 3097 \nQ 1594 3097 1305 2825 \nQ 1016 2553 972 2059 \nL 3022 2063 \nz\n\" transform=\"scale(0.015625)\"/>\n      <path id=\"DejaVuSans-20\" transform=\"scale(0.015625)\"/>\n      <path id=\"DejaVuSans-6d\" d=\"M 3328 2828 \nQ 3544 3216 3844 3400 \nQ 4144 3584 4550 3584 \nQ 5097 3584 5394 3201 \nQ 5691 2819 5691 2113 \nL 5691 0 \nL 5113 0 \nL 5113 2094 \nQ 5113 2597 4934 2840 \nQ 4756 3084 4391 3084 \nQ 3944 3084 3684 2787 \nQ 3425 2491 3425 1978 \nL 3425 0 \nL 2847 0 \nL 2847 2094 \nQ 2847 2600 2669 2842 \nQ 2491 3084 2119 3084 \nQ 1678 3084 1418 2786 \nQ 1159 2488 1159 1978 \nL 1159 0 \nL 581 0 \nL 581 3500 \nL 1159 3500 \nL 1159 2956 \nQ 1356 3278 1631 3431 \nQ 1906 3584 2284 3584 \nQ 2666 3584 2933 3390 \nQ 3200 3197 3328 2828 \nz\n\" transform=\"scale(0.015625)\"/>\n      <path id=\"DejaVuSans-70\" d=\"M 1159 525 \nL 1159 -1331 \nL 581 -1331 \nL 581 3500 \nL 1159 3500 \nL 1159 2969 \nQ 1341 3281 1617 3432 \nQ 1894 3584 2278 3584 \nQ 2916 3584 3314 3078 \nQ 3713 2572 3713 1747 \nQ 3713 922 3314 415 \nQ 2916 -91 2278 -91 \nQ 1894 -91 1617 61 \nQ 1341 213 1159 525 \nz\nM 3116 1747 \nQ 3116 2381 2855 2742 \nQ 2594 3103 2138 3103 \nQ 1681 3103 1420 2742 \nQ 1159 2381 1159 1747 \nQ 1159 1113 1420 752 \nQ 1681 391 2138 391 \nQ 2594 391 2855 752 \nQ 3116 1113 3116 1747 \nz\n\" transform=\"scale(0.015625)\"/>\n      <path id=\"DejaVuSans-6c\" d=\"M 603 4863 \nL 1178 4863 \nL 1178 0 \nL 603 0 \nL 603 4863 \nz\n\" transform=\"scale(0.015625)\"/>\n     </defs>\n     <use xlink:href=\"#DejaVuSans-44\"/>\n     <use xlink:href=\"#DejaVuSans-61\" x=\"77.001953\"/>\n     <use xlink:href=\"#DejaVuSans-74\" x=\"138.28125\"/>\n     <use xlink:href=\"#DejaVuSans-61\" x=\"177.490234\"/>\n     <use xlink:href=\"#DejaVuSans-73\" x=\"238.769531\"/>\n     <use xlink:href=\"#DejaVuSans-65\" x=\"290.869141\"/>\n     <use xlink:href=\"#DejaVuSans-74\" x=\"352.392578\"/>\n     <use xlink:href=\"#DejaVuSans-20\" x=\"391.601562\"/>\n     <use xlink:href=\"#DejaVuSans-73\" x=\"423.388672\"/>\n     <use xlink:href=\"#DejaVuSans-61\" x=\"475.488281\"/>\n     <use xlink:href=\"#DejaVuSans-6d\" x=\"536.767578\"/>\n     <use xlink:href=\"#DejaVuSans-70\" x=\"634.179688\"/>\n     <use xlink:href=\"#DejaVuSans-6c\" x=\"697.65625\"/>\n     <use xlink:href=\"#DejaVuSans-65\" x=\"725.439453\"/>\n     <use xlink:href=\"#DejaVuSans-73\" x=\"786.962891\"/>\n    </g>\n   </g>\n   <g id=\"legend_1\">\n    <g id=\"patch_7\">\n     <path d=\"M 199.891562 150.994063 \nL 274.524844 150.994063 \nQ 276.724844 150.994063 276.724844 148.794063 \nL 276.724844 117.602188 \nQ 276.724844 115.402188 274.524844 115.402188 \nL 199.891562 115.402188 \nQ 197.691562 115.402188 197.691562 117.602188 \nL 197.691562 148.794063 \nQ 197.691562 150.994063 199.891562 150.994063 \nz\n\" style=\"fill: #eaeaf2; opacity: 0.8; stroke: #cccccc; stroke-linejoin: miter\"/>\n    </g>\n    <g id=\"PathCollection_3\">\n     <g>\n      <use xlink:href=\"#mf060c98210\" x=\"213.091562\" y=\"125.272969\" style=\"fill: #4c72b0; stroke: #333333\"/>\n     </g>\n    </g>\n    <g id=\"text_15\">\n     <!-- Class 0 -->\n     <g style=\"fill: #262626\" transform=\"translate(232.891562 128.160469) scale(0.11 -0.11)\">\n      <defs>\n       <path id=\"DejaVuSans-43\" d=\"M 4122 4306 \nL 4122 3641 \nQ 3803 3938 3442 4084 \nQ 3081 4231 2675 4231 \nQ 1875 4231 1450 3742 \nQ 1025 3253 1025 2328 \nQ 1025 1406 1450 917 \nQ 1875 428 2675 428 \nQ 3081 428 3442 575 \nQ 3803 722 4122 1019 \nL 4122 359 \nQ 3791 134 3420 21 \nQ 3050 -91 2638 -91 \nQ 1578 -91 968 557 \nQ 359 1206 359 2328 \nQ 359 3453 968 4101 \nQ 1578 4750 2638 4750 \nQ 3056 4750 3426 4639 \nQ 3797 4528 4122 4306 \nz\n\" transform=\"scale(0.015625)\"/>\n      </defs>\n      <use xlink:href=\"#DejaVuSans-43\"/>\n      <use xlink:href=\"#DejaVuSans-6c\" x=\"69.824219\"/>\n      <use xlink:href=\"#DejaVuSans-61\" x=\"97.607422\"/>\n      <use xlink:href=\"#DejaVuSans-73\" x=\"158.886719\"/>\n      <use xlink:href=\"#DejaVuSans-73\" x=\"210.986328\"/>\n      <use xlink:href=\"#DejaVuSans-20\" x=\"263.085938\"/>\n      <use xlink:href=\"#DejaVuSans-30\" x=\"294.873047\"/>\n     </g>\n    </g>\n    <g id=\"PathCollection_4\">\n     <g>\n      <use xlink:href=\"#m74317f14cd\" x=\"213.091562\" y=\"141.418906\" style=\"fill: #dd8452; stroke: #333333\"/>\n     </g>\n    </g>\n    <g id=\"text_16\">\n     <!-- Class 1 -->\n     <g style=\"fill: #262626\" transform=\"translate(232.891562 144.306406) scale(0.11 -0.11)\">\n      <use xlink:href=\"#DejaVuSans-43\"/>\n      <use xlink:href=\"#DejaVuSans-6c\" x=\"69.824219\"/>\n      <use xlink:href=\"#DejaVuSans-61\" x=\"97.607422\"/>\n      <use xlink:href=\"#DejaVuSans-73\" x=\"158.886719\"/>\n      <use xlink:href=\"#DejaVuSans-73\" x=\"210.986328\"/>\n      <use xlink:href=\"#DejaVuSans-20\" x=\"263.085938\"/>\n      <use xlink:href=\"#DejaVuSans-31\" x=\"294.873047\"/>\n     </g>\n    </g>\n   </g>\n  </g>\n </g>\n <defs>\n  <clipPath id=\"pc79aa4b8b7\">\n   <rect x=\"59.024844\" y=\"22.318125\" width=\"223.2\" height=\"221.76\"/>\n  </clipPath>\n </defs>\n</svg>\n",
            "application/pdf": "[encoded data removed]"
          },
          "metadata": {}
        }
      ],
      "source": [
        "visualize_samples(dataset.data, dataset.label)\n",
        "plt.show()"
      ]
    },
    {
      "cell_type": "markdown",
      "metadata": {
        "id": "N_Q2Szh8exHD"
      },
      "source": [
        "#### The data loader class\n",
        "\n",
        "The class `torch.utils.data.DataLoader` represents a Python iterable over a dataset with support for automatic batching, multi-process data loading and many more features. The data loader communicates with the dataset using the function `__getitem__`, and stacks its outputs as tensors over the first dimension to form a batch.\n",
        "In contrast to the dataset class, we usually don't have to define our own data loader class, but can just create an object of it with the dataset as input. Additionally, we can configure our data loader with the following input arguments (only a selection, see full list [here](https://pytorch.org/docs/stable/data.html#torch.utils.data.DataLoader)):\n",
        "\n",
        "* `batch_size`: Number of samples to stack per batch\n",
        "* `shuffle`: If True, the data is returned in a random order. This is important during training for introducing stochasticity.\n",
        "* `num_workers`: Number of subprocesses to use for data loading. The default, 0, means that the data will be loaded in the main process which can slow down training for datasets where loading a data point takes a considerable amount of time (e.g. large images). More workers are recommended for those, but can cause issues on Windows computers. For tiny datasets as ours, 0 workers are usually faster.\n",
        "* `pin_memory`: If True, the data loader will copy Tensors into CUDA pinned memory before returning them. This can save some time for large data points on GPUs. Usually a good practice to use for a training set, but not necessarily for validation and test to save memory on the GPU.\n",
        "* `drop_last`: If True, the last batch is dropped in case it is smaller than the specified batch size. This occurs when the dataset size is not a multiple of the batch size. Only potentially helpful during training to keep a consistent batch size.\n",
        "\n",
        "Let's create a simple data loader below:"
      ]
    },
    {
      "cell_type": "code",
      "execution_count": 14,
      "metadata": {
        "id": "sAeKLaOVexHD"
      },
      "outputs": [],
      "source": [
        "data_loader = data.DataLoader(dataset, batch_size=8, shuffle=True)"
      ]
    },
    {
      "cell_type": "code",
      "execution_count": null,
      "metadata": {
        "id": "B249J8FfexHD",
        "outputId": "b8139cff-c844-41e4-f4a4-0aea85cd1263"
      },
      "outputs": [
        {
          "name": "stdout",
          "output_type": "stream",
          "text": [
            "Data inputs torch.Size([8, 2]) \n",
            " tensor([[-0.0890,  0.8608],\n",
            "        [ 1.0905, -0.0128],\n",
            "        [ 0.7967,  0.2268],\n",
            "        [-0.0688,  0.0371],\n",
            "        [ 0.8732, -0.2240],\n",
            "        [-0.0559, -0.0282],\n",
            "        [ 0.9277,  0.0978],\n",
            "        [ 1.0150,  0.9689]])\n",
            "Data labels torch.Size([8]) \n",
            " tensor([1, 1, 1, 0, 1, 0, 1, 0])\n"
          ]
        }
      ],
      "source": [
        "# next(iter(...)) catches the first batch of the data loader\n",
        "# If shuffle is True, this will return a different batch every time we run this cell\n",
        "# For iterating over the whole dataset, we can simple use \"for batch in data_loader: ...\"\n",
        "data_inputs, data_labels = next(iter(data_loader))\n",
        "\n",
        "# The shape of the outputs are [batch_size, d_1,...,d_N] where d_1,...,d_N are the\n",
        "# dimensions of the data point returned from the dataset class\n",
        "print(\"Data inputs\", data_inputs.shape, \"\\n\", data_inputs)\n",
        "print(\"Data labels\", data_labels.shape, \"\\n\", data_labels)"
      ]
    },
    {
      "cell_type": "markdown",
      "metadata": {
        "id": "FXevLhI2exHE"
      },
      "source": [
        "### Optimization\n",
        "\n",
        "After defining the model and the dataset, it is time to prepare the optimization of the model. During training, we will perform the following steps:\n",
        "\n",
        "1. Get a batch from the data loader\n",
        "2. Obtain the predictions from the model for the batch\n",
        "3. Calculate the loss based on the difference between predictions and labels\n",
        "4. Backpropagation: calculate the gradients for every parameter with respect to the loss\n",
        "5. Update the parameters of the model in the direction of the gradients\n",
        "\n",
        "We have seen how we can do step 1, 2 and 4 in PyTorch. Now, we will look at step 3 and 5."
      ]
    },
    {
      "cell_type": "markdown",
      "metadata": {
        "id": "urIdBxI0exHE"
      },
      "source": [
        "#### Loss modules\n",
        "\n",
        "We can calculate the loss for a batch by simply performing a few tensor operations as those are automatically added to the computation graph. For instance, for binary classification, we can use Binary Cross Entropy (BCE) which is defined as follows:\n",
        "\n",
        "$$\\mathcal{L}_{BCE} = -\\sum_i \\left[ y_i \\log x_i + (1 - y_i) \\log (1 - x_i) \\right]$$\n",
        "\n",
        "where $y$ are our labels, and $x$ our predictions, both in the range of $[0,1]$. However, PyTorch already provides a list of predefined loss functions which we can use (see [here](https://pytorch.org/docs/stable/nn.html#loss-functions) for a full list). For instance, for BCE, PyTorch has two modules: `nn.BCELoss()`, `nn.BCEWithLogitsLoss()`. While `nn.BCELoss` expects the inputs $x$ to be in the range $[0,1]$, i.e. the output of a sigmoid, `nn.BCEWithLogitsLoss` combines a sigmoid layer and the BCE loss in a single class. This version is numerically more stable than using a plain Sigmoid followed by a BCE loss because of the logarithms applied in the loss function. Hence, it is adviced to use loss functions applied on \"logits\" where possible (remember to not apply a sigmoid on the output of the model in this case!). For our model defined above, we therefore use the module `nn.BCEWithLogitsLoss`."
      ]
    },
    {
      "cell_type": "code",
      "execution_count": 18,
      "metadata": {
        "id": "YaqtqLOGexHE"
      },
      "outputs": [],
      "source": [
        "loss_module = nn.BCEWithLogitsLoss()"
      ]
    },
    {
      "cell_type": "markdown",
      "metadata": {
        "id": "oUQiTPnyexHE"
      },
      "source": [
        "#### Stochastic Gradient Descent\n",
        "\n",
        "For updating the parameters, PyTorch provides the package `torch.optim` that has most popular optimizers implemented. We will discuss the specific optimizers and their differences later in the course, but will for now use the simplest of them: `torch.optim.SGD`. Stochastic Gradient Descent updates parameters by multiplying the gradients with a small constant, called learning rate, and subtracting those from the parameters (hence minimizing the loss). Therefore, we slowly move towards the direction of minimizing the loss. A good default value of the learning rate for a small network as ours is 0.1."
      ]
    },
    {
      "cell_type": "code",
      "execution_count": null,
      "metadata": {
        "id": "m3aH6BwxexHE"
      },
      "outputs": [],
      "source": [
        "# Input to the optimizer are the parameters of the model: model.parameters()\n",
        "optimizer = torch.optim.SGD(model.parameters(), lr=0.1)"
      ]
    },
    {
      "cell_type": "markdown",
      "metadata": {
        "id": "qZkTPPc1exHE"
      },
      "source": [
        "The optimizer provides two useful functions: `optimizer.step()`, and `optimizer.zero_grad()`. The step function updates the parameters based on the gradients as explained above. The function `optimizer.zero_grad()` sets the gradients of all parameters to zero. While this function seems less relevant at first, it is a crucial pre-step before performing backpropagation. If we call the `backward` function on the loss while the parameter gradients are non-zero from the previous batch, the new gradients would actually be added to the previous ones instead of overwriting them. This is done because a parameter might occur multiple times in a computation graph, and we need to sum the gradients in this case instead of replacing them. Hence, remember to call `optimizer.zero_grad()` before calculating the gradients of a batch."
      ]
    },
    {
      "cell_type": "markdown",
      "metadata": {
        "id": "7yL11j5BexHE"
      },
      "source": [
        "### Training\n",
        "\n",
        "Finally, we are ready to train our model. As a first step, we create a slightly larger dataset and specify a data loader with a larger batch size."
      ]
    },
    {
      "cell_type": "code",
      "execution_count": 19,
      "metadata": {
        "id": "ZJzKwcw9exHE"
      },
      "outputs": [],
      "source": [
        "train_dataset = XORDataset(size=2500)\n",
        "train_data_loader = data.DataLoader(train_dataset, batch_size=128, shuffle=True)"
      ]
    },
    {
      "cell_type": "markdown",
      "metadata": {
        "id": "SSH_QbKHexHE"
      },
      "source": [
        "Now, we can write a small training function. Remember our five steps: load a batch, obtain the predictions, calculate the loss, backpropagate, and update. Additionally, we have to push all data and model parameters to the device of our choice (GPU if available). For the tiny neural network we have, communicating the data to the GPU actually takes much more time than we could save from running the operation on CPU. For large networks, the communication time is significantly smaller than the actual runtime making a GPU crucial in these cases. Still, to practice, we will push the data to GPU here."
      ]
    },
    {
      "cell_type": "code",
      "execution_count": 27,
      "metadata": {
        "id": "73xaPik8exHE",
        "outputId": "68f7349d-274a-4b83-a330-8b5395f32c92",
        "colab": {
          "base_uri": "https://localhost:8080/"
        }
      },
      "outputs": [
        {
          "output_type": "execute_result",
          "data": {
            "text/plain": [
              "SimpleClassifier(\n",
              "  (linear1): Linear(in_features=2, out_features=4, bias=True)\n",
              "  (act_fn): Tanh()\n",
              "  (linear2): Linear(in_features=4, out_features=1, bias=True)\n",
              ")"
            ]
          },
          "metadata": {},
          "execution_count": 27
        }
      ],
      "source": [
        "# Push model to device. Has to be only done once\n",
        "model.to(device)"
      ]
    },
    {
      "cell_type": "markdown",
      "metadata": {
        "id": "pW97FnzFexHE"
      },
      "source": [
        "In addition, we set our model to training mode. This is done by calling `model.train()`. There exist certain modules that need to perform a different forward step during training than during testing (e.g. BatchNorm and Dropout), and we can switch between them using `model.train()` and `model.eval()`."
      ]
    },
    {
      "cell_type": "code",
      "execution_count": 28,
      "metadata": {
        "id": "zZsJU82NexHE"
      },
      "outputs": [],
      "source": [
        "def train_model(model, optimizer, data_loader, loss_module, num_epochs=100):\n",
        "    # Set model to train mode\n",
        "    model.train()\n",
        "\n",
        "    # Training loop\n",
        "    for epoch in tqdm(range(num_epochs)):\n",
        "        for data_inputs, data_labels in data_loader:\n",
        "\n",
        "            ## Step 1: Move input data to device (only strictly necessary if we use GPU)\n",
        "            data_inputs = data_inputs.to(device)\n",
        "            data_labels = data_labels.to(device)\n",
        "\n",
        "            ## Step 2: Run the model on the input data\n",
        "            preds = model(data_inputs)\n",
        "            preds = preds.squeeze(dim=1) # Output is [Batch size, 1], but we want [Batch size]\n",
        "\n",
        "            ## Step 3: Calculate the loss\n",
        "            loss = loss_module(preds, data_labels.float())\n",
        "\n",
        "            ## Step 4: Perform backpropagation\n",
        "            # Before calculating the gradients, we need to ensure that they are all zero.\n",
        "            # The gradients would not be overwritten, but actually added to the existing ones.\n",
        "            optimizer.zero_grad()\n",
        "            # Perform backpropagation\n",
        "            loss.backward()\n",
        "\n",
        "            ## Step 5: Update the parameters\n",
        "            optimizer.step()"
      ]
    },
    {
      "cell_type": "code",
      "execution_count": null,
      "metadata": {
        "id": "2MtPabBQexHE",
        "outputId": "b8a801ef-7d67-447d-c1ea-c1b7e58b16f5",
        "colab": {
          "referenced_widgets": [
            "eb0f1646f5f4459c86c22f0845150144"
          ]
        }
      },
      "outputs": [
        {
          "data": {
            "application/vnd.jupyter.widget-view+json": {
              "model_id": "eb0f1646f5f4459c86c22f0845150144",
              "version_major": 2,
              "version_minor": 0
            },
            "text/plain": [
              "  0%|          | 0/100 [00:00<?, ?it/s]"
            ]
          },
          "metadata": {},
          "output_type": "display_data"
        }
      ],
      "source": [
        "train_model(model, optimizer, train_data_loader, loss_module)"
      ]
    },
    {
      "cell_type": "markdown",
      "metadata": {
        "id": "XpahzEZSexHE"
      },
      "source": [
        "#### Saving a model\n",
        "\n",
        "After finish training a model, we save the model to disk so that we can load the same weights at a later time. For this, we extract the so-called `state_dict` from the model which contains all learnable parameters. For our simple model, the state dict contains the following entries:"
      ]
    },
    {
      "cell_type": "code",
      "execution_count": 29,
      "metadata": {
        "id": "W28fFvVoexHE",
        "outputId": "e479090e-3a55-449b-fc64-0362690281ab",
        "colab": {
          "base_uri": "https://localhost:8080/"
        }
      },
      "outputs": [
        {
          "output_type": "stream",
          "name": "stdout",
          "text": [
            "OrderedDict([('linear1.weight', tensor([[-0.3988,  0.3393],\n",
            "        [-0.3900,  0.0668],\n",
            "        [ 0.1068,  0.1485],\n",
            "        [-0.3606,  0.0247]], device='cuda:0')), ('linear1.bias', tensor([ 0.4900,  0.3665,  0.1351, -0.5623], device='cuda:0')), ('linear2.weight', tensor([[ 0.2352, -0.1991,  0.3499,  0.2077]], device='cuda:0')), ('linear2.bias', tensor([-0.0918], device='cuda:0'))])\n"
          ]
        }
      ],
      "source": [
        "state_dict = model.state_dict()\n",
        "print(state_dict)"
      ]
    },
    {
      "cell_type": "markdown",
      "metadata": {
        "id": "TQcQqqwkexHE"
      },
      "source": [
        "To save the state dictionary, we can use `torch.save`:"
      ]
    },
    {
      "cell_type": "code",
      "execution_count": 31,
      "metadata": {
        "id": "KcXzoxdGexHE"
      },
      "outputs": [],
      "source": [
        "# torch.save(object, filename). For the filename, any extension can be used\n",
        "torch.save(state_dict, \"our_model.tar\")"
      ]
    },
    {
      "cell_type": "markdown",
      "metadata": {
        "id": "vtRt_WsmexHE"
      },
      "source": [
        "To load a model from a state dict, we use the function `torch.load` to load the state dict from the disk, and the module function `load_state_dict` to overwrite our parameters with the new values:"
      ]
    },
    {
      "cell_type": "code",
      "execution_count": 32,
      "metadata": {
        "id": "iCuKoFI8exHE",
        "outputId": "6ab3314e-01a3-4ca8-c237-ad6efced663c",
        "colab": {
          "base_uri": "https://localhost:8080/"
        }
      },
      "outputs": [
        {
          "output_type": "stream",
          "name": "stdout",
          "text": [
            "Original model\n",
            " OrderedDict([('linear1.weight', tensor([[-0.3988,  0.3393],\n",
            "        [-0.3900,  0.0668],\n",
            "        [ 0.1068,  0.1485],\n",
            "        [-0.3606,  0.0247]], device='cuda:0')), ('linear1.bias', tensor([ 0.4900,  0.3665,  0.1351, -0.5623], device='cuda:0')), ('linear2.weight', tensor([[ 0.2352, -0.1991,  0.3499,  0.2077]], device='cuda:0')), ('linear2.bias', tensor([-0.0918], device='cuda:0'))])\n",
            "\n",
            "Loaded model\n",
            " OrderedDict([('linear1.weight', tensor([[-0.3988,  0.3393],\n",
            "        [-0.3900,  0.0668],\n",
            "        [ 0.1068,  0.1485],\n",
            "        [-0.3606,  0.0247]])), ('linear1.bias', tensor([ 0.4900,  0.3665,  0.1351, -0.5623])), ('linear2.weight', tensor([[ 0.2352, -0.1991,  0.3499,  0.2077]])), ('linear2.bias', tensor([-0.0918]))])\n"
          ]
        },
        {
          "output_type": "stream",
          "name": "stderr",
          "text": [
            "<ipython-input-32-9b8ea49100fa>:2: FutureWarning: You are using `torch.load` with `weights_only=False` (the current default value), which uses the default pickle module implicitly. It is possible to construct malicious pickle data which will execute arbitrary code during unpickling (See https://github.com/pytorch/pytorch/blob/main/SECURITY.md#untrusted-models for more details). In a future release, the default value for `weights_only` will be flipped to `True`. This limits the functions that could be executed during unpickling. Arbitrary objects will no longer be allowed to be loaded via this mode unless they are explicitly allowlisted by the user via `torch.serialization.add_safe_globals`. We recommend you start setting `weights_only=True` for any use case where you don't have full control of the loaded file. Please open an issue on GitHub for any issues related to this experimental feature.\n",
            "  state_dict = torch.load(\"our_model.tar\")\n"
          ]
        }
      ],
      "source": [
        "# Load state dict from the disk (make sure it is the same name as above)\n",
        "state_dict = torch.load(\"our_model.tar\")\n",
        "\n",
        "# Create a new model and load the state\n",
        "new_model = SimpleClassifier(num_inputs=2, num_hidden=4, num_outputs=1)\n",
        "new_model.load_state_dict(state_dict)\n",
        "\n",
        "# Verify that the parameters are the same\n",
        "print(\"Original model\\n\", model.state_dict())\n",
        "print(\"\\nLoaded model\\n\", new_model.state_dict())"
      ]
    },
    {
      "cell_type": "markdown",
      "metadata": {
        "id": "SdcBj2G4exHF"
      },
      "source": [
        "A detailed tutorial on saving and loading models in PyTorch can be found [here](https://pytorch.org/tutorials/beginner/saving_loading_models.html)."
      ]
    },
    {
      "cell_type": "markdown",
      "metadata": {
        "id": "3r3KjsZJexHF"
      },
      "source": [
        "### Evaluation\n",
        "\n",
        "Once we have trained a model, it is time to evaluate it on a held-out test set. As our dataset consist of randomly generated data points, we need to first create a test set with a corresponding data loader."
      ]
    },
    {
      "cell_type": "code",
      "execution_count": null,
      "metadata": {
        "id": "MdT0QTtpexHF"
      },
      "outputs": [],
      "source": [
        "test_dataset = XORDataset(size=500)\n",
        "# drop_last -> Don't drop the last batch although it is smaller than 128\n",
        "test_data_loader = data.DataLoader(test_dataset, batch_size=128, shuffle=False, drop_last=False)"
      ]
    },
    {
      "cell_type": "markdown",
      "metadata": {
        "id": "De3BZsGMexHF"
      },
      "source": [
        "As metric, we will use accuracy which is calculated as follows:\n",
        "\n",
        "$$acc = \\frac{\\#\\text{correct predictions}}{\\#\\text{all predictions}} = \\frac{TP+TN}{TP+TN+FP+FN}$$\n",
        "\n",
        "where TP are the true positives, TN true negatives, FP false positives, and FN the fale negatives.\n",
        "\n",
        "When evaluating the model, we don't need to keep track of the computation graph as we don't intend to calculate the gradients. This reduces the required memory and speed up the model. In PyTorch, we can deactivate the computation graph using `with torch.no_grad(): ...`. Remember to additionally set the model to eval mode."
      ]
    },
    {
      "cell_type": "code",
      "execution_count": null,
      "metadata": {
        "id": "gIt8qF5wexHF"
      },
      "outputs": [],
      "source": [
        "def eval_model(model, data_loader):\n",
        "    model.eval() # Set model to eval mode\n",
        "    true_preds, num_preds = 0., 0.\n",
        "\n",
        "    with torch.no_grad(): # Deactivate gradients for the following code\n",
        "        for data_inputs, data_labels in data_loader:\n",
        "\n",
        "            # Determine prediction of model on dev set\n",
        "            data_inputs, data_labels = data_inputs.to(device), data_labels.to(device)\n",
        "            preds = model(data_inputs)\n",
        "            preds = preds.squeeze(dim=1)\n",
        "            preds = torch.sigmoid(preds) # Sigmoid to map predictions between 0 and 1\n",
        "            pred_labels = (preds >= 0.5).long() # Binarize predictions to 0 and 1\n",
        "\n",
        "            # Keep records of predictions for the accuracy metric (true_preds=TP+TN, num_preds=TP+TN+FP+FN)\n",
        "            true_preds += (pred_labels == data_labels).sum()\n",
        "            num_preds += data_labels.shape[0]\n",
        "\n",
        "    acc = true_preds / num_preds\n",
        "    print(f\"Accuracy of the model: {100.0*acc:4.2f}%\")"
      ]
    },
    {
      "cell_type": "code",
      "execution_count": null,
      "metadata": {
        "id": "HaPIdxA7exHF",
        "outputId": "339b2597-f771-4609-d4cb-ff59e036135f"
      },
      "outputs": [
        {
          "name": "stdout",
          "output_type": "stream",
          "text": [
            "Accuracy of the model: 100.00%\n"
          ]
        }
      ],
      "source": [
        "eval_model(model, test_data_loader)"
      ]
    },
    {
      "cell_type": "markdown",
      "metadata": {
        "id": "-FyLRutqexHF"
      },
      "source": [
        "If we trained our model correctly, we should see a score close to 100% accuracy. However, this is only possible because of our simple task, and unfortunately, we usually don't get such high scores on test sets of more complex tasks."
      ]
    },
    {
      "cell_type": "markdown",
      "metadata": {
        "id": "nl9dDx1MexHF"
      },
      "source": [
        "#### Visualizing classification boundaries\n",
        "\n",
        "To visualize what our model has learned, we can perform a prediction for every data point in a range of $[-0.5, 1.5]$, and visualize the predicted class as in the sample figure at the beginning of this section. This shows where the model has created decision boundaries, and which points would be classified as $0$, and which as $1$. We therefore get a background image out of blue (class 0) and orange (class 1). The spots where the model is uncertain we will see a blurry overlap. The specific code is less relevant compared to the output figure which should hopefully show us a clear separation of classes:"
      ]
    },
    {
      "cell_type": "code",
      "execution_count": 33,
      "metadata": {
        "id": "-Tra_2wPexHF",
        "outputId": "d1848e65-6e92-4582-f1aa-98fc1032de0a",
        "colab": {
          "base_uri": "https://localhost:8080/",
          "height": 404
        }
      },
      "outputs": [
        {
          "output_type": "display_data",
          "data": {
            "text/plain": [
              "<Figure size 2000x2000 with 1 Axes>"
            ],
            "image/svg+xml": "<?xml version=\"1.0\" encoding=\"utf-8\" standalone=\"no\"?>\n<!DOCTYPE svg PUBLIC \"-//W3C//DTD SVG 1.1//EN\"\n  \"http://www.w3.org/Graphics/SVG/1.1/DTD/svg11.dtd\">\n<svg xmlns:xlink=\"http://www.w3.org/1999/xlink\" width=\"303.730313pt\" height=\"287.037813pt\" viewBox=\"0 0 303.730313 287.037813\" xmlns=\"http://www.w3.org/2000/svg\" version=\"1.1\">\n <metadata>\n  <rdf:RDF xmlns:dc=\"http://purl.org/dc/elements/1.1/\" xmlns:cc=\"http://creativecommons.org/ns#\" xmlns:rdf=\"http://www.w3.org/1999/02/22-rdf-syntax-ns#\">\n   <cc:Work>\n    <dc:type rdf:resource=\"http://purl.org/dc/dcmitype/StillImage\"/>\n    <dc:date>2024-12-08T04:33:44.436754</dc:date>\n    <dc:format>image/svg+xml</dc:format>\n    <dc:creator>\n     <cc:Agent>\n      <dc:title>Matplotlib v3.8.0, https://matplotlib.org/</dc:title>\n     </cc:Agent>\n    </dc:creator>\n   </cc:Work>\n  </rdf:RDF>\n </metadata>\n <defs>\n  <style type=\"text/css\">*{stroke-linejoin: round; stroke-linecap: butt}</style>\n </defs>\n <g id=\"figure_1\">\n  <g id=\"patch_1\">\n   <path d=\"M 0 287.037813 \nL 303.730313 287.037813 \nL 303.730313 0 \nL 0 0 \nz\n\" style=\"fill: #ffffff\"/>\n  </g>\n  <g id=\"axes_1\">\n   <g id=\"patch_2\">\n    <path d=\"M 66.023594 244.078125 \nL 287.783594 244.078125 \nL 287.783594 22.318125 \nL 66.023594 22.318125 \nz\n\" style=\"fill: #eaeaf2\"/>\n   </g>\n   <g clip-path=\"url(#p06f323d387)\">\n    <image xlink:href=\"data:image/png;base64,\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\" id=\"imagee51f155b10\" transform=\"scale(1 -1) translate(0 -221.904)\" x=\"66.023594\" y=\"-22.174125\" width=\"221.904\" height=\"221.904\"/>\n   </g>\n   <g id=\"matplotlib.axis_1\">\n    <g id=\"xtick_1\">\n     <g id=\"text_1\">\n      <!-- −0.5 -->\n      <g style=\"fill: #262626\" transform=\"translate(52.668047 261.936406) scale(0.11 -0.11)\">\n       <defs>\n        <path id=\"DejaVuSans-2212\" d=\"M 678 2272 \nL 4684 2272 \nL 4684 1741 \nL 678 1741 \nL 678 2272 \nz\n\" transform=\"scale(0.015625)\"/>\n        <path id=\"DejaVuSans-30\" d=\"M 2034 4250 \nQ 1547 4250 1301 3770 \nQ 1056 3291 1056 2328 \nQ 1056 1369 1301 889 \nQ 1547 409 2034 409 \nQ 2525 409 2770 889 \nQ 3016 1369 3016 2328 \nQ 3016 3291 2770 3770 \nQ 2525 4250 2034 4250 \nz\nM 2034 4750 \nQ 2819 4750 3233 4129 \nQ 3647 3509 3647 2328 \nQ 3647 1150 3233 529 \nQ 2819 -91 2034 -91 \nQ 1250 -91 836 529 \nQ 422 1150 422 2328 \nQ 422 3509 836 4129 \nQ 1250 4750 2034 4750 \nz\n\" transform=\"scale(0.015625)\"/>\n        <path id=\"DejaVuSans-2e\" d=\"M 684 794 \nL 1344 794 \nL 1344 0 \nL 684 0 \nL 684 794 \nz\n\" transform=\"scale(0.015625)\"/>\n        <path id=\"DejaVuSans-35\" d=\"M 691 4666 \nL 3169 4666 \nL 3169 4134 \nL 1269 4134 \nL 1269 2991 \nQ 1406 3038 1543 3061 \nQ 1681 3084 1819 3084 \nQ 2600 3084 3056 2656 \nQ 3513 2228 3513 1497 \nQ 3513 744 3044 326 \nQ 2575 -91 1722 -91 \nQ 1428 -91 1123 -41 \nQ 819 9 494 109 \nL 494 744 \nQ 775 591 1075 516 \nQ 1375 441 1709 441 \nQ 2250 441 2565 725 \nQ 2881 1009 2881 1497 \nQ 2881 1984 2565 2268 \nQ 2250 2553 1709 2553 \nQ 1456 2553 1204 2497 \nQ 953 2441 691 2322 \nL 691 4666 \nz\n\" transform=\"scale(0.015625)\"/>\n       </defs>\n       <use xlink:href=\"#DejaVuSans-2212\"/>\n       <use xlink:href=\"#DejaVuSans-30\" x=\"83.789062\"/>\n       <use xlink:href=\"#DejaVuSans-2e\" x=\"147.412109\"/>\n       <use xlink:href=\"#DejaVuSans-35\" x=\"179.199219\"/>\n      </g>\n     </g>\n    </g>\n    <g id=\"xtick_2\">\n     <g id=\"text_2\">\n      <!-- 0.0 -->\n      <g style=\"fill: #262626\" transform=\"translate(112.716875 261.936406) scale(0.11 -0.11)\">\n       <use xlink:href=\"#DejaVuSans-30\"/>\n       <use xlink:href=\"#DejaVuSans-2e\" x=\"63.623047\"/>\n       <use xlink:href=\"#DejaVuSans-30\" x=\"95.410156\"/>\n      </g>\n     </g>\n    </g>\n    <g id=\"xtick_3\">\n     <g id=\"text_3\">\n      <!-- 0.5 -->\n      <g style=\"fill: #262626\" transform=\"translate(168.156875 261.936406) scale(0.11 -0.11)\">\n       <use xlink:href=\"#DejaVuSans-30\"/>\n       <use xlink:href=\"#DejaVuSans-2e\" x=\"63.623047\"/>\n       <use xlink:href=\"#DejaVuSans-35\" x=\"95.410156\"/>\n      </g>\n     </g>\n    </g>\n    <g id=\"xtick_4\">\n     <g id=\"text_4\">\n      <!-- 1.0 -->\n      <g style=\"fill: #262626\" transform=\"translate(223.596875 261.936406) scale(0.11 -0.11)\">\n       <defs>\n        <path id=\"DejaVuSans-31\" d=\"M 794 531 \nL 1825 531 \nL 1825 4091 \nL 703 3866 \nL 703 4441 \nL 1819 4666 \nL 2450 4666 \nL 2450 531 \nL 3481 531 \nL 3481 0 \nL 794 0 \nL 794 531 \nz\n\" transform=\"scale(0.015625)\"/>\n       </defs>\n       <use xlink:href=\"#DejaVuSans-31\"/>\n       <use xlink:href=\"#DejaVuSans-2e\" x=\"63.623047\"/>\n       <use xlink:href=\"#DejaVuSans-30\" x=\"95.410156\"/>\n      </g>\n     </g>\n    </g>\n    <g id=\"xtick_5\">\n     <g id=\"text_5\">\n      <!-- 1.5 -->\n      <g style=\"fill: #262626\" transform=\"translate(279.036875 261.936406) scale(0.11 -0.11)\">\n       <use xlink:href=\"#DejaVuSans-31\"/>\n       <use xlink:href=\"#DejaVuSans-2e\" x=\"63.623047\"/>\n       <use xlink:href=\"#DejaVuSans-35\" x=\"95.410156\"/>\n      </g>\n     </g>\n    </g>\n    <g id=\"text_6\">\n     <!-- $x_1$ -->\n     <g style=\"fill: #262626\" transform=\"translate(170.483594 277.342188) scale(0.12 -0.12)\">\n      <defs>\n       <path id=\"DejaVuSans-Oblique-78\" d=\"M 3841 3500 \nL 2234 1784 \nL 3219 0 \nL 2559 0 \nL 1819 1388 \nL 531 0 \nL -166 0 \nL 1556 1844 \nL 641 3500 \nL 1300 3500 \nL 1972 2234 \nL 3144 3500 \nL 3841 3500 \nz\n\" transform=\"scale(0.015625)\"/>\n      </defs>\n      <use xlink:href=\"#DejaVuSans-Oblique-78\" transform=\"translate(0 0.3125)\"/>\n      <use xlink:href=\"#DejaVuSans-31\" transform=\"translate(59.179688 -16.09375) scale(0.7)\"/>\n     </g>\n    </g>\n   </g>\n   <g id=\"matplotlib.axis_2\">\n    <g id=\"ytick_1\">\n     <g id=\"text_7\">\n      <!-- −0.50 -->\n      <g style=\"fill: #262626\" transform=\"translate(22.81375 248.257266) scale(0.11 -0.11)\">\n       <use xlink:href=\"#DejaVuSans-2212\"/>\n       <use xlink:href=\"#DejaVuSans-30\" x=\"83.789062\"/>\n       <use xlink:href=\"#DejaVuSans-2e\" x=\"147.412109\"/>\n       <use xlink:href=\"#DejaVuSans-35\" x=\"179.199219\"/>\n       <use xlink:href=\"#DejaVuSans-30\" x=\"242.822266\"/>\n      </g>\n     </g>\n    </g>\n    <g id=\"ytick_2\">\n     <g id=\"text_8\">\n      <!-- −0.25 -->\n      <g style=\"fill: #262626\" transform=\"translate(22.81375 220.537266) scale(0.11 -0.11)\">\n       <defs>\n        <path id=\"DejaVuSans-32\" d=\"M 1228 531 \nL 3431 531 \nL 3431 0 \nL 469 0 \nL 469 531 \nQ 828 903 1448 1529 \nQ 2069 2156 2228 2338 \nQ 2531 2678 2651 2914 \nQ 2772 3150 2772 3378 \nQ 2772 3750 2511 3984 \nQ 2250 4219 1831 4219 \nQ 1534 4219 1204 4116 \nQ 875 4013 500 3803 \nL 500 4441 \nQ 881 4594 1212 4672 \nQ 1544 4750 1819 4750 \nQ 2544 4750 2975 4387 \nQ 3406 4025 3406 3419 \nQ 3406 3131 3298 2873 \nQ 3191 2616 2906 2266 \nQ 2828 2175 2409 1742 \nQ 1991 1309 1228 531 \nz\n\" transform=\"scale(0.015625)\"/>\n       </defs>\n       <use xlink:href=\"#DejaVuSans-2212\"/>\n       <use xlink:href=\"#DejaVuSans-30\" x=\"83.789062\"/>\n       <use xlink:href=\"#DejaVuSans-2e\" x=\"147.412109\"/>\n       <use xlink:href=\"#DejaVuSans-32\" x=\"179.199219\"/>\n       <use xlink:href=\"#DejaVuSans-35\" x=\"242.822266\"/>\n      </g>\n     </g>\n    </g>\n    <g id=\"ytick_3\">\n     <g id=\"text_9\">\n      <!-- 0.00 -->\n      <g style=\"fill: #262626\" transform=\"translate(32.031406 192.817266) scale(0.11 -0.11)\">\n       <use xlink:href=\"#DejaVuSans-30\"/>\n       <use xlink:href=\"#DejaVuSans-2e\" x=\"63.623047\"/>\n       <use xlink:href=\"#DejaVuSans-30\" x=\"95.410156\"/>\n       <use xlink:href=\"#DejaVuSans-30\" x=\"159.033203\"/>\n      </g>\n     </g>\n    </g>\n    <g id=\"ytick_4\">\n     <g id=\"text_10\">\n      <!-- 0.25 -->\n      <g style=\"fill: #262626\" transform=\"translate(32.031406 165.097266) scale(0.11 -0.11)\">\n       <use xlink:href=\"#DejaVuSans-30\"/>\n       <use xlink:href=\"#DejaVuSans-2e\" x=\"63.623047\"/>\n       <use xlink:href=\"#DejaVuSans-32\" x=\"95.410156\"/>\n       <use xlink:href=\"#DejaVuSans-35\" x=\"159.033203\"/>\n      </g>\n     </g>\n    </g>\n    <g id=\"ytick_5\">\n     <g id=\"text_11\">\n      <!-- 0.50 -->\n      <g style=\"fill: #262626\" transform=\"translate(32.031406 137.377266) scale(0.11 -0.11)\">\n       <use xlink:href=\"#DejaVuSans-30\"/>\n       <use xlink:href=\"#DejaVuSans-2e\" x=\"63.623047\"/>\n       <use xlink:href=\"#DejaVuSans-35\" x=\"95.410156\"/>\n       <use xlink:href=\"#DejaVuSans-30\" x=\"159.033203\"/>\n      </g>\n     </g>\n    </g>\n    <g id=\"ytick_6\">\n     <g id=\"text_12\">\n      <!-- 0.75 -->\n      <g style=\"fill: #262626\" transform=\"translate(32.031406 109.657266) scale(0.11 -0.11)\">\n       <defs>\n        <path id=\"DejaVuSans-37\" d=\"M 525 4666 \nL 3525 4666 \nL 3525 4397 \nL 1831 0 \nL 1172 0 \nL 2766 4134 \nL 525 4134 \nL 525 4666 \nz\n\" transform=\"scale(0.015625)\"/>\n       </defs>\n       <use xlink:href=\"#DejaVuSans-30\"/>\n       <use xlink:href=\"#DejaVuSans-2e\" x=\"63.623047\"/>\n       <use xlink:href=\"#DejaVuSans-37\" x=\"95.410156\"/>\n       <use xlink:href=\"#DejaVuSans-35\" x=\"159.033203\"/>\n      </g>\n     </g>\n    </g>\n    <g id=\"ytick_7\">\n     <g id=\"text_13\">\n      <!-- 1.00 -->\n      <g style=\"fill: #262626\" transform=\"translate(32.031406 81.937266) scale(0.11 -0.11)\">\n       <use xlink:href=\"#DejaVuSans-31\"/>\n       <use xlink:href=\"#DejaVuSans-2e\" x=\"63.623047\"/>\n       <use xlink:href=\"#DejaVuSans-30\" x=\"95.410156\"/>\n       <use xlink:href=\"#DejaVuSans-30\" x=\"159.033203\"/>\n      </g>\n     </g>\n    </g>\n    <g id=\"ytick_8\">\n     <g id=\"text_14\">\n      <!-- 1.25 -->\n      <g style=\"fill: #262626\" transform=\"translate(32.031406 54.217266) scale(0.11 -0.11)\">\n       <use xlink:href=\"#DejaVuSans-31\"/>\n       <use xlink:href=\"#DejaVuSans-2e\" x=\"63.623047\"/>\n       <use xlink:href=\"#DejaVuSans-32\" x=\"95.410156\"/>\n       <use xlink:href=\"#DejaVuSans-35\" x=\"159.033203\"/>\n      </g>\n     </g>\n    </g>\n    <g id=\"ytick_9\">\n     <g id=\"text_15\">\n      <!-- 1.50 -->\n      <g style=\"fill: #262626\" transform=\"translate(32.031406 26.497266) scale(0.11 -0.11)\">\n       <use xlink:href=\"#DejaVuSans-31\"/>\n       <use xlink:href=\"#DejaVuSans-2e\" x=\"63.623047\"/>\n       <use xlink:href=\"#DejaVuSans-35\" x=\"95.410156\"/>\n       <use xlink:href=\"#DejaVuSans-30\" x=\"159.033203\"/>\n      </g>\n     </g>\n    </g>\n    <g id=\"text_16\">\n     <!-- $x_2$ -->\n     <g style=\"fill: #262626\" transform=\"translate(16.318125 139.618125) rotate(-90) scale(0.12 -0.12)\">\n      <use xlink:href=\"#DejaVuSans-Oblique-78\" transform=\"translate(0 0.3125)\"/>\n      <use xlink:href=\"#DejaVuSans-32\" transform=\"translate(59.179688 -16.09375) scale(0.7)\"/>\n     </g>\n    </g>\n   </g>\n   <g id=\"PathCollection_1\">\n    <defs>\n     <path id=\"mb813bab998\" d=\"M 0 3 \nC 0.795609 3 1.55874 2.683901 2.12132 2.12132 \nC 2.683901 1.55874 3 0.795609 3 0 \nC 3 -0.795609 2.683901 -1.55874 2.12132 -2.12132 \nC 1.55874 -2.683901 0.795609 -3 0 -3 \nC -0.795609 -3 -1.55874 -2.683901 -2.12132 -2.12132 \nC -2.683901 -1.55874 -3 -0.795609 -3 0 \nC -3 0.795609 -2.683901 1.55874 -2.12132 2.12132 \nC -1.55874 2.683901 -0.795609 3 0 3 \nz\n\" style=\"stroke: #333333\"/>\n    </defs>\n    <g clip-path=\"url(#p06f323d387)\">\n     <use xlink:href=\"#mb813bab998\" x=\"224.626096\" y=\"75.142549\" style=\"fill: #4c72b0; stroke: #333333\"/>\n     <use xlink:href=\"#mb813bab998\" x=\"241.525413\" y=\"76.533537\" style=\"fill: #4c72b0; stroke: #333333\"/>\n     <use xlink:href=\"#mb813bab998\" x=\"228.999723\" y=\"93.31836\" style=\"fill: #4c72b0; stroke: #333333\"/>\n     <use xlink:href=\"#mb813bab998\" x=\"106.749066\" y=\"199.667967\" style=\"fill: #4c72b0; stroke: #333333\"/>\n     <use xlink:href=\"#mb813bab998\" x=\"254.966352\" y=\"92.149724\" style=\"fill: #4c72b0; stroke: #333333\"/>\n     <use xlink:href=\"#mb813bab998\" x=\"131.986844\" y=\"193.054888\" style=\"fill: #4c72b0; stroke: #333333\"/>\n     <use xlink:href=\"#mb813bab998\" x=\"129.451931\" y=\"172.337476\" style=\"fill: #4c72b0; stroke: #333333\"/>\n     <use xlink:href=\"#mb813bab998\" x=\"219.908387\" y=\"54.469065\" style=\"fill: #4c72b0; stroke: #333333\"/>\n     <use xlink:href=\"#mb813bab998\" x=\"258.582433\" y=\"84.769547\" style=\"fill: #4c72b0; stroke: #333333\"/>\n     <use xlink:href=\"#mb813bab998\" x=\"225.886419\" y=\"62.789115\" style=\"fill: #4c72b0; stroke: #333333\"/>\n     <use xlink:href=\"#mb813bab998\" x=\"133.91022\" y=\"187.551794\" style=\"fill: #4c72b0; stroke: #333333\"/>\n     <use xlink:href=\"#mb813bab998\" x=\"133.911166\" y=\"174.788115\" style=\"fill: #4c72b0; stroke: #333333\"/>\n     <use xlink:href=\"#mb813bab998\" x=\"137.201655\" y=\"186.953522\" style=\"fill: #4c72b0; stroke: #333333\"/>\n     <use xlink:href=\"#mb813bab998\" x=\"230.94599\" y=\"84.550844\" style=\"fill: #4c72b0; stroke: #333333\"/>\n     <use xlink:href=\"#mb813bab998\" x=\"226.982\" y=\"83.766571\" style=\"fill: #4c72b0; stroke: #333333\"/>\n     <use xlink:href=\"#mb813bab998\" x=\"234.626316\" y=\"74.739983\" style=\"fill: #4c72b0; stroke: #333333\"/>\n     <use xlink:href=\"#mb813bab998\" x=\"129.373329\" y=\"182.7632\" style=\"fill: #4c72b0; stroke: #333333\"/>\n     <use xlink:href=\"#mb813bab998\" x=\"221.576317\" y=\"46.040839\" style=\"fill: #4c72b0; stroke: #333333\"/>\n     <use xlink:href=\"#mb813bab998\" x=\"221.321\" y=\"81.738902\" style=\"fill: #4c72b0; stroke: #333333\"/>\n     <use xlink:href=\"#mb813bab998\" x=\"221.245235\" y=\"78.457776\" style=\"fill: #4c72b0; stroke: #333333\"/>\n     <use xlink:href=\"#mb813bab998\" x=\"221.691565\" y=\"68.539653\" style=\"fill: #4c72b0; stroke: #333333\"/>\n     <use xlink:href=\"#mb813bab998\" x=\"206.708649\" y=\"84.871755\" style=\"fill: #4c72b0; stroke: #333333\"/>\n     <use xlink:href=\"#mb813bab998\" x=\"226.042252\" y=\"87.184634\" style=\"fill: #4c72b0; stroke: #333333\"/>\n     <use xlink:href=\"#mb813bab998\" x=\"219.297692\" y=\"64.576152\" style=\"fill: #4c72b0; stroke: #333333\"/>\n     <use xlink:href=\"#mb813bab998\" x=\"234.733659\" y=\"70.811933\" style=\"fill: #4c72b0; stroke: #333333\"/>\n     <use xlink:href=\"#mb813bab998\" x=\"212.984725\" y=\"65.601387\" style=\"fill: #4c72b0; stroke: #333333\"/>\n     <use xlink:href=\"#mb813bab998\" x=\"224.856405\" y=\"86.743817\" style=\"fill: #4c72b0; stroke: #333333\"/>\n     <use xlink:href=\"#mb813bab998\" x=\"130.08876\" y=\"189.27705\" style=\"fill: #4c72b0; stroke: #333333\"/>\n     <use xlink:href=\"#mb813bab998\" x=\"106.859226\" y=\"186.884152\" style=\"fill: #4c72b0; stroke: #333333\"/>\n     <use xlink:href=\"#mb813bab998\" x=\"124.141354\" y=\"201.51296\" style=\"fill: #4c72b0; stroke: #333333\"/>\n     <use xlink:href=\"#mb813bab998\" x=\"123.072579\" y=\"170.218492\" style=\"fill: #4c72b0; stroke: #333333\"/>\n     <use xlink:href=\"#mb813bab998\" x=\"223.943853\" y=\"78.596683\" style=\"fill: #4c72b0; stroke: #333333\"/>\n     <use xlink:href=\"#mb813bab998\" x=\"115.127977\" y=\"204.248114\" style=\"fill: #4c72b0; stroke: #333333\"/>\n     <use xlink:href=\"#mb813bab998\" x=\"128.576565\" y=\"203.400133\" style=\"fill: #4c72b0; stroke: #333333\"/>\n     <use xlink:href=\"#mb813bab998\" x=\"127.187888\" y=\"170.830304\" style=\"fill: #4c72b0; stroke: #333333\"/>\n     <use xlink:href=\"#mb813bab998\" x=\"112.612447\" y=\"191.5745\" style=\"fill: #4c72b0; stroke: #333333\"/>\n     <use xlink:href=\"#mb813bab998\" x=\"230.496223\" y=\"74.965944\" style=\"fill: #4c72b0; stroke: #333333\"/>\n     <use xlink:href=\"#mb813bab998\" x=\"209.406527\" y=\"68.127438\" style=\"fill: #4c72b0; stroke: #333333\"/>\n     <use xlink:href=\"#mb813bab998\" x=\"123.963228\" y=\"191.735371\" style=\"fill: #4c72b0; stroke: #333333\"/>\n     <use xlink:href=\"#mb813bab998\" x=\"128.894633\" y=\"187.320881\" style=\"fill: #4c72b0; stroke: #333333\"/>\n     <use xlink:href=\"#mb813bab998\" x=\"114.678395\" y=\"181.956268\" style=\"fill: #4c72b0; stroke: #333333\"/>\n     <use xlink:href=\"#mb813bab998\" x=\"132.29825\" y=\"204.331382\" style=\"fill: #4c72b0; stroke: #333333\"/>\n     <use xlink:href=\"#mb813bab998\" x=\"131.405853\" y=\"212.829463\" style=\"fill: #4c72b0; stroke: #333333\"/>\n     <use xlink:href=\"#mb813bab998\" x=\"131.4287\" y=\"190.120346\" style=\"fill: #4c72b0; stroke: #333333\"/>\n     <use xlink:href=\"#mb813bab998\" x=\"235.723325\" y=\"72.069658\" style=\"fill: #4c72b0; stroke: #333333\"/>\n     <use xlink:href=\"#mb813bab998\" x=\"107.587587\" y=\"197.850108\" style=\"fill: #4c72b0; stroke: #333333\"/>\n     <use xlink:href=\"#mb813bab998\" x=\"122.536207\" y=\"185.787674\" style=\"fill: #4c72b0; stroke: #333333\"/>\n     <use xlink:href=\"#mb813bab998\" x=\"229.22563\" y=\"89.261779\" style=\"fill: #4c72b0; stroke: #333333\"/>\n     <use xlink:href=\"#mb813bab998\" x=\"119.11292\" y=\"179.587913\" style=\"fill: #4c72b0; stroke: #333333\"/>\n     <use xlink:href=\"#mb813bab998\" x=\"131.423018\" y=\"190.344384\" style=\"fill: #4c72b0; stroke: #333333\"/>\n     <use xlink:href=\"#mb813bab998\" x=\"115.163422\" y=\"189.600513\" style=\"fill: #4c72b0; stroke: #333333\"/>\n     <use xlink:href=\"#mb813bab998\" x=\"132.219333\" y=\"196.131088\" style=\"fill: #4c72b0; stroke: #333333\"/>\n     <use xlink:href=\"#mb813bab998\" x=\"234.60834\" y=\"78.051695\" style=\"fill: #4c72b0; stroke: #333333\"/>\n     <use xlink:href=\"#mb813bab998\" x=\"233.264117\" y=\"73.078768\" style=\"fill: #4c72b0; stroke: #333333\"/>\n     <use xlink:href=\"#mb813bab998\" x=\"122.202143\" y=\"198.750316\" style=\"fill: #4c72b0; stroke: #333333\"/>\n     <use xlink:href=\"#mb813bab998\" x=\"236.42636\" y=\"69.941427\" style=\"fill: #4c72b0; stroke: #333333\"/>\n     <use xlink:href=\"#mb813bab998\" x=\"218.706124\" y=\"54.552443\" style=\"fill: #4c72b0; stroke: #333333\"/>\n     <use xlink:href=\"#mb813bab998\" x=\"242.054302\" y=\"74.148111\" style=\"fill: #4c72b0; stroke: #333333\"/>\n     <use xlink:href=\"#mb813bab998\" x=\"235.80944\" y=\"78.337876\" style=\"fill: #4c72b0; stroke: #333333\"/>\n     <use xlink:href=\"#mb813bab998\" x=\"118.068437\" y=\"182.054805\" style=\"fill: #4c72b0; stroke: #333333\"/>\n     <use xlink:href=\"#mb813bab998\" x=\"110.999412\" y=\"186.719357\" style=\"fill: #4c72b0; stroke: #333333\"/>\n     <use xlink:href=\"#mb813bab998\" x=\"136.462257\" y=\"186.860961\" style=\"fill: #4c72b0; stroke: #333333\"/>\n     <use xlink:href=\"#mb813bab998\" x=\"122.275248\" y=\"211.870221\" style=\"fill: #4c72b0; stroke: #333333\"/>\n     <use xlink:href=\"#mb813bab998\" x=\"243.837968\" y=\"67.981935\" style=\"fill: #4c72b0; stroke: #333333\"/>\n     <use xlink:href=\"#mb813bab998\" x=\"106.786106\" y=\"192.712561\" style=\"fill: #4c72b0; stroke: #333333\"/>\n     <use xlink:href=\"#mb813bab998\" x=\"243.561806\" y=\"93.370016\" style=\"fill: #4c72b0; stroke: #333333\"/>\n     <use xlink:href=\"#mb813bab998\" x=\"232.1222\" y=\"91.209136\" style=\"fill: #4c72b0; stroke: #333333\"/>\n     <use xlink:href=\"#mb813bab998\" x=\"253.954969\" y=\"82.472609\" style=\"fill: #4c72b0; stroke: #333333\"/>\n     <use xlink:href=\"#mb813bab998\" x=\"118.115523\" y=\"186.191085\" style=\"fill: #4c72b0; stroke: #333333\"/>\n     <use xlink:href=\"#mb813bab998\" x=\"115.118148\" y=\"190.530851\" style=\"fill: #4c72b0; stroke: #333333\"/>\n     <use xlink:href=\"#mb813bab998\" x=\"229.980268\" y=\"87.604522\" style=\"fill: #4c72b0; stroke: #333333\"/>\n     <use xlink:href=\"#mb813bab998\" x=\"139.772868\" y=\"194.355898\" style=\"fill: #4c72b0; stroke: #333333\"/>\n     <use xlink:href=\"#mb813bab998\" x=\"224.755632\" y=\"101.282954\" style=\"fill: #4c72b0; stroke: #333333\"/>\n     <use xlink:href=\"#mb813bab998\" x=\"240.348661\" y=\"84.347314\" style=\"fill: #4c72b0; stroke: #333333\"/>\n     <use xlink:href=\"#mb813bab998\" x=\"114.865058\" y=\"190.253454\" style=\"fill: #4c72b0; stroke: #333333\"/>\n     <use xlink:href=\"#mb813bab998\" x=\"206.897064\" y=\"92.871733\" style=\"fill: #4c72b0; stroke: #333333\"/>\n     <use xlink:href=\"#mb813bab998\" x=\"248.206612\" y=\"80.622198\" style=\"fill: #4c72b0; stroke: #333333\"/>\n     <use xlink:href=\"#mb813bab998\" x=\"112.684693\" y=\"183.424392\" style=\"fill: #4c72b0; stroke: #333333\"/>\n     <use xlink:href=\"#mb813bab998\" x=\"233.727246\" y=\"72.281714\" style=\"fill: #4c72b0; stroke: #333333\"/>\n     <use xlink:href=\"#mb813bab998\" x=\"122.332794\" y=\"186.158955\" style=\"fill: #4c72b0; stroke: #333333\"/>\n     <use xlink:href=\"#mb813bab998\" x=\"222.648311\" y=\"53.668798\" style=\"fill: #4c72b0; stroke: #333333\"/>\n     <use xlink:href=\"#mb813bab998\" x=\"122.804966\" y=\"182.500591\" style=\"fill: #4c72b0; stroke: #333333\"/>\n     <use xlink:href=\"#mb813bab998\" x=\"211.051042\" y=\"78.834381\" style=\"fill: #4c72b0; stroke: #333333\"/>\n     <use xlink:href=\"#mb813bab998\" x=\"119.821405\" y=\"197.483844\" style=\"fill: #4c72b0; stroke: #333333\"/>\n     <use xlink:href=\"#mb813bab998\" x=\"232.148418\" y=\"99.882528\" style=\"fill: #4c72b0; stroke: #333333\"/>\n     <use xlink:href=\"#mb813bab998\" x=\"134.882978\" y=\"190.113986\" style=\"fill: #4c72b0; stroke: #333333\"/>\n     <use xlink:href=\"#mb813bab998\" x=\"121.925949\" y=\"192.359903\" style=\"fill: #4c72b0; stroke: #333333\"/>\n     <use xlink:href=\"#mb813bab998\" x=\"218.379707\" y=\"80.120644\" style=\"fill: #4c72b0; stroke: #333333\"/>\n     <use xlink:href=\"#mb813bab998\" x=\"129.035811\" y=\"189.034178\" style=\"fill: #4c72b0; stroke: #333333\"/>\n     <use xlink:href=\"#mb813bab998\" x=\"222.496292\" y=\"84.290279\" style=\"fill: #4c72b0; stroke: #333333\"/>\n     <use xlink:href=\"#mb813bab998\" x=\"233.7929\" y=\"58.768248\" style=\"fill: #4c72b0; stroke: #333333\"/>\n     <use xlink:href=\"#mb813bab998\" x=\"232.731844\" y=\"68.42003\" style=\"fill: #4c72b0; stroke: #333333\"/>\n     <use xlink:href=\"#mb813bab998\" x=\"107.495253\" y=\"196.730257\" style=\"fill: #4c72b0; stroke: #333333\"/>\n     <use xlink:href=\"#mb813bab998\" x=\"135.850396\" y=\"189.70762\" style=\"fill: #4c72b0; stroke: #333333\"/>\n     <use xlink:href=\"#mb813bab998\" x=\"136.926299\" y=\"203.058132\" style=\"fill: #4c72b0; stroke: #333333\"/>\n     <use xlink:href=\"#mb813bab998\" x=\"217.347487\" y=\"79.202752\" style=\"fill: #4c72b0; stroke: #333333\"/>\n     <use xlink:href=\"#mb813bab998\" x=\"227.932415\" y=\"69.349753\" style=\"fill: #4c72b0; stroke: #333333\"/>\n     <use xlink:href=\"#mb813bab998\" x=\"243.280687\" y=\"82.074188\" style=\"fill: #4c72b0; stroke: #333333\"/>\n     <use xlink:href=\"#mb813bab998\" x=\"128.269491\" y=\"191.727589\" style=\"fill: #4c72b0; stroke: #333333\"/>\n     <use xlink:href=\"#mb813bab998\" x=\"238.868953\" y=\"69.895442\" style=\"fill: #4c72b0; stroke: #333333\"/>\n     <use xlink:href=\"#mb813bab998\" x=\"229.411065\" y=\"110.840063\" style=\"fill: #4c72b0; stroke: #333333\"/>\n     <use xlink:href=\"#mb813bab998\" x=\"236.817782\" y=\"72.809875\" style=\"fill: #4c72b0; stroke: #333333\"/>\n     <use xlink:href=\"#mb813bab998\" x=\"125.536534\" y=\"188.851335\" style=\"fill: #4c72b0; stroke: #333333\"/>\n     <use xlink:href=\"#mb813bab998\" x=\"238.55286\" y=\"89.51399\" style=\"fill: #4c72b0; stroke: #333333\"/>\n     <use xlink:href=\"#mb813bab998\" x=\"216.597944\" y=\"83.922259\" style=\"fill: #4c72b0; stroke: #333333\"/>\n    </g>\n   </g>\n   <g id=\"PathCollection_2\">\n    <defs>\n     <path id=\"m7684d4ccc1\" d=\"M 0 3 \nC 0.795609 3 1.55874 2.683901 2.12132 2.12132 \nC 2.683901 1.55874 3 0.795609 3 0 \nC 3 -0.795609 2.683901 -1.55874 2.12132 -2.12132 \nC 1.55874 -2.683901 0.795609 -3 0 -3 \nC -0.795609 -3 -1.55874 -2.683901 -2.12132 -2.12132 \nC -2.683901 -1.55874 -3 -0.795609 -3 0 \nC -3 0.795609 -2.683901 1.55874 -2.12132 2.12132 \nC -1.55874 2.683901 -0.795609 3 0 3 \nz\n\" style=\"stroke: #333333\"/>\n    </defs>\n    <g clip-path=\"url(#p06f323d387)\">\n     <use xlink:href=\"#m7684d4ccc1\" x=\"239.174565\" y=\"191.419481\" style=\"fill: #dd8452; stroke: #333333\"/>\n     <use xlink:href=\"#m7684d4ccc1\" x=\"241.447599\" y=\"189.386891\" style=\"fill: #dd8452; stroke: #333333\"/>\n     <use xlink:href=\"#m7684d4ccc1\" x=\"228.335092\" y=\"207.395292\" style=\"fill: #dd8452; stroke: #333333\"/>\n     <use xlink:href=\"#m7684d4ccc1\" x=\"124.544358\" y=\"76.74242\" style=\"fill: #dd8452; stroke: #333333\"/>\n     <use xlink:href=\"#m7684d4ccc1\" x=\"138.277709\" y=\"82.624965\" style=\"fill: #dd8452; stroke: #333333\"/>\n     <use xlink:href=\"#m7684d4ccc1\" x=\"117.02944\" y=\"92.495564\" style=\"fill: #dd8452; stroke: #333333\"/>\n     <use xlink:href=\"#m7684d4ccc1\" x=\"228.300865\" y=\"187.671676\" style=\"fill: #dd8452; stroke: #333333\"/>\n     <use xlink:href=\"#m7684d4ccc1\" x=\"111.721801\" y=\"49.498596\" style=\"fill: #dd8452; stroke: #333333\"/>\n     <use xlink:href=\"#m7684d4ccc1\" x=\"239.654957\" y=\"181.207338\" style=\"fill: #dd8452; stroke: #333333\"/>\n     <use xlink:href=\"#m7684d4ccc1\" x=\"122.519893\" y=\"81.815156\" style=\"fill: #dd8452; stroke: #333333\"/>\n     <use xlink:href=\"#m7684d4ccc1\" x=\"123.637403\" y=\"94.583501\" style=\"fill: #dd8452; stroke: #333333\"/>\n     <use xlink:href=\"#m7684d4ccc1\" x=\"122.138356\" y=\"90.813563\" style=\"fill: #dd8452; stroke: #333333\"/>\n     <use xlink:href=\"#m7684d4ccc1\" x=\"98.756502\" y=\"66.663593\" style=\"fill: #dd8452; stroke: #333333\"/>\n     <use xlink:href=\"#m7684d4ccc1\" x=\"129.073668\" y=\"85.348268\" style=\"fill: #dd8452; stroke: #333333\"/>\n     <use xlink:href=\"#m7684d4ccc1\" x=\"222.252071\" y=\"181.028318\" style=\"fill: #dd8452; stroke: #333333\"/>\n     <use xlink:href=\"#m7684d4ccc1\" x=\"244.01949\" y=\"172.565988\" style=\"fill: #dd8452; stroke: #333333\"/>\n     <use xlink:href=\"#m7684d4ccc1\" x=\"132.028608\" y=\"64.573746\" style=\"fill: #dd8452; stroke: #333333\"/>\n     <use xlink:href=\"#m7684d4ccc1\" x=\"242.481941\" y=\"177.44474\" style=\"fill: #dd8452; stroke: #333333\"/>\n     <use xlink:href=\"#m7684d4ccc1\" x=\"242.263145\" y=\"191.829224\" style=\"fill: #dd8452; stroke: #333333\"/>\n     <use xlink:href=\"#m7684d4ccc1\" x=\"126.858592\" y=\"73.690771\" style=\"fill: #dd8452; stroke: #333333\"/>\n     <use xlink:href=\"#m7684d4ccc1\" x=\"117.126157\" y=\"75.874782\" style=\"fill: #dd8452; stroke: #333333\"/>\n     <use xlink:href=\"#m7684d4ccc1\" x=\"222.692545\" y=\"188.299853\" style=\"fill: #dd8452; stroke: #333333\"/>\n     <use xlink:href=\"#m7684d4ccc1\" x=\"222.998758\" y=\"206.836509\" style=\"fill: #dd8452; stroke: #333333\"/>\n     <use xlink:href=\"#m7684d4ccc1\" x=\"224.381366\" y=\"189.846235\" style=\"fill: #dd8452; stroke: #333333\"/>\n     <use xlink:href=\"#m7684d4ccc1\" x=\"101.172929\" y=\"73.714233\" style=\"fill: #dd8452; stroke: #333333\"/>\n     <use xlink:href=\"#m7684d4ccc1\" x=\"241.095526\" y=\"203.430119\" style=\"fill: #dd8452; stroke: #333333\"/>\n     <use xlink:href=\"#m7684d4ccc1\" x=\"223.10768\" y=\"168.351014\" style=\"fill: #dd8452; stroke: #333333\"/>\n     <use xlink:href=\"#m7684d4ccc1\" x=\"238.374021\" y=\"194.419579\" style=\"fill: #dd8452; stroke: #333333\"/>\n     <use xlink:href=\"#m7684d4ccc1\" x=\"231.841736\" y=\"192.599795\" style=\"fill: #dd8452; stroke: #333333\"/>\n     <use xlink:href=\"#m7684d4ccc1\" x=\"117.290421\" y=\"66.809651\" style=\"fill: #dd8452; stroke: #333333\"/>\n     <use xlink:href=\"#m7684d4ccc1\" x=\"110.580693\" y=\"71.814143\" style=\"fill: #dd8452; stroke: #333333\"/>\n     <use xlink:href=\"#m7684d4ccc1\" x=\"131.693418\" y=\"72.356448\" style=\"fill: #dd8452; stroke: #333333\"/>\n     <use xlink:href=\"#m7684d4ccc1\" x=\"138.006397\" y=\"77.611049\" style=\"fill: #dd8452; stroke: #333333\"/>\n     <use xlink:href=\"#m7684d4ccc1\" x=\"246.282611\" y=\"175.140674\" style=\"fill: #dd8452; stroke: #333333\"/>\n     <use xlink:href=\"#m7684d4ccc1\" x=\"238.818421\" y=\"151.112595\" style=\"fill: #dd8452; stroke: #333333\"/>\n     <use xlink:href=\"#m7684d4ccc1\" x=\"119.535707\" y=\"77.426487\" style=\"fill: #dd8452; stroke: #333333\"/>\n     <use xlink:href=\"#m7684d4ccc1\" x=\"232.188812\" y=\"188.750824\" style=\"fill: #dd8452; stroke: #333333\"/>\n     <use xlink:href=\"#m7684d4ccc1\" x=\"124.055061\" y=\"62.142375\" style=\"fill: #dd8452; stroke: #333333\"/>\n     <use xlink:href=\"#m7684d4ccc1\" x=\"223.072012\" y=\"192.333309\" style=\"fill: #dd8452; stroke: #333333\"/>\n     <use xlink:href=\"#m7684d4ccc1\" x=\"232.334923\" y=\"178.398603\" style=\"fill: #dd8452; stroke: #333333\"/>\n     <use xlink:href=\"#m7684d4ccc1\" x=\"108.313707\" y=\"63.359415\" style=\"fill: #dd8452; stroke: #333333\"/>\n     <use xlink:href=\"#m7684d4ccc1\" x=\"129.052352\" y=\"69.870209\" style=\"fill: #dd8452; stroke: #333333\"/>\n     <use xlink:href=\"#m7684d4ccc1\" x=\"127.293655\" y=\"59.099357\" style=\"fill: #dd8452; stroke: #333333\"/>\n     <use xlink:href=\"#m7684d4ccc1\" x=\"237.585678\" y=\"184.601835\" style=\"fill: #dd8452; stroke: #333333\"/>\n     <use xlink:href=\"#m7684d4ccc1\" x=\"226.826068\" y=\"190.659256\" style=\"fill: #dd8452; stroke: #333333\"/>\n     <use xlink:href=\"#m7684d4ccc1\" x=\"218.013789\" y=\"186.765693\" style=\"fill: #dd8452; stroke: #333333\"/>\n     <use xlink:href=\"#m7684d4ccc1\" x=\"223.111593\" y=\"197.65209\" style=\"fill: #dd8452; stroke: #333333\"/>\n     <use xlink:href=\"#m7684d4ccc1\" x=\"125.254002\" y=\"107.713276\" style=\"fill: #dd8452; stroke: #333333\"/>\n     <use xlink:href=\"#m7684d4ccc1\" x=\"119.399952\" y=\"86.499966\" style=\"fill: #dd8452; stroke: #333333\"/>\n     <use xlink:href=\"#m7684d4ccc1\" x=\"222.16743\" y=\"183.974894\" style=\"fill: #dd8452; stroke: #333333\"/>\n     <use xlink:href=\"#m7684d4ccc1\" x=\"228.25369\" y=\"197.171611\" style=\"fill: #dd8452; stroke: #333333\"/>\n     <use xlink:href=\"#m7684d4ccc1\" x=\"121.693172\" y=\"69.521136\" style=\"fill: #dd8452; stroke: #333333\"/>\n     <use xlink:href=\"#m7684d4ccc1\" x=\"211.481972\" y=\"182.150593\" style=\"fill: #dd8452; stroke: #333333\"/>\n     <use xlink:href=\"#m7684d4ccc1\" x=\"249.29417\" y=\"198.976538\" style=\"fill: #dd8452; stroke: #333333\"/>\n     <use xlink:href=\"#m7684d4ccc1\" x=\"127.422046\" y=\"69.090087\" style=\"fill: #dd8452; stroke: #333333\"/>\n     <use xlink:href=\"#m7684d4ccc1\" x=\"243.960829\" y=\"193.015729\" style=\"fill: #dd8452; stroke: #333333\"/>\n     <use xlink:href=\"#m7684d4ccc1\" x=\"139.28977\" y=\"86.699807\" style=\"fill: #dd8452; stroke: #333333\"/>\n     <use xlink:href=\"#m7684d4ccc1\" x=\"138.309611\" y=\"77.361151\" style=\"fill: #dd8452; stroke: #333333\"/>\n     <use xlink:href=\"#m7684d4ccc1\" x=\"134.737092\" y=\"86.426414\" style=\"fill: #dd8452; stroke: #333333\"/>\n     <use xlink:href=\"#m7684d4ccc1\" x=\"133.840569\" y=\"74.524994\" style=\"fill: #dd8452; stroke: #333333\"/>\n     <use xlink:href=\"#m7684d4ccc1\" x=\"124.764499\" y=\"69.339839\" style=\"fill: #dd8452; stroke: #333333\"/>\n     <use xlink:href=\"#m7684d4ccc1\" x=\"228.182478\" y=\"172.597076\" style=\"fill: #dd8452; stroke: #333333\"/>\n     <use xlink:href=\"#m7684d4ccc1\" x=\"223.615401\" y=\"160.926978\" style=\"fill: #dd8452; stroke: #333333\"/>\n     <use xlink:href=\"#m7684d4ccc1\" x=\"123.810105\" y=\"64.151632\" style=\"fill: #dd8452; stroke: #333333\"/>\n     <use xlink:href=\"#m7684d4ccc1\" x=\"116.377473\" y=\"79.47023\" style=\"fill: #dd8452; stroke: #333333\"/>\n     <use xlink:href=\"#m7684d4ccc1\" x=\"215.548229\" y=\"168.105534\" style=\"fill: #dd8452; stroke: #333333\"/>\n     <use xlink:href=\"#m7684d4ccc1\" x=\"119.576828\" y=\"93.126793\" style=\"fill: #dd8452; stroke: #333333\"/>\n     <use xlink:href=\"#m7684d4ccc1\" x=\"113.1123\" y=\"78.37301\" style=\"fill: #dd8452; stroke: #333333\"/>\n     <use xlink:href=\"#m7684d4ccc1\" x=\"215.427781\" y=\"174.735923\" style=\"fill: #dd8452; stroke: #333333\"/>\n     <use xlink:href=\"#m7684d4ccc1\" x=\"234.525093\" y=\"193.142791\" style=\"fill: #dd8452; stroke: #333333\"/>\n     <use xlink:href=\"#m7684d4ccc1\" x=\"218.863503\" y=\"188.468762\" style=\"fill: #dd8452; stroke: #333333\"/>\n     <use xlink:href=\"#m7684d4ccc1\" x=\"109.836199\" y=\"57.995898\" style=\"fill: #dd8452; stroke: #333333\"/>\n     <use xlink:href=\"#m7684d4ccc1\" x=\"117.190014\" y=\"68.776121\" style=\"fill: #dd8452; stroke: #333333\"/>\n     <use xlink:href=\"#m7684d4ccc1\" x=\"246.429819\" y=\"189.470112\" style=\"fill: #dd8452; stroke: #333333\"/>\n     <use xlink:href=\"#m7684d4ccc1\" x=\"233.577474\" y=\"205.646035\" style=\"fill: #dd8452; stroke: #333333\"/>\n     <use xlink:href=\"#m7684d4ccc1\" x=\"117.597552\" y=\"86.87669\" style=\"fill: #dd8452; stroke: #333333\"/>\n     <use xlink:href=\"#m7684d4ccc1\" x=\"105.11964\" y=\"81.641267\" style=\"fill: #dd8452; stroke: #333333\"/>\n     <use xlink:href=\"#m7684d4ccc1\" x=\"142.290616\" y=\"75.745207\" style=\"fill: #dd8452; stroke: #333333\"/>\n     <use xlink:href=\"#m7684d4ccc1\" x=\"224.443424\" y=\"190.33743\" style=\"fill: #dd8452; stroke: #333333\"/>\n     <use xlink:href=\"#m7684d4ccc1\" x=\"241.485376\" y=\"172.383886\" style=\"fill: #dd8452; stroke: #333333\"/>\n     <use xlink:href=\"#m7684d4ccc1\" x=\"128.195664\" y=\"77.374369\" style=\"fill: #dd8452; stroke: #333333\"/>\n     <use xlink:href=\"#m7684d4ccc1\" x=\"226.662337\" y=\"182.457532\" style=\"fill: #dd8452; stroke: #333333\"/>\n     <use xlink:href=\"#m7684d4ccc1\" x=\"236.012758\" y=\"177.804881\" style=\"fill: #dd8452; stroke: #333333\"/>\n     <use xlink:href=\"#m7684d4ccc1\" x=\"117.644535\" y=\"79.852347\" style=\"fill: #dd8452; stroke: #333333\"/>\n     <use xlink:href=\"#m7684d4ccc1\" x=\"128.631354\" y=\"76.228666\" style=\"fill: #dd8452; stroke: #333333\"/>\n     <use xlink:href=\"#m7684d4ccc1\" x=\"232.888027\" y=\"174.801835\" style=\"fill: #dd8452; stroke: #333333\"/>\n     <use xlink:href=\"#m7684d4ccc1\" x=\"233.373825\" y=\"197.335147\" style=\"fill: #dd8452; stroke: #333333\"/>\n     <use xlink:href=\"#m7684d4ccc1\" x=\"230.00636\" y=\"179.754929\" style=\"fill: #dd8452; stroke: #333333\"/>\n     <use xlink:href=\"#m7684d4ccc1\" x=\"127.9295\" y=\"77.392002\" style=\"fill: #dd8452; stroke: #333333\"/>\n     <use xlink:href=\"#m7684d4ccc1\" x=\"140.92447\" y=\"77.009567\" style=\"fill: #dd8452; stroke: #333333\"/>\n     <use xlink:href=\"#m7684d4ccc1\" x=\"226.415314\" y=\"190.254296\" style=\"fill: #dd8452; stroke: #333333\"/>\n     <use xlink:href=\"#m7684d4ccc1\" x=\"115.677388\" y=\"68.552831\" style=\"fill: #dd8452; stroke: #333333\"/>\n     <use xlink:href=\"#m7684d4ccc1\" x=\"231.778428\" y=\"172.771089\" style=\"fill: #dd8452; stroke: #333333\"/>\n     <use xlink:href=\"#m7684d4ccc1\" x=\"96.09576\" y=\"83.118153\" style=\"fill: #dd8452; stroke: #333333\"/>\n     <use xlink:href=\"#m7684d4ccc1\" x=\"251.040562\" y=\"177.677359\" style=\"fill: #dd8452; stroke: #333333\"/>\n    </g>\n   </g>\n   <g id=\"patch_3\">\n    <path d=\"M 66.023594 244.078125 \nL 66.023594 22.318125 \n\" style=\"fill: none; stroke: #ffffff; stroke-width: 1.25; stroke-linejoin: miter; stroke-linecap: square\"/>\n   </g>\n   <g id=\"patch_4\">\n    <path d=\"M 287.783594 244.078125 \nL 287.783594 22.318125 \n\" style=\"fill: none; stroke: #ffffff; stroke-width: 1.25; stroke-linejoin: miter; stroke-linecap: square\"/>\n   </g>\n   <g id=\"patch_5\">\n    <path d=\"M 66.023594 244.078125 \nL 287.783594 244.078125 \n\" style=\"fill: none; stroke: #ffffff; stroke-width: 1.25; stroke-linejoin: miter; stroke-linecap: square\"/>\n   </g>\n   <g id=\"patch_6\">\n    <path d=\"M 66.023594 22.318125 \nL 287.783594 22.318125 \n\" style=\"fill: none; stroke: #ffffff; stroke-width: 1.25; stroke-linejoin: miter; stroke-linecap: square\"/>\n   </g>\n   <g id=\"text_17\">\n    <!-- Dataset samples -->\n    <g style=\"fill: #262626\" transform=\"translate(126.560781 16.318125) scale(0.12 -0.12)\">\n     <defs>\n      <path id=\"DejaVuSans-44\" d=\"M 1259 4147 \nL 1259 519 \nL 2022 519 \nQ 2988 519 3436 956 \nQ 3884 1394 3884 2338 \nQ 3884 3275 3436 3711 \nQ 2988 4147 2022 4147 \nL 1259 4147 \nz\nM 628 4666 \nL 1925 4666 \nQ 3281 4666 3915 4102 \nQ 4550 3538 4550 2338 \nQ 4550 1131 3912 565 \nQ 3275 0 1925 0 \nL 628 0 \nL 628 4666 \nz\n\" transform=\"scale(0.015625)\"/>\n      <path id=\"DejaVuSans-61\" d=\"M 2194 1759 \nQ 1497 1759 1228 1600 \nQ 959 1441 959 1056 \nQ 959 750 1161 570 \nQ 1363 391 1709 391 \nQ 2188 391 2477 730 \nQ 2766 1069 2766 1631 \nL 2766 1759 \nL 2194 1759 \nz\nM 3341 1997 \nL 3341 0 \nL 2766 0 \nL 2766 531 \nQ 2569 213 2275 61 \nQ 1981 -91 1556 -91 \nQ 1019 -91 701 211 \nQ 384 513 384 1019 \nQ 384 1609 779 1909 \nQ 1175 2209 1959 2209 \nL 2766 2209 \nL 2766 2266 \nQ 2766 2663 2505 2880 \nQ 2244 3097 1772 3097 \nQ 1472 3097 1187 3025 \nQ 903 2953 641 2809 \nL 641 3341 \nQ 956 3463 1253 3523 \nQ 1550 3584 1831 3584 \nQ 2591 3584 2966 3190 \nQ 3341 2797 3341 1997 \nz\n\" transform=\"scale(0.015625)\"/>\n      <path id=\"DejaVuSans-74\" d=\"M 1172 4494 \nL 1172 3500 \nL 2356 3500 \nL 2356 3053 \nL 1172 3053 \nL 1172 1153 \nQ 1172 725 1289 603 \nQ 1406 481 1766 481 \nL 2356 481 \nL 2356 0 \nL 1766 0 \nQ 1100 0 847 248 \nQ 594 497 594 1153 \nL 594 3053 \nL 172 3053 \nL 172 3500 \nL 594 3500 \nL 594 4494 \nL 1172 4494 \nz\n\" transform=\"scale(0.015625)\"/>\n      <path id=\"DejaVuSans-73\" d=\"M 2834 3397 \nL 2834 2853 \nQ 2591 2978 2328 3040 \nQ 2066 3103 1784 3103 \nQ 1356 3103 1142 2972 \nQ 928 2841 928 2578 \nQ 928 2378 1081 2264 \nQ 1234 2150 1697 2047 \nL 1894 2003 \nQ 2506 1872 2764 1633 \nQ 3022 1394 3022 966 \nQ 3022 478 2636 193 \nQ 2250 -91 1575 -91 \nQ 1294 -91 989 -36 \nQ 684 19 347 128 \nL 347 722 \nQ 666 556 975 473 \nQ 1284 391 1588 391 \nQ 1994 391 2212 530 \nQ 2431 669 2431 922 \nQ 2431 1156 2273 1281 \nQ 2116 1406 1581 1522 \nL 1381 1569 \nQ 847 1681 609 1914 \nQ 372 2147 372 2553 \nQ 372 3047 722 3315 \nQ 1072 3584 1716 3584 \nQ 2034 3584 2315 3537 \nQ 2597 3491 2834 3397 \nz\n\" transform=\"scale(0.015625)\"/>\n      <path id=\"DejaVuSans-65\" d=\"M 3597 1894 \nL 3597 1613 \nL 953 1613 \nQ 991 1019 1311 708 \nQ 1631 397 2203 397 \nQ 2534 397 2845 478 \nQ 3156 559 3463 722 \nL 3463 178 \nQ 3153 47 2828 -22 \nQ 2503 -91 2169 -91 \nQ 1331 -91 842 396 \nQ 353 884 353 1716 \nQ 353 2575 817 3079 \nQ 1281 3584 2069 3584 \nQ 2775 3584 3186 3129 \nQ 3597 2675 3597 1894 \nz\nM 3022 2063 \nQ 3016 2534 2758 2815 \nQ 2500 3097 2075 3097 \nQ 1594 3097 1305 2825 \nQ 1016 2553 972 2059 \nL 3022 2063 \nz\n\" transform=\"scale(0.015625)\"/>\n      <path id=\"DejaVuSans-20\" transform=\"scale(0.015625)\"/>\n      <path id=\"DejaVuSans-6d\" d=\"M 3328 2828 \nQ 3544 3216 3844 3400 \nQ 4144 3584 4550 3584 \nQ 5097 3584 5394 3201 \nQ 5691 2819 5691 2113 \nL 5691 0 \nL 5113 0 \nL 5113 2094 \nQ 5113 2597 4934 2840 \nQ 4756 3084 4391 3084 \nQ 3944 3084 3684 2787 \nQ 3425 2491 3425 1978 \nL 3425 0 \nL 2847 0 \nL 2847 2094 \nQ 2847 2600 2669 2842 \nQ 2491 3084 2119 3084 \nQ 1678 3084 1418 2786 \nQ 1159 2488 1159 1978 \nL 1159 0 \nL 581 0 \nL 581 3500 \nL 1159 3500 \nL 1159 2956 \nQ 1356 3278 1631 3431 \nQ 1906 3584 2284 3584 \nQ 2666 3584 2933 3390 \nQ 3200 3197 3328 2828 \nz\n\" transform=\"scale(0.015625)\"/>\n      <path id=\"DejaVuSans-70\" d=\"M 1159 525 \nL 1159 -1331 \nL 581 -1331 \nL 581 3500 \nL 1159 3500 \nL 1159 2969 \nQ 1341 3281 1617 3432 \nQ 1894 3584 2278 3584 \nQ 2916 3584 3314 3078 \nQ 3713 2572 3713 1747 \nQ 3713 922 3314 415 \nQ 2916 -91 2278 -91 \nQ 1894 -91 1617 61 \nQ 1341 213 1159 525 \nz\nM 3116 1747 \nQ 3116 2381 2855 2742 \nQ 2594 3103 2138 3103 \nQ 1681 3103 1420 2742 \nQ 1159 2381 1159 1747 \nQ 1159 1113 1420 752 \nQ 1681 391 2138 391 \nQ 2594 391 2855 752 \nQ 3116 1113 3116 1747 \nz\n\" transform=\"scale(0.015625)\"/>\n      <path id=\"DejaVuSans-6c\" d=\"M 603 4863 \nL 1178 4863 \nL 1178 0 \nL 603 0 \nL 603 4863 \nz\n\" transform=\"scale(0.015625)\"/>\n     </defs>\n     <use xlink:href=\"#DejaVuSans-44\"/>\n     <use xlink:href=\"#DejaVuSans-61\" x=\"77.001953\"/>\n     <use xlink:href=\"#DejaVuSans-74\" x=\"138.28125\"/>\n     <use xlink:href=\"#DejaVuSans-61\" x=\"177.490234\"/>\n     <use xlink:href=\"#DejaVuSans-73\" x=\"238.769531\"/>\n     <use xlink:href=\"#DejaVuSans-65\" x=\"290.869141\"/>\n     <use xlink:href=\"#DejaVuSans-74\" x=\"352.392578\"/>\n     <use xlink:href=\"#DejaVuSans-20\" x=\"391.601562\"/>\n     <use xlink:href=\"#DejaVuSans-73\" x=\"423.388672\"/>\n     <use xlink:href=\"#DejaVuSans-61\" x=\"475.488281\"/>\n     <use xlink:href=\"#DejaVuSans-6d\" x=\"536.767578\"/>\n     <use xlink:href=\"#DejaVuSans-70\" x=\"634.179688\"/>\n     <use xlink:href=\"#DejaVuSans-6c\" x=\"697.65625\"/>\n     <use xlink:href=\"#DejaVuSans-65\" x=\"725.439453\"/>\n     <use xlink:href=\"#DejaVuSans-73\" x=\"786.962891\"/>\n    </g>\n   </g>\n   <g id=\"legend_1\">\n    <g id=\"patch_7\">\n     <path d=\"M 205.450312 150.994063 \nL 280.083594 150.994063 \nQ 282.283594 150.994063 282.283594 148.794063 \nL 282.283594 117.602188 \nQ 282.283594 115.402188 280.083594 115.402188 \nL 205.450312 115.402188 \nQ 203.250313 115.402188 203.250313 117.602188 \nL 203.250313 148.794063 \nQ 203.250313 150.994063 205.450312 150.994063 \nz\n\" style=\"fill: #eaeaf2; opacity: 0.8; stroke: #cccccc; stroke-linejoin: miter\"/>\n    </g>\n    <g id=\"PathCollection_3\">\n     <g>\n      <use xlink:href=\"#mb813bab998\" x=\"218.650313\" y=\"125.272969\" style=\"fill: #4c72b0; stroke: #333333\"/>\n     </g>\n    </g>\n    <g id=\"text_18\">\n     <!-- Class 0 -->\n     <g style=\"fill: #262626\" transform=\"translate(238.450313 128.160469) scale(0.11 -0.11)\">\n      <defs>\n       <path id=\"DejaVuSans-43\" d=\"M 4122 4306 \nL 4122 3641 \nQ 3803 3938 3442 4084 \nQ 3081 4231 2675 4231 \nQ 1875 4231 1450 3742 \nQ 1025 3253 1025 2328 \nQ 1025 1406 1450 917 \nQ 1875 428 2675 428 \nQ 3081 428 3442 575 \nQ 3803 722 4122 1019 \nL 4122 359 \nQ 3791 134 3420 21 \nQ 3050 -91 2638 -91 \nQ 1578 -91 968 557 \nQ 359 1206 359 2328 \nQ 359 3453 968 4101 \nQ 1578 4750 2638 4750 \nQ 3056 4750 3426 4639 \nQ 3797 4528 4122 4306 \nz\n\" transform=\"scale(0.015625)\"/>\n      </defs>\n      <use xlink:href=\"#DejaVuSans-43\"/>\n      <use xlink:href=\"#DejaVuSans-6c\" x=\"69.824219\"/>\n      <use xlink:href=\"#DejaVuSans-61\" x=\"97.607422\"/>\n      <use xlink:href=\"#DejaVuSans-73\" x=\"158.886719\"/>\n      <use xlink:href=\"#DejaVuSans-73\" x=\"210.986328\"/>\n      <use xlink:href=\"#DejaVuSans-20\" x=\"263.085938\"/>\n      <use xlink:href=\"#DejaVuSans-30\" x=\"294.873047\"/>\n     </g>\n    </g>\n    <g id=\"PathCollection_4\">\n     <g>\n      <use xlink:href=\"#m7684d4ccc1\" x=\"218.650313\" y=\"141.418906\" style=\"fill: #dd8452; stroke: #333333\"/>\n     </g>\n    </g>\n    <g id=\"text_19\">\n     <!-- Class 1 -->\n     <g style=\"fill: #262626\" transform=\"translate(238.450313 144.306406) scale(0.11 -0.11)\">\n      <use xlink:href=\"#DejaVuSans-43\"/>\n      <use xlink:href=\"#DejaVuSans-6c\" x=\"69.824219\"/>\n      <use xlink:href=\"#DejaVuSans-61\" x=\"97.607422\"/>\n      <use xlink:href=\"#DejaVuSans-73\" x=\"158.886719\"/>\n      <use xlink:href=\"#DejaVuSans-73\" x=\"210.986328\"/>\n      <use xlink:href=\"#DejaVuSans-20\" x=\"263.085938\"/>\n      <use xlink:href=\"#DejaVuSans-31\" x=\"294.873047\"/>\n     </g>\n    </g>\n   </g>\n  </g>\n </g>\n <defs>\n  <clipPath id=\"p06f323d387\">\n   <rect x=\"66.023594\" y=\"22.318125\" width=\"221.76\" height=\"221.76\"/>\n  </clipPath>\n </defs>\n</svg>\n",
            "application/pdf": "[encoded data removed]"
          },
          "metadata": {}
        }
      ],
      "source": [
        "@torch.no_grad() # Decorator, same effect as \"with torch.no_grad(): ...\" over the whole function.\n",
        "def visualize_classification(model, data, label):\n",
        "    if isinstance(data, torch.Tensor):\n",
        "        data = data.cpu().numpy()\n",
        "    if isinstance(label, torch.Tensor):\n",
        "        label = label.cpu().numpy()\n",
        "    data_0 = data[label == 0]\n",
        "    data_1 = data[label == 1]\n",
        "\n",
        "    fig = plt.figure(figsize=(4,4), dpi=500)\n",
        "    plt.scatter(data_0[:,0], data_0[:,1], edgecolor=\"#333\", label=\"Class 0\")\n",
        "    plt.scatter(data_1[:,0], data_1[:,1], edgecolor=\"#333\", label=\"Class 1\")\n",
        "    plt.title(\"Dataset samples\")\n",
        "    plt.ylabel(r\"$x_2$\")\n",
        "    plt.xlabel(r\"$x_1$\")\n",
        "    plt.legend()\n",
        "\n",
        "    # Let's make use of a lot of operations we have learned above\n",
        "    model.to(device)\n",
        "    c0 = torch.Tensor(to_rgba(\"C0\")).to(device)\n",
        "    c1 = torch.Tensor(to_rgba(\"C1\")).to(device)\n",
        "    x1 = torch.arange(-0.5, 1.5, step=0.01, device=device)\n",
        "    x2 = torch.arange(-0.5, 1.5, step=0.01, device=device)\n",
        "    xx1, xx2 = torch.meshgrid(x1, x2, indexing='ij')  # Meshgrid function as in numpy\n",
        "    model_inputs = torch.stack([xx1, xx2], dim=-1)\n",
        "    preds = model(model_inputs)\n",
        "    preds = torch.sigmoid(preds)\n",
        "    output_image = (1 - preds) * c0[None,None] + preds * c1[None,None]  # Specifying \"None\" in a dimension creates a new one\n",
        "    output_image = output_image.cpu().numpy()  # Convert to numpy array. This only works for tensors on CPU, hence first push to CPU\n",
        "    plt.imshow(output_image, origin='lower', extent=(-0.5, 1.5, -0.5, 1.5))\n",
        "    plt.grid(False)\n",
        "    return fig\n",
        "\n",
        "_ = visualize_classification(model, dataset.data, dataset.label)\n",
        "plt.show()"
      ]
    },
    {
      "cell_type": "markdown",
      "metadata": {
        "id": "uIofusqnexHF"
      },
      "source": [
        "The decision boundaries might not look exactly as in the figure in the preamble of this section which can be caused by running it on CPU or a different GPU architecture. Nevertheless, the result on the accuracy metric should be the approximately the same."
      ]
    },
    {
      "cell_type": "markdown",
      "metadata": {
        "id": "24YVJG-LexHF"
      },
      "source": [
        "## Additional features we didn't get to discuss yet\n",
        "\n",
        "Finally, you are all set to start with your own PyTorch project! In summary, we have looked at how we can build neural networks in PyTorch, and train and test them on data. However, there is still much more to PyTorch we haven't discussed yet. In the coming series of Jupyter notebooks, we will discover more and more functionalities of PyTorch, so that you also get familiar to PyTorch concepts beyond the basics. If you are already interested in learning more of PyTorch, we recommend the official [tutorial website](https://pytorch.org/tutorials/) that contains many tutorials on various topics. Especially logging with Tensorboard ([official tutorial here](https://pytorch.org/tutorials/intermediate/tensorboard_tutorial.html)) is a good practice that we will explore further from Tutorial 5 on in combination with PyTorch Lightning.\n",
        "Nonetheless, let's check it shortly out how we could use TensorBoard in our small example."
      ]
    },
    {
      "cell_type": "markdown",
      "metadata": {
        "id": "ak0QPfYnexHF"
      },
      "source": [
        "### TensorBoard logging\n",
        "\n",
        "TensorBoard is a logging and visualization tool that is a popular choice for training deep learning models. Although initially published for TensorFlow, TensorBoard is also integrated in PyTorch allowing us to easily use it. First, let's import it below."
      ]
    },
    {
      "cell_type": "code",
      "execution_count": null,
      "metadata": {
        "id": "csTNzfyzexHF"
      },
      "outputs": [],
      "source": [
        "# Import tensorboard logger from PyTorch\n",
        "from torch.utils.tensorboard import SummaryWriter\n",
        "\n",
        "# Load tensorboard extension for Jupyter Notebook, only need to start TB in the notebook\n",
        "%load_ext tensorboard"
      ]
    },
    {
      "cell_type": "markdown",
      "metadata": {
        "id": "LWnO-jmMexHF"
      },
      "source": [
        "The last line is required if you want to run TensorBoard directly in the Jupyter Notebook. Otherwise, you can start TensorBoard from the terminal.\n",
        "\n",
        "PyTorch's TensorBoard API is simple to use. We start the logging process by creating a new object, `writer = SummaryWriter(...)`, where we specify the directory in which the logging file should be saved. With this object, we can log different aspects of our model by calling functions of the style `writer.add_...`. For example, we can visualize the computation graph with the function `writer.add_graph`, or add a scalar value like the loss with `writer.add_scalar`. Let's adapt our initial training function with adding a TensorBoard logger below."
      ]
    },
    {
      "cell_type": "code",
      "execution_count": null,
      "metadata": {
        "id": "nLZJof8wexHF"
      },
      "outputs": [],
      "source": [
        "def train_model_with_logger(model, optimizer, data_loader, loss_module, val_dataset, num_epochs=100, logging_dir='runs/our_experiment'):\n",
        "    # Create TensorBoard logger\n",
        "    writer = SummaryWriter(logging_dir)\n",
        "    model_plotted = False\n",
        "\n",
        "    # Set model to train mode\n",
        "    model.train()\n",
        "\n",
        "    # Training loop\n",
        "    for epoch in tqdm(range(num_epochs)):\n",
        "        epoch_loss = 0.0\n",
        "        for data_inputs, data_labels in data_loader:\n",
        "\n",
        "            ## Step 1: Move input data to device (only strictly necessary if we use GPU)\n",
        "            data_inputs = data_inputs.to(device)\n",
        "            data_labels = data_labels.to(device)\n",
        "\n",
        "            # For the very first batch, we visualize the computation graph in TensorBoard\n",
        "            if not model_plotted:\n",
        "                writer.add_graph(model, data_inputs)\n",
        "                model_plotted = True\n",
        "\n",
        "            ## Step 2: Run the model on the input data\n",
        "            preds = model(data_inputs)\n",
        "            preds = preds.squeeze(dim=1) # Output is [Batch size, 1], but we want [Batch size]\n",
        "\n",
        "            ## Step 3: Calculate the loss\n",
        "            loss = loss_module(preds, data_labels.float())\n",
        "\n",
        "            ## Step 4: Perform backpropagation\n",
        "            # Before calculating the gradients, we need to ensure that they are all zero.\n",
        "            # The gradients would not be overwritten, but actually added to the existing ones.\n",
        "            optimizer.zero_grad()\n",
        "            # Perform backpropagation\n",
        "            loss.backward()\n",
        "\n",
        "            ## Step 5: Update the parameters\n",
        "            optimizer.step()\n",
        "\n",
        "            ## Step 6: Take the running average of the loss\n",
        "            epoch_loss += loss.item()\n",
        "\n",
        "        # Add average loss to TensorBoard\n",
        "        epoch_loss /= len(data_loader)\n",
        "        writer.add_scalar('training_loss',\n",
        "                          epoch_loss,\n",
        "                          global_step = epoch + 1)\n",
        "\n",
        "        # Visualize prediction and add figure to TensorBoard\n",
        "        # Since matplotlib figures can be slow in rendering, we only do it every 10th epoch\n",
        "        if (epoch + 1) % 10 == 0:\n",
        "            fig = visualize_classification(model, val_dataset.data, val_dataset.label)\n",
        "            writer.add_figure('predictions',\n",
        "                              fig,\n",
        "                              global_step = epoch + 1)\n",
        "\n",
        "    writer.close()"
      ]
    },
    {
      "cell_type": "markdown",
      "metadata": {
        "id": "JvAbHNYLexHF"
      },
      "source": [
        "Let's use this method to train a model as before, with a new model and optimizer."
      ]
    },
    {
      "cell_type": "code",
      "execution_count": null,
      "metadata": {
        "id": "XlLvOiYfexHF",
        "outputId": "9c9e577f-5bfa-4f67-ccf7-c801ff32309b",
        "colab": {
          "referenced_widgets": [
            "833e50b766e34e2ba3e97ca7b91b6703"
          ]
        }
      },
      "outputs": [
        {
          "data": {
            "application/vnd.jupyter.widget-view+json": {
              "model_id": "833e50b766e34e2ba3e97ca7b91b6703",
              "version_major": 2,
              "version_minor": 0
            },
            "text/plain": [
              "  0%|          | 0/100 [00:00<?, ?it/s]"
            ]
          },
          "metadata": {},
          "output_type": "display_data"
        }
      ],
      "source": [
        "model = SimpleClassifier(num_inputs=2, num_hidden=4, num_outputs=1).to(device)\n",
        "optimizer = torch.optim.SGD(model.parameters(), lr=0.1)\n",
        "train_model_with_logger(model, optimizer, train_data_loader, loss_module, val_dataset=dataset)"
      ]
    },
    {
      "cell_type": "markdown",
      "metadata": {
        "id": "dLjY3uFRexHF"
      },
      "source": [
        "The TensorBoard file in the folder `runs/our_experiment` now contains a loss curve, the computation graph of our network, and a visualization of the learned predictions over number of epochs. To start the TensorBoard visualizer, simply run the following statement:"
      ]
    },
    {
      "cell_type": "code",
      "execution_count": null,
      "metadata": {
        "id": "Xh8hu_JHexHF"
      },
      "outputs": [],
      "source": [
        "%tensorboard --logdir runs/our_experiment"
      ]
    },
    {
      "cell_type": "markdown",
      "metadata": {
        "id": "ksudEbLzexHF"
      },
      "source": [
        "<center><img src=\"https://github.com/phlippe/uvadlc_notebooks/blob/master/docs/tutorial_notebooks/tutorial2/tensorboard_screenshot.png?raw=1\" width=\"1100px\"></center>\n",
        "\n",
        "TensorBoard visualizations can help to identify possible issues with your model, and identify situations such as overfitting. You can also track the training progress while a model is training, since the logger automatically writes everything added to it to the logging file. Feel free to explore the TensorBoard functionalities, and we will make use of TensorBoards a couple of times from Tutorial 5 on."
      ]
    },
    {
      "cell_type": "markdown",
      "metadata": {
        "id": "i_q2Vha0exHG"
      },
      "source": [
        "---\n",
        "\n",
        "[![Star our repository](https://img.shields.io/static/v1.svg?logo=star&label=⭐&message=Star%20Our%20Repository&color=yellow)](https://github.com/phlippe/uvadlc_notebooks/)  If you found this tutorial helpful, consider ⭐-ing our repository.    \n",
        "[![Ask questions](https://img.shields.io/static/v1.svg?logo=star&label=❔&message=Ask%20Questions&color=9cf)](https://github.com/phlippe/uvadlc_notebooks/issues)  For any questions, typos, or bugs that you found, please raise an issue on GitHub.\n",
        "\n",
        "---"
      ]
    }
  ],
  "metadata": {
    "kernelspec": {
      "display_name": "Python 3",
      "name": "python3"
    },
    "language_info": {
      "codemirror_mode": {
        "name": "ipython",
        "version": 3
      },
      "file_extension": ".py",
      "mimetype": "text/x-python",
      "name": "python",
      "nbconvert_exporter": "python",
      "pygments_lexer": "ipython3",
      "version": "3.10.6"
    },
    "colab": {
      "provenance": [],
      "toc_visible": true,
      "gpuType": "T4"
    },
    "accelerator": "GPU"
  },
  "nbformat": 4,
  "nbformat_minor": 0
}